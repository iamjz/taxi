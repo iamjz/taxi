{
 "cells": [
  {
   "cell_type": "code",
   "execution_count": 184,
   "metadata": {
    "collapsed": true
   },
   "outputs": [],
   "source": [
    "import pandas as pd\n",
    "import seaborn as sns\n",
    "import numpy as np\n",
    "import matplotlib.pyplot as plt\n",
    "from os import listdir\n",
    "from os.path import isfile, join\n",
    "from scipy import stats\n",
    "\n",
    "# set seaborn settings\n",
    "sns.set()\n",
    "plt.rcParams[\"patch.force_edgecolor\"] = True # set lines"
   ]
  },
  {
   "cell_type": "code",
   "execution_count": 185,
   "metadata": {
    "collapsed": true
   },
   "outputs": [],
   "source": [
    "# i'll just analyze one month first\n",
    "\n",
    "directory = \"data\\\\2016\\\\06\"\n",
    "filesList = [f for f in listdir(directory) if isfile(join(directory, f))]"
   ]
  },
  {
   "cell_type": "code",
   "execution_count": 186,
   "metadata": {},
   "outputs": [
    {
     "data": {
      "text/plain": [
       "['ChiTaxi_2016-06-01_2016-07-01_00000000000000000000.csv',\n",
       " 'ChiTaxi_2016-06-01_2016-07-01_00000000000000200000.csv',\n",
       " 'ChiTaxi_2016-06-01_2016-07-01_00000000000000400000.csv',\n",
       " 'ChiTaxi_2016-06-01_2016-07-01_00000000000000600000.csv',\n",
       " 'ChiTaxi_2016-06-01_2016-07-01_00000000000000800000.csv',\n",
       " 'ChiTaxi_2016-06-01_2016-07-01_00000000000001000000.csv',\n",
       " 'ChiTaxi_2016-06-01_2016-07-01_00000000000001200000.csv',\n",
       " 'ChiTaxi_2016-06-01_2016-07-01_00000000000001400000.csv',\n",
       " 'ChiTaxi_2016-06-01_2016-07-01_00000000000001600000.csv',\n",
       " 'ChiTaxi_2016-06-01_2016-07-01_00000000000001800000.csv']"
      ]
     },
     "execution_count": 186,
     "metadata": {},
     "output_type": "execute_result"
    }
   ],
   "source": [
    "filesList"
   ]
  },
  {
   "cell_type": "code",
   "execution_count": 187,
   "metadata": {},
   "outputs": [
    {
     "data": {
      "text/plain": [
       "1935686"
      ]
     },
     "execution_count": 187,
     "metadata": {},
     "output_type": "execute_result"
    }
   ],
   "source": [
    "df = pd.DataFrame()\n",
    "\n",
    "for file in filesList:\n",
    "    filePath = os.path.join(directory, file)\n",
    "    fileDf = pd.read_csv(filePath)\n",
    "    df = pd.concat([df, fileDf])\n",
    "    \n",
    "len(df)"
   ]
  },
  {
   "cell_type": "code",
   "execution_count": 188,
   "metadata": {},
   "outputs": [
    {
     "data": {
      "text/html": [
       "<div>\n",
       "<style>\n",
       "    .dataframe thead tr:only-child th {\n",
       "        text-align: right;\n",
       "    }\n",
       "\n",
       "    .dataframe thead th {\n",
       "        text-align: left;\n",
       "    }\n",
       "\n",
       "    .dataframe tbody tr th {\n",
       "        vertical-align: top;\n",
       "    }\n",
       "</style>\n",
       "<table border=\"1\" class=\"dataframe\">\n",
       "  <thead>\n",
       "    <tr style=\"text-align: right;\">\n",
       "      <th></th>\n",
       "      <th>0</th>\n",
       "      <th>1</th>\n",
       "    </tr>\n",
       "  </thead>\n",
       "  <tbody>\n",
       "    <tr>\n",
       "      <th>company</th>\n",
       "      <td>NaN</td>\n",
       "      <td>NaN</td>\n",
       "    </tr>\n",
       "    <tr>\n",
       "      <th>dropoff_census_tract</th>\n",
       "      <td>NaN</td>\n",
       "      <td>NaN</td>\n",
       "    </tr>\n",
       "    <tr>\n",
       "      <th>dropoff_centroid_latitude</th>\n",
       "      <td>NaN</td>\n",
       "      <td>NaN</td>\n",
       "    </tr>\n",
       "    <tr>\n",
       "      <th>dropoff_centroid_location</th>\n",
       "      <td>NaN</td>\n",
       "      <td>NaN</td>\n",
       "    </tr>\n",
       "    <tr>\n",
       "      <th>dropoff_centroid_location.coordinates</th>\n",
       "      <td>NaN</td>\n",
       "      <td>NaN</td>\n",
       "    </tr>\n",
       "    <tr>\n",
       "      <th>dropoff_centroid_location.type</th>\n",
       "      <td>NaN</td>\n",
       "      <td>NaN</td>\n",
       "    </tr>\n",
       "    <tr>\n",
       "      <th>dropoff_centroid_longitude</th>\n",
       "      <td>NaN</td>\n",
       "      <td>NaN</td>\n",
       "    </tr>\n",
       "    <tr>\n",
       "      <th>dropoff_community_area</th>\n",
       "      <td>NaN</td>\n",
       "      <td>NaN</td>\n",
       "    </tr>\n",
       "    <tr>\n",
       "      <th>extras</th>\n",
       "      <td>1</td>\n",
       "      <td>4</td>\n",
       "    </tr>\n",
       "    <tr>\n",
       "      <th>fare</th>\n",
       "      <td>10.75</td>\n",
       "      <td>43.75</td>\n",
       "    </tr>\n",
       "    <tr>\n",
       "      <th>payment_type</th>\n",
       "      <td>Cash</td>\n",
       "      <td>Credit Card</td>\n",
       "    </tr>\n",
       "    <tr>\n",
       "      <th>pickup_census_tract</th>\n",
       "      <td>NaN</td>\n",
       "      <td>NaN</td>\n",
       "    </tr>\n",
       "    <tr>\n",
       "      <th>pickup_centroid_latitude</th>\n",
       "      <td>NaN</td>\n",
       "      <td>NaN</td>\n",
       "    </tr>\n",
       "    <tr>\n",
       "      <th>pickup_centroid_location</th>\n",
       "      <td>NaN</td>\n",
       "      <td>NaN</td>\n",
       "    </tr>\n",
       "    <tr>\n",
       "      <th>pickup_centroid_location.coordinates</th>\n",
       "      <td>NaN</td>\n",
       "      <td>NaN</td>\n",
       "    </tr>\n",
       "    <tr>\n",
       "      <th>pickup_centroid_location.type</th>\n",
       "      <td>NaN</td>\n",
       "      <td>NaN</td>\n",
       "    </tr>\n",
       "    <tr>\n",
       "      <th>pickup_centroid_longitude</th>\n",
       "      <td>NaN</td>\n",
       "      <td>NaN</td>\n",
       "    </tr>\n",
       "    <tr>\n",
       "      <th>pickup_community_area</th>\n",
       "      <td>NaN</td>\n",
       "      <td>NaN</td>\n",
       "    </tr>\n",
       "    <tr>\n",
       "      <th>taxi_id</th>\n",
       "      <td>aa4c3beb61a579d4f214d3f92395a4f7bc7245a2cb21eb...</td>\n",
       "      <td>6886ad17743bd14735d9bf14bda5d28d5446edaafb75e4...</td>\n",
       "    </tr>\n",
       "    <tr>\n",
       "      <th>tips</th>\n",
       "      <td>0</td>\n",
       "      <td>7.24</td>\n",
       "    </tr>\n",
       "    <tr>\n",
       "      <th>tolls</th>\n",
       "      <td>0</td>\n",
       "      <td>0</td>\n",
       "    </tr>\n",
       "    <tr>\n",
       "      <th>trip_end_timestamp</th>\n",
       "      <td>2016-06-01T00:15:00.000</td>\n",
       "      <td>2016-06-01T00:30:00.000</td>\n",
       "    </tr>\n",
       "    <tr>\n",
       "      <th>trip_id</th>\n",
       "      <td>06ba1ca4b0d9c69b8b87ea2595d020db914f3b3b</td>\n",
       "      <td>0a4461321b4d5f6e2e8ec0d36491bddaa8bf230e</td>\n",
       "    </tr>\n",
       "    <tr>\n",
       "      <th>trip_miles</th>\n",
       "      <td>3</td>\n",
       "      <td>17.3</td>\n",
       "    </tr>\n",
       "    <tr>\n",
       "      <th>trip_seconds</th>\n",
       "      <td>660</td>\n",
       "      <td>1740</td>\n",
       "    </tr>\n",
       "    <tr>\n",
       "      <th>trip_start_timestamp</th>\n",
       "      <td>2016-06-01T00:00:00.000</td>\n",
       "      <td>2016-06-01T00:00:00.000</td>\n",
       "    </tr>\n",
       "    <tr>\n",
       "      <th>trip_total</th>\n",
       "      <td>11.75</td>\n",
       "      <td>55.49</td>\n",
       "    </tr>\n",
       "  </tbody>\n",
       "</table>\n",
       "</div>"
      ],
      "text/plain": [
       "                                                                                       0  \\\n",
       "company                                                                              NaN   \n",
       "dropoff_census_tract                                                                 NaN   \n",
       "dropoff_centroid_latitude                                                            NaN   \n",
       "dropoff_centroid_location                                                            NaN   \n",
       "dropoff_centroid_location.coordinates                                                NaN   \n",
       "dropoff_centroid_location.type                                                       NaN   \n",
       "dropoff_centroid_longitude                                                           NaN   \n",
       "dropoff_community_area                                                               NaN   \n",
       "extras                                                                                 1   \n",
       "fare                                                                               10.75   \n",
       "payment_type                                                                        Cash   \n",
       "pickup_census_tract                                                                  NaN   \n",
       "pickup_centroid_latitude                                                             NaN   \n",
       "pickup_centroid_location                                                             NaN   \n",
       "pickup_centroid_location.coordinates                                                 NaN   \n",
       "pickup_centroid_location.type                                                        NaN   \n",
       "pickup_centroid_longitude                                                            NaN   \n",
       "pickup_community_area                                                                NaN   \n",
       "taxi_id                                aa4c3beb61a579d4f214d3f92395a4f7bc7245a2cb21eb...   \n",
       "tips                                                                                   0   \n",
       "tolls                                                                                  0   \n",
       "trip_end_timestamp                                               2016-06-01T00:15:00.000   \n",
       "trip_id                                         06ba1ca4b0d9c69b8b87ea2595d020db914f3b3b   \n",
       "trip_miles                                                                             3   \n",
       "trip_seconds                                                                         660   \n",
       "trip_start_timestamp                                             2016-06-01T00:00:00.000   \n",
       "trip_total                                                                         11.75   \n",
       "\n",
       "                                                                                       1  \n",
       "company                                                                              NaN  \n",
       "dropoff_census_tract                                                                 NaN  \n",
       "dropoff_centroid_latitude                                                            NaN  \n",
       "dropoff_centroid_location                                                            NaN  \n",
       "dropoff_centroid_location.coordinates                                                NaN  \n",
       "dropoff_centroid_location.type                                                       NaN  \n",
       "dropoff_centroid_longitude                                                           NaN  \n",
       "dropoff_community_area                                                               NaN  \n",
       "extras                                                                                 4  \n",
       "fare                                                                               43.75  \n",
       "payment_type                                                                 Credit Card  \n",
       "pickup_census_tract                                                                  NaN  \n",
       "pickup_centroid_latitude                                                             NaN  \n",
       "pickup_centroid_location                                                             NaN  \n",
       "pickup_centroid_location.coordinates                                                 NaN  \n",
       "pickup_centroid_location.type                                                        NaN  \n",
       "pickup_centroid_longitude                                                            NaN  \n",
       "pickup_community_area                                                                NaN  \n",
       "taxi_id                                6886ad17743bd14735d9bf14bda5d28d5446edaafb75e4...  \n",
       "tips                                                                                7.24  \n",
       "tolls                                                                                  0  \n",
       "trip_end_timestamp                                               2016-06-01T00:30:00.000  \n",
       "trip_id                                         0a4461321b4d5f6e2e8ec0d36491bddaa8bf230e  \n",
       "trip_miles                                                                          17.3  \n",
       "trip_seconds                                                                        1740  \n",
       "trip_start_timestamp                                             2016-06-01T00:00:00.000  \n",
       "trip_total                                                                         55.49  "
      ]
     },
     "execution_count": 188,
     "metadata": {},
     "output_type": "execute_result"
    }
   ],
   "source": [
    "df.head(2).transpose()"
   ]
  },
  {
   "cell_type": "code",
   "execution_count": 189,
   "metadata": {},
   "outputs": [],
   "source": [
    "# i'm interested in the following columns for now:\n",
    "\n",
    "interestedCols = [\"taxi_id\", \"tolls\", \"trip_start_timestamp\", \"trip_end_timestamp\", \"company\", \"dropoff_centroid_longitude\", \\\n",
    "\"dropoff_centroid_latitude\", \"fare\", \"payment_type\", \"pickup_centroid_latitude\", \"pickup_centroid_longitude\", \\\n",
    "\"dropoff_community_area\", \"pickup_community_area\", \"tips\", \"trip_miles\", \"trip_seconds\", \"trip_total\"]\n",
    "\n",
    "trips = df[interestedCols]"
   ]
  },
  {
   "cell_type": "code",
   "execution_count": 190,
   "metadata": {},
   "outputs": [],
   "source": [
    "def removeOutliers(data):   \n",
    "    data = data.astype(float).fillna(0.0)\n",
    "    print(\"Started with \", len(data), \"values\")\n",
    "    Q75, Q25 = np.percentile(data, [75, 25])\n",
    "    IQR = Q75 - Q25\n",
    "    min = Q25 - (IQR * 1.5)\n",
    "    max = Q75 + (IQR * 1.5)\n",
    "    data = np.array(data)\n",
    "    result = data[np.where((data >= min) & (data <= max))]\n",
    "    print(\"Ended with \", len(result), \"values\")\n",
    "    print(\"==================\")\n",
    "    print(stats.describe(result))\n",
    "    return(result)"
   ]
  },
  {
   "cell_type": "code",
   "execution_count": 191,
   "metadata": {},
   "outputs": [
    {
     "name": "stdout",
     "output_type": "stream",
     "text": [
      "Started with  1935686 values\n",
      "Ended with  1690357 values\n",
      "==================\n",
      "DescribeResult(nobs=1690357, minmax=(0.0, 6.9900000000000002), mean=1.2677650934092621, variance=2.1703477310650712, skewness=1.5368862883614511, kurtosis=2.1131472244087366)\n"
     ]
    }
   ],
   "source": [
    "tripMiles = removeOutliers(trips[\"trip_miles\"])"
   ]
  },
  {
   "cell_type": "code",
   "execution_count": 192,
   "metadata": {},
   "outputs": [
    {
     "data": {
      "image/png": "[encoded data removed]",
      "text/plain": [
       "<matplotlib.figure.Figure at 0x27f024149b0>"
      ]
     },
     "metadata": {},
     "output_type": "display_data"
    }
   ],
   "source": [
    "# trips_miles\n",
    "\n",
    "_ = plt.hist(tripMiles, bins = 30)\n",
    "_ = plt.xlabel(\"Miles\")\n",
    "_ = plt.ylabel(\"Number of Trips\")\n",
    "_ = plt.title(\"Miles for each trip\")\n",
    "plt.show()"
   ]
  },
  {
   "cell_type": "code",
   "execution_count": 193,
   "metadata": {},
   "outputs": [
    {
     "name": "stdout",
     "output_type": "stream",
     "text": [
      "Started with  1935686 values\n",
      "Ended with  1647879 values\n",
      "==================\n",
      "DescribeResult(nobs=1647879, minmax=(0.0, 32.100000000000001), mean=11.01538356881786, variance=28.958896657841613, skewness=1.3129783734404175, kurtosis=1.8007932322567486)\n"
     ]
    }
   ],
   "source": [
    "tripTotal = removeOutliers(trips[\"trip_total\"])"
   ]
  },
  {
   "cell_type": "code",
   "execution_count": 194,
   "metadata": {},
   "outputs": [
    {
     "data": {
      "image/png": "[encoded data removed]",
      "text/plain": [
       "<matplotlib.figure.Figure at 0x27f392795f8>"
      ]
     },
     "metadata": {},
     "output_type": "display_data"
    }
   ],
   "source": [
    "# trip total $\n",
    "_ = plt.hist(tripTotal, bins = 30)\n",
    "_ = plt.xlabel(\"Total Price\")\n",
    "_ = plt.ylabel(\"Number of Trips\")\n",
    "_ = plt.title(\"Price for each trip\")\n",
    "plt.show()"
   ]
  },
  {
   "cell_type": "code",
   "execution_count": 195,
   "metadata": {},
   "outputs": [
    {
     "name": "stdout",
     "output_type": "stream",
     "text": [
      "Started with  1935686 values\n",
      "Ended with  1769547 values\n",
      "==================\n",
      "DescribeResult(nobs=1769547, minmax=(0.0, 1950.0), mean=599.28849530416539, variance=195660.8936933068, skewness=0.8111628988715021, kurtosis=0.2804914789280253)\n"
     ]
    }
   ],
   "source": [
    "tripDuration = removeOutliers(trips[\"trip_seconds\"])"
   ]
  },
  {
   "cell_type": "code",
   "execution_count": 196,
   "metadata": {},
   "outputs": [
    {
     "data": {
      "image/png": "[encoded data removed]",
      "text/plain": [
       "<matplotlib.figure.Figure at 0x27f1db10a58>"
      ]
     },
     "metadata": {},
     "output_type": "display_data"
    }
   ],
   "source": [
    "# trip duration (seconds)\n",
    "_ = plt.hist(tripDuration)\n",
    "_ = plt.xlabel(\"Duration (seconds)\")\n",
    "_ = plt.ylabel(\"Number of Trips\")\n",
    "_ = plt.title(\"Duration (seconds) for each trip\")\n",
    "plt.show()"
   ]
  },
  {
   "cell_type": "code",
   "execution_count": 198,
   "metadata": {},
   "outputs": [
    {
     "data": {
      "image/png": "[encoded data removed]",
      "text/plain": [
       "<matplotlib.figure.Figure at 0x27f43dc3908>"
      ]
     },
     "metadata": {},
     "output_type": "display_data"
    }
   ],
   "source": [
    "_ = sns.boxplot(x = \"payment_type\", y = \"fare\", data = trips, showfliers = False)\n",
    "_ = plt.xlabel(\"Payment Types\")\n",
    "_ = plt.ylabel(\"Fare $\")\n",
    "plt.show()"
   ]
  },
  {
   "cell_type": "code",
   "execution_count": null,
   "metadata": {
    "collapsed": true
   },
   "outputs": [],
   "source": []
  }
 ],
 "metadata": {
  "kernelspec": {
   "display_name": "Python 3",
   "language": "python",
   "name": "python3"
  },
  "language_info": {
   "codemirror_mode": {
    "name": "ipython",
    "version": 3
   },
   "file_extension": ".py",
   "mimetype": "text/x-python",
   "name": "python",
   "nbconvert_exporter": "python",
   "pygments_lexer": "ipython3",
   "version": "3.6.1"
  }
 },
 "nbformat": 4,
 "nbformat_minor": 2
}
