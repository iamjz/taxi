{
 "cells": [
  {
   "cell_type": "code",
   "execution_count": 27,
   "metadata": {},
   "outputs": [],
   "source": [
    "import pandas as pd\n",
    "import seaborn as sns\n",
    "import numpy as np\n",
    "import matplotlib.pyplot as plt\n",
    "from os import listdir\n",
    "from os.path import isfile, join\n",
    "from scipy import stats\n",
    "import time\n",
    "\n",
    "# set seaborn settings\n",
    "sns.set()\n",
    "plt.rcParams[\"patch.force_edgecolor\"] = True # set lines\n",
    "sns.set_style(\"whitegrid\")\n",
    "\n",
    "import warnings\n",
    "warnings.filterwarnings('ignore')\n",
    "\n",
    "## import custom helper functions\n",
    "import helpers as h"
   ]
  },
  {
   "cell_type": "code",
   "execution_count": 28,
   "metadata": {
    "collapsed": true
   },
   "outputs": [],
   "source": [
    "econ = pd.read_csv(\"data/Chicago_Socioeconomic.csv\")"
   ]
  },
  {
   "cell_type": "code",
   "execution_count": 54,
   "metadata": {},
   "outputs": [
    {
     "data": {
      "text/html": [
       "<div>\n",
       "<style>\n",
       "    .dataframe thead tr:only-child th {\n",
       "        text-align: right;\n",
       "    }\n",
       "\n",
       "    .dataframe thead th {\n",
       "        text-align: left;\n",
       "    }\n",
       "\n",
       "    .dataframe tbody tr th {\n",
       "        vertical-align: top;\n",
       "    }\n",
       "</style>\n",
       "<table border=\"1\" class=\"dataframe\">\n",
       "  <thead>\n",
       "    <tr style=\"text-align: right;\">\n",
       "      <th></th>\n",
       "      <th>Community Area Number</th>\n",
       "      <th>COMMUNITY AREA NAME</th>\n",
       "      <th>PERCENT OF HOUSING CROWDED</th>\n",
       "      <th>PERCENT HOUSEHOLDS BELOW POVERTY</th>\n",
       "      <th>PERCENT AGED 16+ UNEMPLOYED</th>\n",
       "      <th>PERCENT AGED 25+ WITHOUT HIGH SCHOOL DIPLOMA</th>\n",
       "      <th>PERCENT AGED UNDER 18 OR OVER 64</th>\n",
       "      <th>PER CAPITA INCOME</th>\n",
       "      <th>HARDSHIP INDEX</th>\n",
       "    </tr>\n",
       "  </thead>\n",
       "  <tbody>\n",
       "    <tr>\n",
       "      <th>0</th>\n",
       "      <td>1</td>\n",
       "      <td>Rogers Park</td>\n",
       "      <td>7.7</td>\n",
       "      <td>23.6</td>\n",
       "      <td>8.7</td>\n",
       "      <td>18.2</td>\n",
       "      <td>27.5</td>\n",
       "      <td>23939</td>\n",
       "      <td>39</td>\n",
       "    </tr>\n",
       "    <tr>\n",
       "      <th>1</th>\n",
       "      <td>2</td>\n",
       "      <td>West Ridge</td>\n",
       "      <td>7.8</td>\n",
       "      <td>17.2</td>\n",
       "      <td>8.8</td>\n",
       "      <td>20.8</td>\n",
       "      <td>38.5</td>\n",
       "      <td>23040</td>\n",
       "      <td>46</td>\n",
       "    </tr>\n",
       "    <tr>\n",
       "      <th>2</th>\n",
       "      <td>3</td>\n",
       "      <td>Uptown</td>\n",
       "      <td>3.8</td>\n",
       "      <td>24.0</td>\n",
       "      <td>8.9</td>\n",
       "      <td>11.8</td>\n",
       "      <td>22.2</td>\n",
       "      <td>35787</td>\n",
       "      <td>20</td>\n",
       "    </tr>\n",
       "    <tr>\n",
       "      <th>3</th>\n",
       "      <td>4</td>\n",
       "      <td>Lincoln Square</td>\n",
       "      <td>3.4</td>\n",
       "      <td>10.9</td>\n",
       "      <td>8.2</td>\n",
       "      <td>13.4</td>\n",
       "      <td>25.5</td>\n",
       "      <td>37524</td>\n",
       "      <td>17</td>\n",
       "    </tr>\n",
       "    <tr>\n",
       "      <th>4</th>\n",
       "      <td>5</td>\n",
       "      <td>North Center</td>\n",
       "      <td>0.3</td>\n",
       "      <td>7.5</td>\n",
       "      <td>5.2</td>\n",
       "      <td>4.5</td>\n",
       "      <td>26.2</td>\n",
       "      <td>57123</td>\n",
       "      <td>6</td>\n",
       "    </tr>\n",
       "  </tbody>\n",
       "</table>\n",
       "</div>"
      ],
      "text/plain": [
       "   Community Area Number COMMUNITY AREA NAME  PERCENT OF HOUSING CROWDED  \\\n",
       "0                      1         Rogers Park                         7.7   \n",
       "1                      2          West Ridge                         7.8   \n",
       "2                      3              Uptown                         3.8   \n",
       "3                      4      Lincoln Square                         3.4   \n",
       "4                      5        North Center                         0.3   \n",
       "\n",
       "   PERCENT HOUSEHOLDS BELOW POVERTY  PERCENT AGED 16+ UNEMPLOYED  \\\n",
       "0                              23.6                          8.7   \n",
       "1                              17.2                          8.8   \n",
       "2                              24.0                          8.9   \n",
       "3                              10.9                          8.2   \n",
       "4                               7.5                          5.2   \n",
       "\n",
       "   PERCENT AGED 25+ WITHOUT HIGH SCHOOL DIPLOMA  \\\n",
       "0                                          18.2   \n",
       "1                                          20.8   \n",
       "2                                          11.8   \n",
       "3                                          13.4   \n",
       "4                                           4.5   \n",
       "\n",
       "   PERCENT AGED UNDER 18 OR OVER 64  PER CAPITA INCOME   HARDSHIP INDEX  \n",
       "0                              27.5               23939              39  \n",
       "1                              38.5               23040              46  \n",
       "2                              22.2               35787              20  \n",
       "3                              25.5               37524              17  \n",
       "4                              26.2               57123               6  "
      ]
     },
     "execution_count": 54,
     "metadata": {},
     "output_type": "execute_result"
    }
   ],
   "source": [
    "econ.head()"
   ]
  },
  {
   "cell_type": "code",
   "execution_count": 56,
   "metadata": {},
   "outputs": [
    {
     "data": {
      "text/html": [
       "<div>\n",
       "<style>\n",
       "    .dataframe thead tr:only-child th {\n",
       "        text-align: right;\n",
       "    }\n",
       "\n",
       "    .dataframe thead th {\n",
       "        text-align: left;\n",
       "    }\n",
       "\n",
       "    .dataframe tbody tr th {\n",
       "        vertical-align: top;\n",
       "    }\n",
       "</style>\n",
       "<table border=\"1\" class=\"dataframe\">\n",
       "  <thead>\n",
       "    <tr style=\"text-align: right;\">\n",
       "      <th></th>\n",
       "      <th>CommunityAreaNumber</th>\n",
       "      <th>CommunityAreaName</th>\n",
       "      <th>PercentHousingCrowded</th>\n",
       "      <th>PercentBelowPoverty</th>\n",
       "      <th>PercentUnemployed</th>\n",
       "      <th>PercentNoHsDiploma</th>\n",
       "      <th>PercentUnder18OrOver64</th>\n",
       "      <th>PercentCapitaIncome</th>\n",
       "      <th>HardshipIndex</th>\n",
       "    </tr>\n",
       "  </thead>\n",
       "  <tbody>\n",
       "    <tr>\n",
       "      <th>0</th>\n",
       "      <td>1</td>\n",
       "      <td>Rogers Park</td>\n",
       "      <td>7.7</td>\n",
       "      <td>23.6</td>\n",
       "      <td>8.7</td>\n",
       "      <td>18.2</td>\n",
       "      <td>27.5</td>\n",
       "      <td>23939</td>\n",
       "      <td>39</td>\n",
       "    </tr>\n",
       "    <tr>\n",
       "      <th>1</th>\n",
       "      <td>2</td>\n",
       "      <td>West Ridge</td>\n",
       "      <td>7.8</td>\n",
       "      <td>17.2</td>\n",
       "      <td>8.8</td>\n",
       "      <td>20.8</td>\n",
       "      <td>38.5</td>\n",
       "      <td>23040</td>\n",
       "      <td>46</td>\n",
       "    </tr>\n",
       "    <tr>\n",
       "      <th>2</th>\n",
       "      <td>3</td>\n",
       "      <td>Uptown</td>\n",
       "      <td>3.8</td>\n",
       "      <td>24.0</td>\n",
       "      <td>8.9</td>\n",
       "      <td>11.8</td>\n",
       "      <td>22.2</td>\n",
       "      <td>35787</td>\n",
       "      <td>20</td>\n",
       "    </tr>\n",
       "    <tr>\n",
       "      <th>3</th>\n",
       "      <td>4</td>\n",
       "      <td>Lincoln Square</td>\n",
       "      <td>3.4</td>\n",
       "      <td>10.9</td>\n",
       "      <td>8.2</td>\n",
       "      <td>13.4</td>\n",
       "      <td>25.5</td>\n",
       "      <td>37524</td>\n",
       "      <td>17</td>\n",
       "    </tr>\n",
       "    <tr>\n",
       "      <th>4</th>\n",
       "      <td>5</td>\n",
       "      <td>North Center</td>\n",
       "      <td>0.3</td>\n",
       "      <td>7.5</td>\n",
       "      <td>5.2</td>\n",
       "      <td>4.5</td>\n",
       "      <td>26.2</td>\n",
       "      <td>57123</td>\n",
       "      <td>6</td>\n",
       "    </tr>\n",
       "  </tbody>\n",
       "</table>\n",
       "</div>"
      ],
      "text/plain": [
       "   CommunityAreaNumber CommunityAreaName  PercentHousingCrowded  \\\n",
       "0                    1       Rogers Park                    7.7   \n",
       "1                    2        West Ridge                    7.8   \n",
       "2                    3            Uptown                    3.8   \n",
       "3                    4    Lincoln Square                    3.4   \n",
       "4                    5      North Center                    0.3   \n",
       "\n",
       "   PercentBelowPoverty  PercentUnemployed  PercentNoHsDiploma  \\\n",
       "0                 23.6                8.7                18.2   \n",
       "1                 17.2                8.8                20.8   \n",
       "2                 24.0                8.9                11.8   \n",
       "3                 10.9                8.2                13.4   \n",
       "4                  7.5                5.2                 4.5   \n",
       "\n",
       "   PercentUnder18OrOver64  PercentCapitaIncome  HardshipIndex  \n",
       "0                    27.5                23939             39  \n",
       "1                    38.5                23040             46  \n",
       "2                    22.2                35787             20  \n",
       "3                    25.5                37524             17  \n",
       "4                    26.2                57123              6  "
      ]
     },
     "execution_count": 56,
     "metadata": {},
     "output_type": "execute_result"
    }
   ],
   "source": [
    "newEconColumns = [\"CommunityAreaNumber\", \"CommunityAreaName\", \"PercentHousingCrowded\", \\\n",
    "                  \"PercentBelowPoverty\", \"PercentUnemployed\", \"PercentNoHsDiploma\", \"PercentUnder18OrOver64\", \\\n",
    "                  \"PercentCapitaIncome\", \"HardshipIndex\"]\n",
    "\n",
    "econ.columns = newEconColumns\n",
    "\n",
    "econ.head()"
   ]
  },
  {
   "cell_type": "code",
   "execution_count": 2,
   "metadata": {},
   "outputs": [],
   "source": [
    "fallDf = pd.read_csv(\"data/2016/fall.csv\")\n",
    "winterDf = pd.read_csv(\"data/2016/winter.csv\")\n",
    "springDf = pd.read_csv(\"data/2016/spring.csv\")\n",
    "summerDf = pd.read_csv(\"data/2016/summer.csv\")"
   ]
  },
  {
   "cell_type": "code",
   "execution_count": 3,
   "metadata": {
    "collapsed": true
   },
   "outputs": [],
   "source": [
    "# i don't wanna work on the entire dataset. \n",
    "# taking a fraction only.\n",
    "\n",
    "fallFrac = fallDf.sample(frac = 0.02)\n",
    "winterFrac = winterDf.sample(frac = 0.02)\n",
    "springFrac = springDf.sample(frac = 0.02)\n",
    "summerFrac = summerDf.sample(frac = 0.02)"
   ]
  },
  {
   "cell_type": "code",
   "execution_count": 4,
   "metadata": {},
   "outputs": [],
   "source": [
    "fall = h.convertDataType(fallFrac)\n",
    "winter = h.convertDataType(winterFrac)\n",
    "spring = h.convertDataType(springFrac)\n",
    "summer = h.convertDataType(summerFrac)"
   ]
  },
  {
   "cell_type": "code",
   "execution_count": 5,
   "metadata": {},
   "outputs": [
    {
     "name": "stdout",
     "output_type": "stream",
     "text": [
      "397566\n"
     ]
    }
   ],
   "source": [
    "fall[\"season\"] = \"Fall\"\n",
    "winter[\"season\"] = \"Winter\"\n",
    "spring[\"season\"] = \"Spring\"\n",
    "summer[\"season\"] = \"Summer\"\n",
    "\n",
    "\n",
    "all = pd.DataFrame()\n",
    "all = pd.concat([fall, winter, spring, summer])\n",
    "print(len(all))"
   ]
  },
  {
   "cell_type": "code",
   "execution_count": 58,
   "metadata": {},
   "outputs": [
    {
     "data": {
      "text/html": [
       "<div>\n",
       "<style>\n",
       "    .dataframe thead tr:only-child th {\n",
       "        text-align: right;\n",
       "    }\n",
       "\n",
       "    .dataframe thead th {\n",
       "        text-align: left;\n",
       "    }\n",
       "\n",
       "    .dataframe tbody tr th {\n",
       "        vertical-align: top;\n",
       "    }\n",
       "</style>\n",
       "<table border=\"1\" class=\"dataframe\">\n",
       "  <thead>\n",
       "    <tr style=\"text-align: right;\">\n",
       "      <th></th>\n",
       "      <th>taxi_id</th>\n",
       "      <th>tolls</th>\n",
       "      <th>trip_start_timestamp</th>\n",
       "      <th>trip_end_timestamp</th>\n",
       "      <th>company</th>\n",
       "      <th>dropoff_centroid_longitude</th>\n",
       "      <th>dropoff_centroid_latitude</th>\n",
       "      <th>fare</th>\n",
       "      <th>payment_type</th>\n",
       "      <th>pickup_centroid_latitude</th>\n",
       "      <th>pickup_centroid_longitude</th>\n",
       "      <th>dropoff_community_area</th>\n",
       "      <th>pickup_community_area</th>\n",
       "      <th>tips</th>\n",
       "      <th>trip_miles</th>\n",
       "      <th>trip_seconds</th>\n",
       "      <th>trip_total</th>\n",
       "      <th>season</th>\n",
       "    </tr>\n",
       "  </thead>\n",
       "  <tbody>\n",
       "    <tr>\n",
       "      <th>2649262</th>\n",
       "      <td>051860e3c741ca913589b6e880d4468f31c867f790a9d5...</td>\n",
       "      <td>0.0</td>\n",
       "      <td>10/28/2016 08:30 PM</td>\n",
       "      <td>10/28/2016 08:30 PM</td>\n",
       "      <td>Dispatch Taxi Affiliation</td>\n",
       "      <td>-87.699155</td>\n",
       "      <td>41.922761</td>\n",
       "      <td>8.00</td>\n",
       "      <td>Credit Card</td>\n",
       "      <td>41.922686</td>\n",
       "      <td>-87.649489</td>\n",
       "      <td>22.0</td>\n",
       "      <td>7.0</td>\n",
       "      <td>3.0</td>\n",
       "      <td>1.7</td>\n",
       "      <td>600.0</td>\n",
       "      <td>11.00</td>\n",
       "      <td>Fall</td>\n",
       "    </tr>\n",
       "    <tr>\n",
       "      <th>1948772</th>\n",
       "      <td>a149c6df861b2eff6f27491e024e37d2c3705aa5399c31...</td>\n",
       "      <td>0.0</td>\n",
       "      <td>10/15/2016 02:15 AM</td>\n",
       "      <td>10/15/2016 02:15 AM</td>\n",
       "      <td>Choice Taxi Association</td>\n",
       "      <td>-87.663416</td>\n",
       "      <td>41.986712</td>\n",
       "      <td>7.75</td>\n",
       "      <td>Cash</td>\n",
       "      <td>41.944227</td>\n",
       "      <td>-87.655998</td>\n",
       "      <td>77.0</td>\n",
       "      <td>6.0</td>\n",
       "      <td>0.0</td>\n",
       "      <td>1.9</td>\n",
       "      <td>420.0</td>\n",
       "      <td>8.75</td>\n",
       "      <td>Fall</td>\n",
       "    </tr>\n",
       "    <tr>\n",
       "      <th>273440</th>\n",
       "      <td>2841af57ad74ceb11ec191aabf72dc6bec590ee4ac1650...</td>\n",
       "      <td>0.0</td>\n",
       "      <td>09/07/2016 05:30 PM</td>\n",
       "      <td>09/07/2016 05:45 PM</td>\n",
       "      <td>NaN</td>\n",
       "      <td>-87.657233</td>\n",
       "      <td>41.885281</td>\n",
       "      <td>9.00</td>\n",
       "      <td>Credit Card</td>\n",
       "      <td>41.880994</td>\n",
       "      <td>-87.632746</td>\n",
       "      <td>28.0</td>\n",
       "      <td>32.0</td>\n",
       "      <td>2.0</td>\n",
       "      <td>1.2</td>\n",
       "      <td>900.0</td>\n",
       "      <td>13.50</td>\n",
       "      <td>Fall</td>\n",
       "    </tr>\n",
       "    <tr>\n",
       "      <th>1463017</th>\n",
       "      <td>504a1b4f538f553ab7f1df4779a1f74726ebfc7805fde9...</td>\n",
       "      <td>0.0</td>\n",
       "      <td>10/05/2016 10:00 AM</td>\n",
       "      <td>10/05/2016 10:15 AM</td>\n",
       "      <td>NaN</td>\n",
       "      <td>NaN</td>\n",
       "      <td>NaN</td>\n",
       "      <td>7.75</td>\n",
       "      <td>Cash</td>\n",
       "      <td>NaN</td>\n",
       "      <td>NaN</td>\n",
       "      <td>NaN</td>\n",
       "      <td>NaN</td>\n",
       "      <td>0.0</td>\n",
       "      <td>1.8</td>\n",
       "      <td>480.0</td>\n",
       "      <td>7.75</td>\n",
       "      <td>Fall</td>\n",
       "    </tr>\n",
       "    <tr>\n",
       "      <th>636907</th>\n",
       "      <td>336daf1932c8e5509a5e4e9ce8f0562342e81e99e91274...</td>\n",
       "      <td>0.0</td>\n",
       "      <td>09/17/2016 07:45 PM</td>\n",
       "      <td>09/17/2016 08:15 PM</td>\n",
       "      <td>Taxi Affiliation Services</td>\n",
       "      <td>-87.687516</td>\n",
       "      <td>41.975171</td>\n",
       "      <td>23.50</td>\n",
       "      <td>Cash</td>\n",
       "      <td>41.899602</td>\n",
       "      <td>-87.633308</td>\n",
       "      <td>4.0</td>\n",
       "      <td>8.0</td>\n",
       "      <td>0.0</td>\n",
       "      <td>0.4</td>\n",
       "      <td>1500.0</td>\n",
       "      <td>24.50</td>\n",
       "      <td>Fall</td>\n",
       "    </tr>\n",
       "  </tbody>\n",
       "</table>\n",
       "</div>"
      ],
      "text/plain": [
       "                                                   taxi_id  tolls  \\\n",
       "2649262  051860e3c741ca913589b6e880d4468f31c867f790a9d5...    0.0   \n",
       "1948772  a149c6df861b2eff6f27491e024e37d2c3705aa5399c31...    0.0   \n",
       "273440   2841af57ad74ceb11ec191aabf72dc6bec590ee4ac1650...    0.0   \n",
       "1463017  504a1b4f538f553ab7f1df4779a1f74726ebfc7805fde9...    0.0   \n",
       "636907   336daf1932c8e5509a5e4e9ce8f0562342e81e99e91274...    0.0   \n",
       "\n",
       "        trip_start_timestamp   trip_end_timestamp                    company  \\\n",
       "2649262  10/28/2016 08:30 PM  10/28/2016 08:30 PM  Dispatch Taxi Affiliation   \n",
       "1948772  10/15/2016 02:15 AM  10/15/2016 02:15 AM    Choice Taxi Association   \n",
       "273440   09/07/2016 05:30 PM  09/07/2016 05:45 PM                        NaN   \n",
       "1463017  10/05/2016 10:00 AM  10/05/2016 10:15 AM                        NaN   \n",
       "636907   09/17/2016 07:45 PM  09/17/2016 08:15 PM  Taxi Affiliation Services   \n",
       "\n",
       "         dropoff_centroid_longitude  dropoff_centroid_latitude   fare  \\\n",
       "2649262                  -87.699155                  41.922761   8.00   \n",
       "1948772                  -87.663416                  41.986712   7.75   \n",
       "273440                   -87.657233                  41.885281   9.00   \n",
       "1463017                         NaN                        NaN   7.75   \n",
       "636907                   -87.687516                  41.975171  23.50   \n",
       "\n",
       "        payment_type  pickup_centroid_latitude  pickup_centroid_longitude  \\\n",
       "2649262  Credit Card                 41.922686                 -87.649489   \n",
       "1948772         Cash                 41.944227                 -87.655998   \n",
       "273440   Credit Card                 41.880994                 -87.632746   \n",
       "1463017         Cash                       NaN                        NaN   \n",
       "636907          Cash                 41.899602                 -87.633308   \n",
       "\n",
       "         dropoff_community_area  pickup_community_area  tips  trip_miles  \\\n",
       "2649262                    22.0                    7.0   3.0         1.7   \n",
       "1948772                    77.0                    6.0   0.0         1.9   \n",
       "273440                     28.0                   32.0   2.0         1.2   \n",
       "1463017                     NaN                    NaN   0.0         1.8   \n",
       "636907                      4.0                    8.0   0.0         0.4   \n",
       "\n",
       "         trip_seconds  trip_total season  \n",
       "2649262         600.0       11.00   Fall  \n",
       "1948772         420.0        8.75   Fall  \n",
       "273440          900.0       13.50   Fall  \n",
       "1463017         480.0        7.75   Fall  \n",
       "636907         1500.0       24.50   Fall  "
      ]
     },
     "execution_count": 58,
     "metadata": {},
     "output_type": "execute_result"
    }
   ],
   "source": [
    "all.head()"
   ]
  },
  {
   "cell_type": "markdown",
   "metadata": {},
   "source": [
    "Now I have sampled version of each seasons. I'd like to look through the earnings of each company throughout each season to see who earns more. For the sake of simplicity, I'll just look at the \"trip_total\" column for comparison. "
   ]
  },
  {
   "cell_type": "code",
   "execution_count": 6,
   "metadata": {},
   "outputs": [
    {
     "data": {
      "image/png": "[encoded data removed]",
      "text/plain": [
       "<matplotlib.figure.Figure at 0x221f160a8d0>"
      ]
     },
     "metadata": {},
     "output_type": "display_data"
    }
   ],
   "source": [
    "h.buildHistogram(all[\"trip_total\"])"
   ]
  },
  {
   "cell_type": "code",
   "execution_count": 7,
   "metadata": {},
   "outputs": [
    {
     "data": {
      "image/png": "[encoded data removed]",
      "text/plain": [
       "<matplotlib.figure.Figure at 0x221f160a908>"
      ]
     },
     "metadata": {},
     "output_type": "display_data"
    }
   ],
   "source": [
    "h.buildECDF(all[\"trip_total\"])"
   ]
  },
  {
   "cell_type": "code",
   "execution_count": 8,
   "metadata": {},
   "outputs": [
    {
     "data": {
      "text/plain": [
       "count    397566.000000\n",
       "mean         16.569367\n",
       "std          31.026153\n",
       "min           0.000000\n",
       "25%           7.330000\n",
       "50%          10.000000\n",
       "75%          16.500000\n",
       "max        9050.920000\n",
       "Name: trip_total, dtype: float64"
      ]
     },
     "execution_count": 8,
     "metadata": {},
     "output_type": "execute_result"
    }
   ],
   "source": [
    "all[\"trip_total\"].describe()"
   ]
  },
  {
   "cell_type": "markdown",
   "metadata": {},
   "source": [
    "## Comparing seasonal earnings"
   ]
  },
  {
   "cell_type": "code",
   "execution_count": 9,
   "metadata": {},
   "outputs": [
    {
     "data": {
      "image/png": "[encoded data removed]",
      "text/plain": [
       "<matplotlib.figure.Figure at 0x22190703fd0>"
      ]
     },
     "metadata": {},
     "output_type": "display_data"
    }
   ],
   "source": [
    "# Generate CDFs\n",
    "x_winter, y_winter = h.getECDF(winter[\"trip_total\"])\n",
    "x_fall, y_fall = h.getECDF(fall[\"trip_total\"])\n",
    "x_summer, y_summer = h.getECDF(summer[\"trip_total\"])\n",
    "x_spring, y_spring = h.getECDF(spring[\"trip_total\"])\n",
    "\n",
    "# plot CDFs\n",
    "_ = plt.plot(x_winter, y_winter, marker = \".\", linestyle = \"none\")\n",
    "_ = plt.plot(x_fall, y_fall, marker = \".\", linestyle = \"none\")\n",
    "_ = plt.plot(x_summer, y_summer, marker = \".\", linestyle = \"none\")\n",
    "_ = plt.plot(x_spring, y_spring, marker = \".\", linestyle = \"none\")\n",
    "\n",
    "# Make 2% margin\n",
    "plt.margins(0.02)\n",
    "\n",
    "# Make a legend and show the plot\n",
    "_ = plt.legend(('Winter', 'Fall', 'Summer', 'Spring'), loc='lower right')\n",
    "\n",
    "_ = plt.xlabel(\"Total Fare ($)\")\n",
    "_ = plt.ylabel(\"ECDF\")\n",
    "plt.show()"
   ]
  },
  {
   "cell_type": "markdown",
   "metadata": {},
   "source": [
    "It's bit hard to tell but Summer might yield better earnings than Winter. One possible reason is that people might be more open to going out to events during the Summer than Winter. Let's take a better look."
   ]
  },
  {
   "cell_type": "code",
   "execution_count": 10,
   "metadata": {},
   "outputs": [
    {
     "data": {
      "image/png": "[encoded data removed]",
      "text/plain": [
       "<matplotlib.figure.Figure at 0x221906cacf8>"
      ]
     },
     "metadata": {},
     "output_type": "display_data"
    }
   ],
   "source": [
    "# compare summer and winter earnings\n",
    "h.compareCDF(winter[\"trip_total\"], summer[\"trip_total\"])"
   ]
  },
  {
   "cell_type": "markdown",
   "metadata": {},
   "source": [
    "Let's test out this hypothesis. \n",
    "\n",
    "* H0 = There is no difference between Summer and Winter earnings.\n",
    "* H1 = There is a difference between Summer and Winter earnings. "
   ]
  },
  {
   "cell_type": "code",
   "execution_count": 11,
   "metadata": {},
   "outputs": [],
   "source": [
    "winterEarnings = np.array(winter[\"trip_total\"])\n",
    "summerEarnings = np.array(summer[\"trip_total\"])\n",
    "springEarnings = np.array(spring[\"trip_total\"])\n",
    "fallEarnings = np.array(fall[\"trip_total\"])"
   ]
  },
  {
   "cell_type": "markdown",
   "metadata": {},
   "source": [
    "Are the earnings for the 2 seasons different? If they are identical, they should have the same mean earnings so the difference in the mean earnings should be zero. We'll choose the difference in mean as our test statistic. The P-Value tells you that the percentage of chance that you would get the difference of means observed in the experiment if the earnings yields are exactly the same. "
   ]
  },
  {
   "cell_type": "code",
   "execution_count": 12,
   "metadata": {},
   "outputs": [
    {
     "name": "stdout",
     "output_type": "stream",
     "text": [
      "Empirical Difference in Means: 1.48882391723\n",
      "P-Value: 0.0\n"
     ]
    }
   ],
   "source": [
    "h.identicalMeans(summerEarnings, winterEarnings, 10000)"
   ]
  },
  {
   "cell_type": "code",
   "execution_count": 13,
   "metadata": {},
   "outputs": [
    {
     "data": {
      "image/png": "[encoded data removed]",
      "text/plain": [
       "<matplotlib.figure.Figure at 0x221eb8ea710>"
      ]
     },
     "metadata": {},
     "output_type": "display_data"
    }
   ],
   "source": [
    "# compare summer and winter earnings\n",
    "h.compareCDF(spring[\"trip_total\"], fall[\"trip_total\"])"
   ]
  },
  {
   "cell_type": "code",
   "execution_count": 14,
   "metadata": {},
   "outputs": [
    {
     "name": "stdout",
     "output_type": "stream",
     "text": [
      "Empirical Difference in Means: 0.460086050862\n",
      "P-Value: 0.0\n"
     ]
    }
   ],
   "source": [
    "h.identicalMeans(fallEarnings, springEarnings, 10000)"
   ]
  },
  {
   "cell_type": "markdown",
   "metadata": {},
   "source": [
    "What about Fall and Summer?"
   ]
  },
  {
   "cell_type": "code",
   "execution_count": 15,
   "metadata": {},
   "outputs": [
    {
     "data": {
      "image/png": "[encoded data removed]",
      "text/plain": [
       "<matplotlib.figure.Figure at 0x221906cab38>"
      ]
     },
     "metadata": {},
     "output_type": "display_data"
    }
   ],
   "source": [
    "h.compareCDF(fall[\"trip_total\"], summer[\"trip_total\"])"
   ]
  },
  {
   "cell_type": "code",
   "execution_count": 16,
   "metadata": {},
   "outputs": [
    {
     "name": "stdout",
     "output_type": "stream",
     "text": [
      "Empirical Difference in Means: -0.116447458535\n",
      "P-Value: 0.6908\n"
     ]
    }
   ],
   "source": [
    "h.identicalMeans(fallEarnings, summerEarnings, 10000)"
   ]
  },
  {
   "cell_type": "markdown",
   "metadata": {},
   "source": [
    "## Comparing taxi companies"
   ]
  },
  {
   "cell_type": "markdown",
   "metadata": {},
   "source": [
    "Is there a real difference between first place and last place? If so, where do they pick up/drop off their passengers? To find out, I need obtain records with Pickup/Dropoff locations. Unfortunately, some companies do not publish their locations so we can only work with what we have. "
   ]
  },
  {
   "cell_type": "code",
   "execution_count": 36,
   "metadata": {},
   "outputs": [
    {
     "name": "stdout",
     "output_type": "stream",
     "text": [
      "['6747 - Mueen Abdalla', '2823 - 73307 Seung Lee', '3094 - 24059 G.L.B. Cab Co', '3623 - 72222 Arrington Enterprises', '2733 - 74600 Benny Jona', '3591 - 63480 Chuks Cab', '3319 - CD Cab Co', '6488 - 83287 Zuha Taxi', 'Suburban Dispatch LLC', '5129 - 87128', '5006 - 39261 Salifu Bawa', '6742 - 83735 Tasha ride inc', '585 - 88805 Valley Cab Co', '2241 - 44667 - Felman Corp, Manuel Alonso', '0694 - 59280 Chinesco Trans Inc', 'Top Cab Affiliation', '5997 - 65283 AW Services Inc.', '2241 - 44667 Manuel Alonso', 'KOAM Taxi Association', '4197 - 41842 Royal Star', 'Chicago Medallion Leasing INC', '0118 - 42111 Godfrey S.Awir', '6574 - Babylon Express Inc.', 'Dispatch Taxi Affiliation', 'Northwest Management LLC', '5874 - 73628 Sergey Cab Corp.', '3152 - 97284 Crystal Abernathy', 'Taxi Affiliation Services', 'Blue Ribbon Taxi Association Inc.', '3201 - CD Cab Co Inc', '3620 - 52292 David K. Cab Corp.', '3011 - 66308 JBL Cab Inc.', 'Chicago Medallion Management', 'Choice Taxi Association', '4053 - 40193 Adwar H. Nikola', 'Patriot Trans Inc', '5062 - 34841 Sam Mestas', '6057 - 24657 Richard Addo', '3556 - 36214 RC Andrews Cab', 'Chicago Elite Cab Corp. (Chicago Carriag', '5074 - 54002 Ahzmi Inc', '1247 - 72807 Daniel Ayertey', '5724 - 75306 KYVI Cab Inc', '2092 - 61288 Sbeih company', '2192 - 73487 Zeymane Corp', '3669 - 85800 Jordan Taxi Inc', '4615 - 83503 Tyrone Henderson', '2823 - 73307 Lee Express Inc', '6743 - 78771 Luhak Corp', '3141 - 87803 Zip Cab', '4623 - 27290 Jay Kim', '1085 - 72312 N and W Cab Co', '3201 - C&D Cab Co Inc', '2809 - 95474 C & D Cab Co Inc.']\n"
     ]
    }
   ],
   "source": [
    "# drop trip records that do not have company name, pickup/dropoff locations\n",
    "interestedTrips = all.dropna(subset = [\"company\", \"pickup_community_area\", \"dropoff_community_area\"])\n",
    "\n",
    "taxiCompanies = set(np.array(interestedTrips[\"company\"]))\n",
    "taxiCompanies = list(taxiCompanies)\n",
    "print(taxiCompanies)"
   ]
  },
  {
   "cell_type": "code",
   "execution_count": 39,
   "metadata": {},
   "outputs": [
    {
     "data": {
      "text/html": [
       "<div>\n",
       "<style>\n",
       "    .dataframe thead tr:only-child th {\n",
       "        text-align: right;\n",
       "    }\n",
       "\n",
       "    .dataframe thead th {\n",
       "        text-align: left;\n",
       "    }\n",
       "\n",
       "    .dataframe tbody tr th {\n",
       "        vertical-align: top;\n",
       "    }\n",
       "</style>\n",
       "<table border=\"1\" class=\"dataframe\">\n",
       "  <thead>\n",
       "    <tr style=\"text-align: right;\">\n",
       "      <th></th>\n",
       "      <th>company</th>\n",
       "      <th>mean</th>\n",
       "      <th>count</th>\n",
       "    </tr>\n",
       "  </thead>\n",
       "  <tbody>\n",
       "    <tr>\n",
       "      <th>0</th>\n",
       "      <td>Choice Taxi Association</td>\n",
       "      <td>16.420143</td>\n",
       "      <td>20668</td>\n",
       "    </tr>\n",
       "    <tr>\n",
       "      <th>1</th>\n",
       "      <td>Top Cab Affiliation</td>\n",
       "      <td>15.730548</td>\n",
       "      <td>5439</td>\n",
       "    </tr>\n",
       "    <tr>\n",
       "      <th>2</th>\n",
       "      <td>KOAM Taxi Association</td>\n",
       "      <td>15.655414</td>\n",
       "      <td>6527</td>\n",
       "    </tr>\n",
       "    <tr>\n",
       "      <th>3</th>\n",
       "      <td>Dispatch Taxi Affiliation</td>\n",
       "      <td>15.091617</td>\n",
       "      <td>33073</td>\n",
       "    </tr>\n",
       "    <tr>\n",
       "      <th>4</th>\n",
       "      <td>Taxi Affiliation Services</td>\n",
       "      <td>15.044829</td>\n",
       "      <td>101774</td>\n",
       "    </tr>\n",
       "    <tr>\n",
       "      <th>5</th>\n",
       "      <td>Chicago Medallion Leasing INC</td>\n",
       "      <td>14.513365</td>\n",
       "      <td>4369</td>\n",
       "    </tr>\n",
       "    <tr>\n",
       "      <th>6</th>\n",
       "      <td>Blue Ribbon Taxi Association Inc.</td>\n",
       "      <td>14.337308</td>\n",
       "      <td>25390</td>\n",
       "    </tr>\n",
       "    <tr>\n",
       "      <th>7</th>\n",
       "      <td>Northwest Management LLC</td>\n",
       "      <td>13.982119</td>\n",
       "      <td>10145</td>\n",
       "    </tr>\n",
       "    <tr>\n",
       "      <th>8</th>\n",
       "      <td>3011 - 66308 JBL Cab Inc.</td>\n",
       "      <td>13.978571</td>\n",
       "      <td>105</td>\n",
       "    </tr>\n",
       "    <tr>\n",
       "      <th>9</th>\n",
       "      <td>Chicago Medallion Management</td>\n",
       "      <td>13.337033</td>\n",
       "      <td>1466</td>\n",
       "    </tr>\n",
       "    <tr>\n",
       "      <th>10</th>\n",
       "      <td>5129 - 87128</td>\n",
       "      <td>13.260300</td>\n",
       "      <td>100</td>\n",
       "    </tr>\n",
       "    <tr>\n",
       "      <th>11</th>\n",
       "      <td>6743 - 78771 Luhak Corp</td>\n",
       "      <td>11.850625</td>\n",
       "      <td>112</td>\n",
       "    </tr>\n",
       "    <tr>\n",
       "      <th>12</th>\n",
       "      <td>1085 - 72312 N and W Cab Co</td>\n",
       "      <td>10.257009</td>\n",
       "      <td>107</td>\n",
       "    </tr>\n",
       "    <tr>\n",
       "      <th>13</th>\n",
       "      <td>Chicago Elite Cab Corp. (Chicago Carriag</td>\n",
       "      <td>8.960311</td>\n",
       "      <td>257</td>\n",
       "    </tr>\n",
       "  </tbody>\n",
       "</table>\n",
       "</div>"
      ],
      "text/plain": [
       "                                     company       mean   count\n",
       "0                    Choice Taxi Association  16.420143   20668\n",
       "1                        Top Cab Affiliation  15.730548    5439\n",
       "2                      KOAM Taxi Association  15.655414    6527\n",
       "3                  Dispatch Taxi Affiliation  15.091617   33073\n",
       "4                  Taxi Affiliation Services  15.044829  101774\n",
       "5              Chicago Medallion Leasing INC  14.513365    4369\n",
       "6          Blue Ribbon Taxi Association Inc.  14.337308   25390\n",
       "7                   Northwest Management LLC  13.982119   10145\n",
       "8                  3011 - 66308 JBL Cab Inc.  13.978571     105\n",
       "9               Chicago Medallion Management  13.337033    1466\n",
       "10                              5129 - 87128  13.260300     100\n",
       "11                   6743 - 78771 Luhak Corp  11.850625     112\n",
       "12               1085 - 72312 N and W Cab Co  10.257009     107\n",
       "13  Chicago Elite Cab Corp. (Chicago Carriag   8.960311     257"
      ]
     },
     "execution_count": 39,
     "metadata": {},
     "output_type": "execute_result"
    }
   ],
   "source": [
    "meanEarnings = interestedTrips.groupby([\"company\"])[\"trip_total\"] \\\n",
    "    .agg([\"mean\", \"count\"]).sort_values(\"mean\", ascending = False).reset_index()\n",
    "\n",
    "# We only care about Taxi companies that make at least 100 trips in 2016\n",
    "meanEarnings = meanEarnings[meanEarnings[\"count\"] >= 100].reset_index(drop = True)\n",
    "\n",
    "meanEarnings"
   ]
  },
  {
   "cell_type": "code",
   "execution_count": 45,
   "metadata": {},
   "outputs": [
    {
     "name": "stdout",
     "output_type": "stream",
     "text": [
      "First: Choice Taxi Association\n",
      "Last: Chicago Elite Cab Corp. (Chicago Carriag\n"
     ]
    }
   ],
   "source": [
    "first = meanEarnings.head(1)[\"company\"].iloc[0]\n",
    "print(\"First:\", first)\n",
    "\n",
    "last = meanEarnings.tail(1)[\"company\"].iloc[0]\n",
    "print(\"Last:\", last)\n",
    "\n",
    "firstDf = interestedTrips[interestedTrips[\"company\"] == first]\n",
    "lastDf = interestedTrips[interestedTrips[\"company\"] == last]"
   ]
  },
  {
   "cell_type": "code",
   "execution_count": 46,
   "metadata": {},
   "outputs": [
    {
     "data": {
      "image/png": "[encoded data removed]",
      "text/plain": [
       "<matplotlib.figure.Figure at 0x22190753dd8>"
      ]
     },
     "metadata": {},
     "output_type": "display_data"
    },
    {
     "name": "stdout",
     "output_type": "stream",
     "text": [
      "Empirical Difference in Means: 7.459831932519958\n",
      "P-Value: 0.0\n"
     ]
    }
   ],
   "source": [
    "h.compareCDF(firstDf[\"trip_total\"], lastDf[\"trip_total\"])\n",
    "h.identicalMeans(firstDf[\"trip_total\"], lastDf[\"trip_total\"], 10000)"
   ]
  },
  {
   "cell_type": "code",
   "execution_count": 47,
   "metadata": {},
   "outputs": [
    {
     "data": {
      "image/png": "[encoded data removed]",
      "text/plain": [
       "<matplotlib.figure.Figure at 0x22190650cc0>"
      ]
     },
     "metadata": {},
     "output_type": "display_data"
    },
    {
     "name": "stdout",
     "output_type": "stream",
     "text": [
      "Empirical Difference in Means: 4.791177007031299\n",
      "P-Value: 0.0\n"
     ]
    }
   ],
   "source": [
    "h.compareCDF(firstDf[\"fare\"], lastDf[\"fare\"])\n",
    "h.identicalMeans(firstDf[\"fare\"], lastDf[\"fare\"], 10000)"
   ]
  },
  {
   "cell_type": "code",
   "execution_count": 52,
   "metadata": {},
   "outputs": [
    {
     "data": {
      "image/png": "[encoded data removed]",
      "text/plain": [
       "<matplotlib.figure.Figure at 0x221905d4160>"
      ]
     },
     "metadata": {},
     "output_type": "display_data"
    },
    {
     "name": "stdout",
     "output_type": "stream",
     "text": [
      "Empirical Difference in Means: 1.7651616024772578\n",
      "P-Value: 0.0\n"
     ]
    }
   ],
   "source": [
    "h.compareCDF(firstDf[\"tips\"], lastDf[\"tips\"])\n",
    "h.identicalMeans(firstDf[\"tips\"], lastDf[\"tips\"], 10000)"
   ]
  },
  {
   "cell_type": "markdown",
   "metadata": {},
   "source": [
    "### Joining socioeconomic data"
   ]
  },
  {
   "cell_type": "code",
   "execution_count": 60,
   "metadata": {},
   "outputs": [
    {
     "data": {
      "text/html": [
       "<div>\n",
       "<style>\n",
       "    .dataframe thead tr:only-child th {\n",
       "        text-align: right;\n",
       "    }\n",
       "\n",
       "    .dataframe thead th {\n",
       "        text-align: left;\n",
       "    }\n",
       "\n",
       "    .dataframe tbody tr th {\n",
       "        vertical-align: top;\n",
       "    }\n",
       "</style>\n",
       "<table border=\"1\" class=\"dataframe\">\n",
       "  <thead>\n",
       "    <tr style=\"text-align: right;\">\n",
       "      <th></th>\n",
       "      <th>taxi_id</th>\n",
       "      <th>tolls</th>\n",
       "      <th>trip_start_timestamp</th>\n",
       "      <th>trip_end_timestamp</th>\n",
       "      <th>company</th>\n",
       "      <th>dropoff_centroid_longitude</th>\n",
       "      <th>dropoff_centroid_latitude</th>\n",
       "      <th>fare</th>\n",
       "      <th>payment_type</th>\n",
       "      <th>pickup_centroid_latitude</th>\n",
       "      <th>pickup_centroid_longitude</th>\n",
       "      <th>dropoff_community_area</th>\n",
       "      <th>pickup_community_area</th>\n",
       "      <th>tips</th>\n",
       "      <th>trip_miles</th>\n",
       "      <th>trip_seconds</th>\n",
       "      <th>trip_total</th>\n",
       "      <th>season</th>\n",
       "    </tr>\n",
       "  </thead>\n",
       "  <tbody>\n",
       "    <tr>\n",
       "      <th>1948772</th>\n",
       "      <td>a149c6df861b2eff6f27491e024e37d2c3705aa5399c31...</td>\n",
       "      <td>0.0</td>\n",
       "      <td>10/15/2016 02:15 AM</td>\n",
       "      <td>10/15/2016 02:15 AM</td>\n",
       "      <td>Choice Taxi Association</td>\n",
       "      <td>-87.663416</td>\n",
       "      <td>41.986712</td>\n",
       "      <td>7.75</td>\n",
       "      <td>Cash</td>\n",
       "      <td>41.944227</td>\n",
       "      <td>-87.655998</td>\n",
       "      <td>77.0</td>\n",
       "      <td>6.0</td>\n",
       "      <td>0.0</td>\n",
       "      <td>1.9</td>\n",
       "      <td>420.0</td>\n",
       "      <td>8.75</td>\n",
       "      <td>Fall</td>\n",
       "    </tr>\n",
       "    <tr>\n",
       "      <th>1793223</th>\n",
       "      <td>24ed31a940cc30f89118796ee39ca35a52fdbade26c91f...</td>\n",
       "      <td>0.0</td>\n",
       "      <td>10/12/2016 12:00 PM</td>\n",
       "      <td>10/12/2016 12:00 PM</td>\n",
       "      <td>Choice Taxi Association</td>\n",
       "      <td>-87.618868</td>\n",
       "      <td>41.890922</td>\n",
       "      <td>4.25</td>\n",
       "      <td>Cash</td>\n",
       "      <td>41.884987</td>\n",
       "      <td>-87.620993</td>\n",
       "      <td>8.0</td>\n",
       "      <td>32.0</td>\n",
       "      <td>0.0</td>\n",
       "      <td>0.4</td>\n",
       "      <td>120.0</td>\n",
       "      <td>5.25</td>\n",
       "      <td>Fall</td>\n",
       "    </tr>\n",
       "    <tr>\n",
       "      <th>1554967</th>\n",
       "      <td>c2b5d2c9d25be474a1378d6238dd5c34cec73a614288ff...</td>\n",
       "      <td>0.0</td>\n",
       "      <td>10/06/2016 10:15 PM</td>\n",
       "      <td>10/06/2016 10:15 PM</td>\n",
       "      <td>Choice Taxi Association</td>\n",
       "      <td>-87.640698</td>\n",
       "      <td>41.943155</td>\n",
       "      <td>10.25</td>\n",
       "      <td>Cash</td>\n",
       "      <td>41.898332</td>\n",
       "      <td>-87.620763</td>\n",
       "      <td>6.0</td>\n",
       "      <td>8.0</td>\n",
       "      <td>0.0</td>\n",
       "      <td>3.0</td>\n",
       "      <td>360.0</td>\n",
       "      <td>10.25</td>\n",
       "      <td>Fall</td>\n",
       "    </tr>\n",
       "    <tr>\n",
       "      <th>351636</th>\n",
       "      <td>4985679c5d03d534d606702c915a7c74f83edb456f886e...</td>\n",
       "      <td>0.0</td>\n",
       "      <td>09/09/2016 10:00 AM</td>\n",
       "      <td>09/09/2016 10:15 AM</td>\n",
       "      <td>Choice Taxi Association</td>\n",
       "      <td>-87.632746</td>\n",
       "      <td>41.880994</td>\n",
       "      <td>8.00</td>\n",
       "      <td>Cash</td>\n",
       "      <td>41.884987</td>\n",
       "      <td>-87.620993</td>\n",
       "      <td>32.0</td>\n",
       "      <td>32.0</td>\n",
       "      <td>0.0</td>\n",
       "      <td>1.2</td>\n",
       "      <td>660.0</td>\n",
       "      <td>9.50</td>\n",
       "      <td>Fall</td>\n",
       "    </tr>\n",
       "    <tr>\n",
       "      <th>557292</th>\n",
       "      <td>1044814618b170d06ac8a2941ee73bce37f3f48e4848c5...</td>\n",
       "      <td>0.0</td>\n",
       "      <td>09/15/2016 01:45 PM</td>\n",
       "      <td>09/15/2016 01:45 PM</td>\n",
       "      <td>Choice Taxi Association</td>\n",
       "      <td>-87.903040</td>\n",
       "      <td>41.979071</td>\n",
       "      <td>3.25</td>\n",
       "      <td>Cash</td>\n",
       "      <td>41.979071</td>\n",
       "      <td>-87.903040</td>\n",
       "      <td>76.0</td>\n",
       "      <td>76.0</td>\n",
       "      <td>0.0</td>\n",
       "      <td>0.0</td>\n",
       "      <td>0.0</td>\n",
       "      <td>3.25</td>\n",
       "      <td>Fall</td>\n",
       "    </tr>\n",
       "  </tbody>\n",
       "</table>\n",
       "</div>"
      ],
      "text/plain": [
       "                                                   taxi_id  tolls  \\\n",
       "1948772  a149c6df861b2eff6f27491e024e37d2c3705aa5399c31...    0.0   \n",
       "1793223  24ed31a940cc30f89118796ee39ca35a52fdbade26c91f...    0.0   \n",
       "1554967  c2b5d2c9d25be474a1378d6238dd5c34cec73a614288ff...    0.0   \n",
       "351636   4985679c5d03d534d606702c915a7c74f83edb456f886e...    0.0   \n",
       "557292   1044814618b170d06ac8a2941ee73bce37f3f48e4848c5...    0.0   \n",
       "\n",
       "        trip_start_timestamp   trip_end_timestamp                  company  \\\n",
       "1948772  10/15/2016 02:15 AM  10/15/2016 02:15 AM  Choice Taxi Association   \n",
       "1793223  10/12/2016 12:00 PM  10/12/2016 12:00 PM  Choice Taxi Association   \n",
       "1554967  10/06/2016 10:15 PM  10/06/2016 10:15 PM  Choice Taxi Association   \n",
       "351636   09/09/2016 10:00 AM  09/09/2016 10:15 AM  Choice Taxi Association   \n",
       "557292   09/15/2016 01:45 PM  09/15/2016 01:45 PM  Choice Taxi Association   \n",
       "\n",
       "         dropoff_centroid_longitude  dropoff_centroid_latitude   fare  \\\n",
       "1948772                  -87.663416                  41.986712   7.75   \n",
       "1793223                  -87.618868                  41.890922   4.25   \n",
       "1554967                  -87.640698                  41.943155  10.25   \n",
       "351636                   -87.632746                  41.880994   8.00   \n",
       "557292                   -87.903040                  41.979071   3.25   \n",
       "\n",
       "        payment_type  pickup_centroid_latitude  pickup_centroid_longitude  \\\n",
       "1948772         Cash                 41.944227                 -87.655998   \n",
       "1793223         Cash                 41.884987                 -87.620993   \n",
       "1554967         Cash                 41.898332                 -87.620763   \n",
       "351636          Cash                 41.884987                 -87.620993   \n",
       "557292          Cash                 41.979071                 -87.903040   \n",
       "\n",
       "         dropoff_community_area  pickup_community_area  tips  trip_miles  \\\n",
       "1948772                    77.0                    6.0   0.0         1.9   \n",
       "1793223                     8.0                   32.0   0.0         0.4   \n",
       "1554967                     6.0                    8.0   0.0         3.0   \n",
       "351636                     32.0                   32.0   0.0         1.2   \n",
       "557292                     76.0                   76.0   0.0         0.0   \n",
       "\n",
       "         trip_seconds  trip_total season  \n",
       "1948772         420.0        8.75   Fall  \n",
       "1793223         120.0        5.25   Fall  \n",
       "1554967         360.0       10.25   Fall  \n",
       "351636          660.0        9.50   Fall  \n",
       "557292            0.0        3.25   Fall  "
      ]
     },
     "execution_count": 60,
     "metadata": {},
     "output_type": "execute_result"
    }
   ],
   "source": [
    "firstDf.head()"
   ]
  },
  {
   "cell_type": "code",
   "execution_count": 61,
   "metadata": {},
   "outputs": [
    {
     "data": {
      "text/plain": [
       "20668"
      ]
     },
     "execution_count": 61,
     "metadata": {},
     "output_type": "execute_result"
    }
   ],
   "source": [
    "len(firstDf)"
   ]
  },
  {
   "cell_type": "code",
   "execution_count": 65,
   "metadata": {},
   "outputs": [],
   "source": [
    "econ[\"CommunityAreaNumber\"] = econ[\"CommunityAreaNumber\"].astype(\"float\").fillna(0.0)"
   ]
  },
  {
   "cell_type": "code",
   "execution_count": 66,
   "metadata": {},
   "outputs": [
    {
     "data": {
      "text/html": [
       "<div>\n",
       "<style>\n",
       "    .dataframe thead tr:only-child th {\n",
       "        text-align: right;\n",
       "    }\n",
       "\n",
       "    .dataframe thead th {\n",
       "        text-align: left;\n",
       "    }\n",
       "\n",
       "    .dataframe tbody tr th {\n",
       "        vertical-align: top;\n",
       "    }\n",
       "</style>\n",
       "<table border=\"1\" class=\"dataframe\">\n",
       "  <thead>\n",
       "    <tr style=\"text-align: right;\">\n",
       "      <th></th>\n",
       "      <th>CommunityAreaNumber</th>\n",
       "      <th>CommunityAreaName</th>\n",
       "      <th>PercentHousingCrowded</th>\n",
       "      <th>PercentBelowPoverty</th>\n",
       "      <th>PercentUnemployed</th>\n",
       "      <th>PercentNoHsDiploma</th>\n",
       "      <th>PercentUnder18OrOver64</th>\n",
       "      <th>PercentCapitaIncome</th>\n",
       "      <th>HardshipIndex</th>\n",
       "    </tr>\n",
       "  </thead>\n",
       "  <tbody>\n",
       "    <tr>\n",
       "      <th>0</th>\n",
       "      <td>1.0</td>\n",
       "      <td>Rogers Park</td>\n",
       "      <td>7.7</td>\n",
       "      <td>23.6</td>\n",
       "      <td>8.7</td>\n",
       "      <td>18.2</td>\n",
       "      <td>27.5</td>\n",
       "      <td>23939</td>\n",
       "      <td>39</td>\n",
       "    </tr>\n",
       "    <tr>\n",
       "      <th>1</th>\n",
       "      <td>2.0</td>\n",
       "      <td>West Ridge</td>\n",
       "      <td>7.8</td>\n",
       "      <td>17.2</td>\n",
       "      <td>8.8</td>\n",
       "      <td>20.8</td>\n",
       "      <td>38.5</td>\n",
       "      <td>23040</td>\n",
       "      <td>46</td>\n",
       "    </tr>\n",
       "    <tr>\n",
       "      <th>2</th>\n",
       "      <td>3.0</td>\n",
       "      <td>Uptown</td>\n",
       "      <td>3.8</td>\n",
       "      <td>24.0</td>\n",
       "      <td>8.9</td>\n",
       "      <td>11.8</td>\n",
       "      <td>22.2</td>\n",
       "      <td>35787</td>\n",
       "      <td>20</td>\n",
       "    </tr>\n",
       "    <tr>\n",
       "      <th>3</th>\n",
       "      <td>4.0</td>\n",
       "      <td>Lincoln Square</td>\n",
       "      <td>3.4</td>\n",
       "      <td>10.9</td>\n",
       "      <td>8.2</td>\n",
       "      <td>13.4</td>\n",
       "      <td>25.5</td>\n",
       "      <td>37524</td>\n",
       "      <td>17</td>\n",
       "    </tr>\n",
       "    <tr>\n",
       "      <th>4</th>\n",
       "      <td>5.0</td>\n",
       "      <td>North Center</td>\n",
       "      <td>0.3</td>\n",
       "      <td>7.5</td>\n",
       "      <td>5.2</td>\n",
       "      <td>4.5</td>\n",
       "      <td>26.2</td>\n",
       "      <td>57123</td>\n",
       "      <td>6</td>\n",
       "    </tr>\n",
       "  </tbody>\n",
       "</table>\n",
       "</div>"
      ],
      "text/plain": [
       "   CommunityAreaNumber CommunityAreaName  PercentHousingCrowded  \\\n",
       "0                  1.0       Rogers Park                    7.7   \n",
       "1                  2.0        West Ridge                    7.8   \n",
       "2                  3.0            Uptown                    3.8   \n",
       "3                  4.0    Lincoln Square                    3.4   \n",
       "4                  5.0      North Center                    0.3   \n",
       "\n",
       "   PercentBelowPoverty  PercentUnemployed  PercentNoHsDiploma  \\\n",
       "0                 23.6                8.7                18.2   \n",
       "1                 17.2                8.8                20.8   \n",
       "2                 24.0                8.9                11.8   \n",
       "3                 10.9                8.2                13.4   \n",
       "4                  7.5                5.2                 4.5   \n",
       "\n",
       "   PercentUnder18OrOver64  PercentCapitaIncome  HardshipIndex  \n",
       "0                    27.5                23939             39  \n",
       "1                    38.5                23040             46  \n",
       "2                    22.2                35787             20  \n",
       "3                    25.5                37524             17  \n",
       "4                    26.2                57123              6  "
      ]
     },
     "execution_count": 66,
     "metadata": {},
     "output_type": "execute_result"
    }
   ],
   "source": [
    "econ.head()"
   ]
  },
  {
   "cell_type": "code",
   "execution_count": 67,
   "metadata": {},
   "outputs": [
    {
     "data": {
      "text/plain": [
       "20668"
      ]
     },
     "execution_count": 67,
     "metadata": {},
     "output_type": "execute_result"
    }
   ],
   "source": [
    "firstEcon = pd.merge(firstDf, econ, left_on = \"pickup_community_area\", right_on = \"CommunityAreaNumber\", how = \"inner\")\n",
    "len(firstEcon)"
   ]
  },
  {
   "cell_type": "code",
   "execution_count": 68,
   "metadata": {},
   "outputs": [
    {
     "data": {
      "text/html": [
       "<div>\n",
       "<style>\n",
       "    .dataframe thead tr:only-child th {\n",
       "        text-align: right;\n",
       "    }\n",
       "\n",
       "    .dataframe thead th {\n",
       "        text-align: left;\n",
       "    }\n",
       "\n",
       "    .dataframe tbody tr th {\n",
       "        vertical-align: top;\n",
       "    }\n",
       "</style>\n",
       "<table border=\"1\" class=\"dataframe\">\n",
       "  <thead>\n",
       "    <tr style=\"text-align: right;\">\n",
       "      <th></th>\n",
       "      <th>taxi_id</th>\n",
       "      <th>tolls</th>\n",
       "      <th>trip_start_timestamp</th>\n",
       "      <th>trip_end_timestamp</th>\n",
       "      <th>company</th>\n",
       "      <th>dropoff_centroid_longitude</th>\n",
       "      <th>dropoff_centroid_latitude</th>\n",
       "      <th>fare</th>\n",
       "      <th>payment_type</th>\n",
       "      <th>pickup_centroid_latitude</th>\n",
       "      <th>...</th>\n",
       "      <th>season</th>\n",
       "      <th>CommunityAreaNumber</th>\n",
       "      <th>CommunityAreaName</th>\n",
       "      <th>PercentHousingCrowded</th>\n",
       "      <th>PercentBelowPoverty</th>\n",
       "      <th>PercentUnemployed</th>\n",
       "      <th>PercentNoHsDiploma</th>\n",
       "      <th>PercentUnder18OrOver64</th>\n",
       "      <th>PercentCapitaIncome</th>\n",
       "      <th>HardshipIndex</th>\n",
       "    </tr>\n",
       "  </thead>\n",
       "  <tbody>\n",
       "    <tr>\n",
       "      <th>0</th>\n",
       "      <td>a149c6df861b2eff6f27491e024e37d2c3705aa5399c31...</td>\n",
       "      <td>0.0</td>\n",
       "      <td>10/15/2016 02:15 AM</td>\n",
       "      <td>10/15/2016 02:15 AM</td>\n",
       "      <td>Choice Taxi Association</td>\n",
       "      <td>-87.663416</td>\n",
       "      <td>41.986712</td>\n",
       "      <td>7.75</td>\n",
       "      <td>Cash</td>\n",
       "      <td>41.944227</td>\n",
       "      <td>...</td>\n",
       "      <td>Fall</td>\n",
       "      <td>6.0</td>\n",
       "      <td>Lake View</td>\n",
       "      <td>1.1</td>\n",
       "      <td>11.4</td>\n",
       "      <td>4.7</td>\n",
       "      <td>2.6</td>\n",
       "      <td>17.0</td>\n",
       "      <td>60058</td>\n",
       "      <td>5</td>\n",
       "    </tr>\n",
       "    <tr>\n",
       "      <th>1</th>\n",
       "      <td>3faf465f2a9568fcd32838685114495ac74f11a3cf17d4...</td>\n",
       "      <td>0.0</td>\n",
       "      <td>09/18/2016 04:45 AM</td>\n",
       "      <td>09/18/2016 04:45 AM</td>\n",
       "      <td>Choice Taxi Association</td>\n",
       "      <td>-87.655998</td>\n",
       "      <td>41.944227</td>\n",
       "      <td>4.75</td>\n",
       "      <td>Credit Card</td>\n",
       "      <td>41.944227</td>\n",
       "      <td>...</td>\n",
       "      <td>Fall</td>\n",
       "      <td>6.0</td>\n",
       "      <td>Lake View</td>\n",
       "      <td>1.1</td>\n",
       "      <td>11.4</td>\n",
       "      <td>4.7</td>\n",
       "      <td>2.6</td>\n",
       "      <td>17.0</td>\n",
       "      <td>60058</td>\n",
       "      <td>5</td>\n",
       "    </tr>\n",
       "    <tr>\n",
       "      <th>2</th>\n",
       "      <td>a5af44e477d4a113284fc380e77366cecd26cf2d5dcf66...</td>\n",
       "      <td>0.0</td>\n",
       "      <td>10/23/2016 11:15 AM</td>\n",
       "      <td>10/23/2016 11:15 AM</td>\n",
       "      <td>Choice Taxi Association</td>\n",
       "      <td>-87.655998</td>\n",
       "      <td>41.944227</td>\n",
       "      <td>4.75</td>\n",
       "      <td>Cash</td>\n",
       "      <td>41.944227</td>\n",
       "      <td>...</td>\n",
       "      <td>Fall</td>\n",
       "      <td>6.0</td>\n",
       "      <td>Lake View</td>\n",
       "      <td>1.1</td>\n",
       "      <td>11.4</td>\n",
       "      <td>4.7</td>\n",
       "      <td>2.6</td>\n",
       "      <td>17.0</td>\n",
       "      <td>60058</td>\n",
       "      <td>5</td>\n",
       "    </tr>\n",
       "    <tr>\n",
       "      <th>3</th>\n",
       "      <td>51813ca3c4499e57ee53c57118a41dfb15c53a5a398a21...</td>\n",
       "      <td>0.0</td>\n",
       "      <td>09/07/2016 05:15 PM</td>\n",
       "      <td>09/07/2016 06:15 PM</td>\n",
       "      <td>Choice Taxi Association</td>\n",
       "      <td>-87.913625</td>\n",
       "      <td>41.980264</td>\n",
       "      <td>42.00</td>\n",
       "      <td>Credit Card</td>\n",
       "      <td>41.944227</td>\n",
       "      <td>...</td>\n",
       "      <td>Fall</td>\n",
       "      <td>6.0</td>\n",
       "      <td>Lake View</td>\n",
       "      <td>1.1</td>\n",
       "      <td>11.4</td>\n",
       "      <td>4.7</td>\n",
       "      <td>2.6</td>\n",
       "      <td>17.0</td>\n",
       "      <td>60058</td>\n",
       "      <td>5</td>\n",
       "    </tr>\n",
       "    <tr>\n",
       "      <th>4</th>\n",
       "      <td>fc4ee6b2bbcda6cbc48b7fa94b2cec5763df3b0de55496...</td>\n",
       "      <td>0.0</td>\n",
       "      <td>09/19/2016 10:45 PM</td>\n",
       "      <td>09/19/2016 11:00 PM</td>\n",
       "      <td>Choice Taxi Association</td>\n",
       "      <td>-87.642649</td>\n",
       "      <td>41.879255</td>\n",
       "      <td>20.00</td>\n",
       "      <td>Cash</td>\n",
       "      <td>41.946295</td>\n",
       "      <td>...</td>\n",
       "      <td>Fall</td>\n",
       "      <td>6.0</td>\n",
       "      <td>Lake View</td>\n",
       "      <td>1.1</td>\n",
       "      <td>11.4</td>\n",
       "      <td>4.7</td>\n",
       "      <td>2.6</td>\n",
       "      <td>17.0</td>\n",
       "      <td>60058</td>\n",
       "      <td>5</td>\n",
       "    </tr>\n",
       "  </tbody>\n",
       "</table>\n",
       "<p>5 rows × 27 columns</p>\n",
       "</div>"
      ],
      "text/plain": [
       "                                             taxi_id  tolls  \\\n",
       "0  a149c6df861b2eff6f27491e024e37d2c3705aa5399c31...    0.0   \n",
       "1  3faf465f2a9568fcd32838685114495ac74f11a3cf17d4...    0.0   \n",
       "2  a5af44e477d4a113284fc380e77366cecd26cf2d5dcf66...    0.0   \n",
       "3  51813ca3c4499e57ee53c57118a41dfb15c53a5a398a21...    0.0   \n",
       "4  fc4ee6b2bbcda6cbc48b7fa94b2cec5763df3b0de55496...    0.0   \n",
       "\n",
       "  trip_start_timestamp   trip_end_timestamp                  company  \\\n",
       "0  10/15/2016 02:15 AM  10/15/2016 02:15 AM  Choice Taxi Association   \n",
       "1  09/18/2016 04:45 AM  09/18/2016 04:45 AM  Choice Taxi Association   \n",
       "2  10/23/2016 11:15 AM  10/23/2016 11:15 AM  Choice Taxi Association   \n",
       "3  09/07/2016 05:15 PM  09/07/2016 06:15 PM  Choice Taxi Association   \n",
       "4  09/19/2016 10:45 PM  09/19/2016 11:00 PM  Choice Taxi Association   \n",
       "\n",
       "   dropoff_centroid_longitude  dropoff_centroid_latitude   fare payment_type  \\\n",
       "0                  -87.663416                  41.986712   7.75         Cash   \n",
       "1                  -87.655998                  41.944227   4.75  Credit Card   \n",
       "2                  -87.655998                  41.944227   4.75         Cash   \n",
       "3                  -87.913625                  41.980264  42.00  Credit Card   \n",
       "4                  -87.642649                  41.879255  20.00         Cash   \n",
       "\n",
       "   pickup_centroid_latitude      ...       season  CommunityAreaNumber  \\\n",
       "0                 41.944227      ...         Fall                  6.0   \n",
       "1                 41.944227      ...         Fall                  6.0   \n",
       "2                 41.944227      ...         Fall                  6.0   \n",
       "3                 41.944227      ...         Fall                  6.0   \n",
       "4                 41.946295      ...         Fall                  6.0   \n",
       "\n",
       "   CommunityAreaName  PercentHousingCrowded  PercentBelowPoverty  \\\n",
       "0          Lake View                    1.1                 11.4   \n",
       "1          Lake View                    1.1                 11.4   \n",
       "2          Lake View                    1.1                 11.4   \n",
       "3          Lake View                    1.1                 11.4   \n",
       "4          Lake View                    1.1                 11.4   \n",
       "\n",
       "   PercentUnemployed  PercentNoHsDiploma PercentUnder18OrOver64  \\\n",
       "0                4.7                 2.6                   17.0   \n",
       "1                4.7                 2.6                   17.0   \n",
       "2                4.7                 2.6                   17.0   \n",
       "3                4.7                 2.6                   17.0   \n",
       "4                4.7                 2.6                   17.0   \n",
       "\n",
       "   PercentCapitaIncome HardshipIndex  \n",
       "0                60058             5  \n",
       "1                60058             5  \n",
       "2                60058             5  \n",
       "3                60058             5  \n",
       "4                60058             5  \n",
       "\n",
       "[5 rows x 27 columns]"
      ]
     },
     "execution_count": 68,
     "metadata": {},
     "output_type": "execute_result"
    }
   ],
   "source": [
    "firstEcon.head()"
   ]
  }
 ],
 "metadata": {
  "kernelspec": {
   "display_name": "Python 3",
   "language": "python",
   "name": "python3"
  },
  "language_info": {
   "codemirror_mode": {
    "name": "ipython",
    "version": 3
   },
   "file_extension": ".py",
   "mimetype": "text/x-python",
   "name": "python",
   "nbconvert_exporter": "python",
   "pygments_lexer": "ipython3",
   "version": "3.6.1"
  }
 },
 "nbformat": 4,
 "nbformat_minor": 2
}
