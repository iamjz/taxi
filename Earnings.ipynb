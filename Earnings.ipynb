{
 "cells": [
  {
   "cell_type": "code",
   "execution_count": 1,
   "metadata": {
    "collapsed": true
   },
   "outputs": [],
   "source": [
    "import pandas as pd\n",
    "import seaborn as sns\n",
    "import numpy as np\n",
    "import matplotlib.pyplot as plt\n",
    "from os import listdir\n",
    "from os.path import isfile, join\n",
    "from scipy import stats\n",
    "import time\n",
    "\n",
    "# set seaborn settings\n",
    "sns.set()\n",
    "plt.rcParams[\"patch.force_edgecolor\"] = True # set lines\n",
    "sns.set_style(\"whitegrid\")\n",
    "\n",
    "import warnings\n",
    "warnings.filterwarnings('ignore')\n",
    "\n",
    "## import custom helper functions\n",
    "import helpers as h"
   ]
  },
  {
   "cell_type": "code",
   "execution_count": 2,
   "metadata": {
    "collapsed": true
   },
   "outputs": [],
   "source": [
    "econ = pd.read_csv(\"data/Chicago_Socioeconomic.csv\")"
   ]
  },
  {
   "cell_type": "code",
   "execution_count": 3,
   "metadata": {},
   "outputs": [
    {
     "data": {
      "text/html": [
       "<div>\n",
       "<style>\n",
       "    .dataframe thead tr:only-child th {\n",
       "        text-align: right;\n",
       "    }\n",
       "\n",
       "    .dataframe thead th {\n",
       "        text-align: left;\n",
       "    }\n",
       "\n",
       "    .dataframe tbody tr th {\n",
       "        vertical-align: top;\n",
       "    }\n",
       "</style>\n",
       "<table border=\"1\" class=\"dataframe\">\n",
       "  <thead>\n",
       "    <tr style=\"text-align: right;\">\n",
       "      <th></th>\n",
       "      <th>Community Area Number</th>\n",
       "      <th>COMMUNITY AREA NAME</th>\n",
       "      <th>PERCENT OF HOUSING CROWDED</th>\n",
       "      <th>PERCENT HOUSEHOLDS BELOW POVERTY</th>\n",
       "      <th>PERCENT AGED 16+ UNEMPLOYED</th>\n",
       "      <th>PERCENT AGED 25+ WITHOUT HIGH SCHOOL DIPLOMA</th>\n",
       "      <th>PERCENT AGED UNDER 18 OR OVER 64</th>\n",
       "      <th>PER CAPITA INCOME</th>\n",
       "      <th>HARDSHIP INDEX</th>\n",
       "    </tr>\n",
       "  </thead>\n",
       "  <tbody>\n",
       "    <tr>\n",
       "      <th>0</th>\n",
       "      <td>1</td>\n",
       "      <td>Rogers Park</td>\n",
       "      <td>7.7</td>\n",
       "      <td>23.6</td>\n",
       "      <td>8.7</td>\n",
       "      <td>18.2</td>\n",
       "      <td>27.5</td>\n",
       "      <td>23939</td>\n",
       "      <td>39</td>\n",
       "    </tr>\n",
       "    <tr>\n",
       "      <th>1</th>\n",
       "      <td>2</td>\n",
       "      <td>West Ridge</td>\n",
       "      <td>7.8</td>\n",
       "      <td>17.2</td>\n",
       "      <td>8.8</td>\n",
       "      <td>20.8</td>\n",
       "      <td>38.5</td>\n",
       "      <td>23040</td>\n",
       "      <td>46</td>\n",
       "    </tr>\n",
       "    <tr>\n",
       "      <th>2</th>\n",
       "      <td>3</td>\n",
       "      <td>Uptown</td>\n",
       "      <td>3.8</td>\n",
       "      <td>24.0</td>\n",
       "      <td>8.9</td>\n",
       "      <td>11.8</td>\n",
       "      <td>22.2</td>\n",
       "      <td>35787</td>\n",
       "      <td>20</td>\n",
       "    </tr>\n",
       "    <tr>\n",
       "      <th>3</th>\n",
       "      <td>4</td>\n",
       "      <td>Lincoln Square</td>\n",
       "      <td>3.4</td>\n",
       "      <td>10.9</td>\n",
       "      <td>8.2</td>\n",
       "      <td>13.4</td>\n",
       "      <td>25.5</td>\n",
       "      <td>37524</td>\n",
       "      <td>17</td>\n",
       "    </tr>\n",
       "    <tr>\n",
       "      <th>4</th>\n",
       "      <td>5</td>\n",
       "      <td>North Center</td>\n",
       "      <td>0.3</td>\n",
       "      <td>7.5</td>\n",
       "      <td>5.2</td>\n",
       "      <td>4.5</td>\n",
       "      <td>26.2</td>\n",
       "      <td>57123</td>\n",
       "      <td>6</td>\n",
       "    </tr>\n",
       "  </tbody>\n",
       "</table>\n",
       "</div>"
      ],
      "text/plain": [
       "   Community Area Number COMMUNITY AREA NAME  PERCENT OF HOUSING CROWDED  \\\n",
       "0                      1         Rogers Park                         7.7   \n",
       "1                      2          West Ridge                         7.8   \n",
       "2                      3              Uptown                         3.8   \n",
       "3                      4      Lincoln Square                         3.4   \n",
       "4                      5        North Center                         0.3   \n",
       "\n",
       "   PERCENT HOUSEHOLDS BELOW POVERTY  PERCENT AGED 16+ UNEMPLOYED  \\\n",
       "0                              23.6                          8.7   \n",
       "1                              17.2                          8.8   \n",
       "2                              24.0                          8.9   \n",
       "3                              10.9                          8.2   \n",
       "4                               7.5                          5.2   \n",
       "\n",
       "   PERCENT AGED 25+ WITHOUT HIGH SCHOOL DIPLOMA  \\\n",
       "0                                          18.2   \n",
       "1                                          20.8   \n",
       "2                                          11.8   \n",
       "3                                          13.4   \n",
       "4                                           4.5   \n",
       "\n",
       "   PERCENT AGED UNDER 18 OR OVER 64  PER CAPITA INCOME   HARDSHIP INDEX  \n",
       "0                              27.5               23939              39  \n",
       "1                              38.5               23040              46  \n",
       "2                              22.2               35787              20  \n",
       "3                              25.5               37524              17  \n",
       "4                              26.2               57123               6  "
      ]
     },
     "execution_count": 3,
     "metadata": {},
     "output_type": "execute_result"
    }
   ],
   "source": [
    "econ.head()"
   ]
  },
  {
   "cell_type": "code",
   "execution_count": 4,
   "metadata": {},
   "outputs": [
    {
     "data": {
      "text/html": [
       "<div>\n",
       "<style>\n",
       "    .dataframe thead tr:only-child th {\n",
       "        text-align: right;\n",
       "    }\n",
       "\n",
       "    .dataframe thead th {\n",
       "        text-align: left;\n",
       "    }\n",
       "\n",
       "    .dataframe tbody tr th {\n",
       "        vertical-align: top;\n",
       "    }\n",
       "</style>\n",
       "<table border=\"1\" class=\"dataframe\">\n",
       "  <thead>\n",
       "    <tr style=\"text-align: right;\">\n",
       "      <th></th>\n",
       "      <th>CommunityAreaNumber</th>\n",
       "      <th>CommunityAreaName</th>\n",
       "      <th>PercentHousingCrowded</th>\n",
       "      <th>PercentBelowPoverty</th>\n",
       "      <th>PercentUnemployed</th>\n",
       "      <th>PercentNoHsDiploma</th>\n",
       "      <th>PercentUnder18OrOver64</th>\n",
       "      <th>PercentCapitaIncome</th>\n",
       "      <th>HardshipIndex</th>\n",
       "    </tr>\n",
       "  </thead>\n",
       "  <tbody>\n",
       "    <tr>\n",
       "      <th>0</th>\n",
       "      <td>1</td>\n",
       "      <td>Rogers Park</td>\n",
       "      <td>7.7</td>\n",
       "      <td>23.6</td>\n",
       "      <td>8.7</td>\n",
       "      <td>18.2</td>\n",
       "      <td>27.5</td>\n",
       "      <td>23939</td>\n",
       "      <td>39</td>\n",
       "    </tr>\n",
       "    <tr>\n",
       "      <th>1</th>\n",
       "      <td>2</td>\n",
       "      <td>West Ridge</td>\n",
       "      <td>7.8</td>\n",
       "      <td>17.2</td>\n",
       "      <td>8.8</td>\n",
       "      <td>20.8</td>\n",
       "      <td>38.5</td>\n",
       "      <td>23040</td>\n",
       "      <td>46</td>\n",
       "    </tr>\n",
       "    <tr>\n",
       "      <th>2</th>\n",
       "      <td>3</td>\n",
       "      <td>Uptown</td>\n",
       "      <td>3.8</td>\n",
       "      <td>24.0</td>\n",
       "      <td>8.9</td>\n",
       "      <td>11.8</td>\n",
       "      <td>22.2</td>\n",
       "      <td>35787</td>\n",
       "      <td>20</td>\n",
       "    </tr>\n",
       "    <tr>\n",
       "      <th>3</th>\n",
       "      <td>4</td>\n",
       "      <td>Lincoln Square</td>\n",
       "      <td>3.4</td>\n",
       "      <td>10.9</td>\n",
       "      <td>8.2</td>\n",
       "      <td>13.4</td>\n",
       "      <td>25.5</td>\n",
       "      <td>37524</td>\n",
       "      <td>17</td>\n",
       "    </tr>\n",
       "    <tr>\n",
       "      <th>4</th>\n",
       "      <td>5</td>\n",
       "      <td>North Center</td>\n",
       "      <td>0.3</td>\n",
       "      <td>7.5</td>\n",
       "      <td>5.2</td>\n",
       "      <td>4.5</td>\n",
       "      <td>26.2</td>\n",
       "      <td>57123</td>\n",
       "      <td>6</td>\n",
       "    </tr>\n",
       "  </tbody>\n",
       "</table>\n",
       "</div>"
      ],
      "text/plain": [
       "   CommunityAreaNumber CommunityAreaName  PercentHousingCrowded  \\\n",
       "0                    1       Rogers Park                    7.7   \n",
       "1                    2        West Ridge                    7.8   \n",
       "2                    3            Uptown                    3.8   \n",
       "3                    4    Lincoln Square                    3.4   \n",
       "4                    5      North Center                    0.3   \n",
       "\n",
       "   PercentBelowPoverty  PercentUnemployed  PercentNoHsDiploma  \\\n",
       "0                 23.6                8.7                18.2   \n",
       "1                 17.2                8.8                20.8   \n",
       "2                 24.0                8.9                11.8   \n",
       "3                 10.9                8.2                13.4   \n",
       "4                  7.5                5.2                 4.5   \n",
       "\n",
       "   PercentUnder18OrOver64  PercentCapitaIncome  HardshipIndex  \n",
       "0                    27.5                23939             39  \n",
       "1                    38.5                23040             46  \n",
       "2                    22.2                35787             20  \n",
       "3                    25.5                37524             17  \n",
       "4                    26.2                57123              6  "
      ]
     },
     "execution_count": 4,
     "metadata": {},
     "output_type": "execute_result"
    }
   ],
   "source": [
    "newEconColumns = [\"CommunityAreaNumber\", \"CommunityAreaName\", \"PercentHousingCrowded\", \\\n",
    "                  \"PercentBelowPoverty\", \"PercentUnemployed\", \"PercentNoHsDiploma\", \"PercentUnder18OrOver64\", \\\n",
    "                  \"PercentCapitaIncome\", \"HardshipIndex\"]\n",
    "\n",
    "econ.columns = newEconColumns\n",
    "\n",
    "econ.head()"
   ]
  },
  {
   "cell_type": "code",
   "execution_count": 5,
   "metadata": {
    "collapsed": true
   },
   "outputs": [],
   "source": [
    "fallDf = pd.read_csv(\"data/2016/fall.csv\")\n",
    "winterDf = pd.read_csv(\"data/2016/winter.csv\")\n",
    "springDf = pd.read_csv(\"data/2016/spring.csv\")\n",
    "summerDf = pd.read_csv(\"data/2016/summer.csv\")"
   ]
  },
  {
   "cell_type": "code",
   "execution_count": 6,
   "metadata": {},
   "outputs": [],
   "source": [
    "# i don't wanna work on the entire dataset. \n",
    "# taking a fraction only.\n",
    "\n",
    "fallFrac = fallDf.sample(frac = 0.05)\n",
    "winterFrac = winterDf.sample(frac = 0.05)\n",
    "springFrac = springDf.sample(frac = 0.05)\n",
    "summerFrac = summerDf.sample(frac = 0.05)"
   ]
  },
  {
   "cell_type": "code",
   "execution_count": 7,
   "metadata": {
    "collapsed": true
   },
   "outputs": [],
   "source": [
    "fall = h.convertDataType(fallFrac)\n",
    "winter = h.convertDataType(winterFrac)\n",
    "spring = h.convertDataType(springFrac)\n",
    "summer = h.convertDataType(summerFrac)"
   ]
  },
  {
   "cell_type": "code",
   "execution_count": 8,
   "metadata": {},
   "outputs": [
    {
     "name": "stdout",
     "output_type": "stream",
     "text": [
      "Records: 993913\n"
     ]
    }
   ],
   "source": [
    "fall[\"season\"] = \"Fall\"\n",
    "winter[\"season\"] = \"Winter\"\n",
    "spring[\"season\"] = \"Spring\"\n",
    "summer[\"season\"] = \"Summer\"\n",
    "\n",
    "\n",
    "all = pd.DataFrame()\n",
    "all = pd.concat([fall, winter, spring, summer])\n",
    "print(\"Records:\", len(all))"
   ]
  },
  {
   "cell_type": "code",
   "execution_count": 9,
   "metadata": {},
   "outputs": [
    {
     "data": {
      "text/html": [
       "<div>\n",
       "<style>\n",
       "    .dataframe thead tr:only-child th {\n",
       "        text-align: right;\n",
       "    }\n",
       "\n",
       "    .dataframe thead th {\n",
       "        text-align: left;\n",
       "    }\n",
       "\n",
       "    .dataframe tbody tr th {\n",
       "        vertical-align: top;\n",
       "    }\n",
       "</style>\n",
       "<table border=\"1\" class=\"dataframe\">\n",
       "  <thead>\n",
       "    <tr style=\"text-align: right;\">\n",
       "      <th></th>\n",
       "      <th>taxi_id</th>\n",
       "      <th>tolls</th>\n",
       "      <th>trip_start_timestamp</th>\n",
       "      <th>trip_end_timestamp</th>\n",
       "      <th>company</th>\n",
       "      <th>dropoff_centroid_longitude</th>\n",
       "      <th>dropoff_centroid_latitude</th>\n",
       "      <th>fare</th>\n",
       "      <th>payment_type</th>\n",
       "      <th>pickup_centroid_latitude</th>\n",
       "      <th>pickup_centroid_longitude</th>\n",
       "      <th>dropoff_community_area</th>\n",
       "      <th>pickup_community_area</th>\n",
       "      <th>tips</th>\n",
       "      <th>trip_miles</th>\n",
       "      <th>trip_seconds</th>\n",
       "      <th>trip_total</th>\n",
       "      <th>season</th>\n",
       "    </tr>\n",
       "  </thead>\n",
       "  <tbody>\n",
       "    <tr>\n",
       "      <th>2714551</th>\n",
       "      <td>10b2fc771259a5d8a802c85b6a1d0f5efe023f55bbd504...</td>\n",
       "      <td>0.0</td>\n",
       "      <td>10/30/2016 01:00 AM</td>\n",
       "      <td>10/30/2016 01:15 AM</td>\n",
       "      <td>Blue Ribbon Taxi Association Inc.</td>\n",
       "      <td>-87.670167</td>\n",
       "      <td>42.009623</td>\n",
       "      <td>11.50</td>\n",
       "      <td>Credit Card</td>\n",
       "      <td>41.965812</td>\n",
       "      <td>-87.655879</td>\n",
       "      <td>1.0</td>\n",
       "      <td>3.0</td>\n",
       "      <td>3.0</td>\n",
       "      <td>0.2</td>\n",
       "      <td>720.0</td>\n",
       "      <td>14.50</td>\n",
       "      <td>Fall</td>\n",
       "    </tr>\n",
       "    <tr>\n",
       "      <th>2000063</th>\n",
       "      <td>64563484294c90c6708b7a8c4d9618152780359329e038...</td>\n",
       "      <td>0.0</td>\n",
       "      <td>10/16/2016 01:45 AM</td>\n",
       "      <td>10/16/2016 01:45 AM</td>\n",
       "      <td>Blue Ribbon Taxi Association Inc.</td>\n",
       "      <td>-87.647079</td>\n",
       "      <td>41.942577</td>\n",
       "      <td>3.75</td>\n",
       "      <td>Cash</td>\n",
       "      <td>41.942577</td>\n",
       "      <td>-87.647079</td>\n",
       "      <td>6.0</td>\n",
       "      <td>6.0</td>\n",
       "      <td>0.0</td>\n",
       "      <td>0.0</td>\n",
       "      <td>60.0</td>\n",
       "      <td>3.75</td>\n",
       "      <td>Fall</td>\n",
       "    </tr>\n",
       "    <tr>\n",
       "      <th>744211</th>\n",
       "      <td>67cbad0de729d814d848a331b1e37cb8df3a5537fc7d87...</td>\n",
       "      <td>0.0</td>\n",
       "      <td>09/20/2016 09:15 AM</td>\n",
       "      <td>09/20/2016 09:30 AM</td>\n",
       "      <td>NaN</td>\n",
       "      <td>-87.632746</td>\n",
       "      <td>41.880994</td>\n",
       "      <td>10.00</td>\n",
       "      <td>Credit Card</td>\n",
       "      <td>41.899156</td>\n",
       "      <td>-87.626211</td>\n",
       "      <td>32.0</td>\n",
       "      <td>8.0</td>\n",
       "      <td>2.0</td>\n",
       "      <td>1.7</td>\n",
       "      <td>960.0</td>\n",
       "      <td>12.50</td>\n",
       "      <td>Fall</td>\n",
       "    </tr>\n",
       "    <tr>\n",
       "      <th>2266248</th>\n",
       "      <td>f55addae8ca796ec4b405f2aff2b703fa3e84d285bf4c1...</td>\n",
       "      <td>0.0</td>\n",
       "      <td>10/21/2016 12:45 PM</td>\n",
       "      <td>10/21/2016 01:00 PM</td>\n",
       "      <td>Taxi Affiliation Services</td>\n",
       "      <td>-87.632746</td>\n",
       "      <td>41.880994</td>\n",
       "      <td>6.75</td>\n",
       "      <td>Cash</td>\n",
       "      <td>41.892042</td>\n",
       "      <td>-87.631864</td>\n",
       "      <td>32.0</td>\n",
       "      <td>8.0</td>\n",
       "      <td>0.0</td>\n",
       "      <td>0.0</td>\n",
       "      <td>540.0</td>\n",
       "      <td>8.25</td>\n",
       "      <td>Fall</td>\n",
       "    </tr>\n",
       "    <tr>\n",
       "      <th>1640803</th>\n",
       "      <td>18b7e9c5ffaa8a2c58448ff759feaff82a38215187e3d7...</td>\n",
       "      <td>0.0</td>\n",
       "      <td>10/08/2016 04:00 PM</td>\n",
       "      <td>10/08/2016 04:00 PM</td>\n",
       "      <td>Taxi Affiliation Services</td>\n",
       "      <td>-87.620993</td>\n",
       "      <td>41.884987</td>\n",
       "      <td>6.00</td>\n",
       "      <td>Cash</td>\n",
       "      <td>41.890922</td>\n",
       "      <td>-87.618868</td>\n",
       "      <td>32.0</td>\n",
       "      <td>8.0</td>\n",
       "      <td>0.0</td>\n",
       "      <td>0.9</td>\n",
       "      <td>360.0</td>\n",
       "      <td>6.00</td>\n",
       "      <td>Fall</td>\n",
       "    </tr>\n",
       "  </tbody>\n",
       "</table>\n",
       "</div>"
      ],
      "text/plain": [
       "                                                   taxi_id  tolls  \\\n",
       "2714551  10b2fc771259a5d8a802c85b6a1d0f5efe023f55bbd504...    0.0   \n",
       "2000063  64563484294c90c6708b7a8c4d9618152780359329e038...    0.0   \n",
       "744211   67cbad0de729d814d848a331b1e37cb8df3a5537fc7d87...    0.0   \n",
       "2266248  f55addae8ca796ec4b405f2aff2b703fa3e84d285bf4c1...    0.0   \n",
       "1640803  18b7e9c5ffaa8a2c58448ff759feaff82a38215187e3d7...    0.0   \n",
       "\n",
       "        trip_start_timestamp   trip_end_timestamp  \\\n",
       "2714551  10/30/2016 01:00 AM  10/30/2016 01:15 AM   \n",
       "2000063  10/16/2016 01:45 AM  10/16/2016 01:45 AM   \n",
       "744211   09/20/2016 09:15 AM  09/20/2016 09:30 AM   \n",
       "2266248  10/21/2016 12:45 PM  10/21/2016 01:00 PM   \n",
       "1640803  10/08/2016 04:00 PM  10/08/2016 04:00 PM   \n",
       "\n",
       "                                   company  dropoff_centroid_longitude  \\\n",
       "2714551  Blue Ribbon Taxi Association Inc.                  -87.670167   \n",
       "2000063  Blue Ribbon Taxi Association Inc.                  -87.647079   \n",
       "744211                                 NaN                  -87.632746   \n",
       "2266248          Taxi Affiliation Services                  -87.632746   \n",
       "1640803          Taxi Affiliation Services                  -87.620993   \n",
       "\n",
       "         dropoff_centroid_latitude   fare payment_type  \\\n",
       "2714551                  42.009623  11.50  Credit Card   \n",
       "2000063                  41.942577   3.75         Cash   \n",
       "744211                   41.880994  10.00  Credit Card   \n",
       "2266248                  41.880994   6.75         Cash   \n",
       "1640803                  41.884987   6.00         Cash   \n",
       "\n",
       "         pickup_centroid_latitude  pickup_centroid_longitude  \\\n",
       "2714551                 41.965812                 -87.655879   \n",
       "2000063                 41.942577                 -87.647079   \n",
       "744211                  41.899156                 -87.626211   \n",
       "2266248                 41.892042                 -87.631864   \n",
       "1640803                 41.890922                 -87.618868   \n",
       "\n",
       "         dropoff_community_area  pickup_community_area  tips  trip_miles  \\\n",
       "2714551                     1.0                    3.0   3.0         0.2   \n",
       "2000063                     6.0                    6.0   0.0         0.0   \n",
       "744211                     32.0                    8.0   2.0         1.7   \n",
       "2266248                    32.0                    8.0   0.0         0.0   \n",
       "1640803                    32.0                    8.0   0.0         0.9   \n",
       "\n",
       "         trip_seconds  trip_total season  \n",
       "2714551         720.0       14.50   Fall  \n",
       "2000063          60.0        3.75   Fall  \n",
       "744211          960.0       12.50   Fall  \n",
       "2266248         540.0        8.25   Fall  \n",
       "1640803         360.0        6.00   Fall  "
      ]
     },
     "execution_count": 9,
     "metadata": {},
     "output_type": "execute_result"
    }
   ],
   "source": [
    "all.head()"
   ]
  },
  {
   "cell_type": "markdown",
   "metadata": {},
   "source": [
    "Now I have sampled version of each seasons. I'd like to look through the earnings of each company throughout each season to see who earns more. For the sake of simplicity, I'll just look at the \"trip_total\" column for comparison. "
   ]
  },
  {
   "cell_type": "code",
   "execution_count": 10,
   "metadata": {},
   "outputs": [
    {
     "data": {
      "image/png": "[encoded data removed]",
      "text/plain": [
       "<matplotlib.figure.Figure at 0x2f78a62aa90>"
      ]
     },
     "metadata": {},
     "output_type": "display_data"
    }
   ],
   "source": [
    "h.buildHistogram(all[\"trip_total\"])"
   ]
  },
  {
   "cell_type": "code",
   "execution_count": 11,
   "metadata": {},
   "outputs": [
    {
     "data": {
      "image/png": "[encoded data removed]",
      "text/plain": [
       "<matplotlib.figure.Figure at 0x2f784bbf828>"
      ]
     },
     "metadata": {},
     "output_type": "display_data"
    }
   ],
   "source": [
    "h.buildECDF(all[\"trip_total\"])"
   ]
  },
  {
   "cell_type": "code",
   "execution_count": 12,
   "metadata": {},
   "outputs": [
    {
     "data": {
      "text/plain": [
       "count    993913.000000\n",
       "mean         16.628871\n",
       "std          32.387193\n",
       "min           0.000000\n",
       "25%           7.500000\n",
       "50%          10.000000\n",
       "75%          16.500000\n",
       "max        9166.040000\n",
       "Name: trip_total, dtype: float64"
      ]
     },
     "execution_count": 12,
     "metadata": {},
     "output_type": "execute_result"
    }
   ],
   "source": [
    "all[\"trip_total\"].describe()"
   ]
  },
  {
   "cell_type": "markdown",
   "metadata": {},
   "source": [
    "## Comparing seasonal earnings"
   ]
  },
  {
   "cell_type": "code",
   "execution_count": 13,
   "metadata": {},
   "outputs": [
    {
     "data": {
      "image/png": "[encoded data removed]",
      "text/plain": [
       "<matplotlib.figure.Figure at 0x2f78a62a908>"
      ]
     },
     "metadata": {},
     "output_type": "display_data"
    }
   ],
   "source": [
    "# Generate CDFs\n",
    "x_winter, y_winter = h.getECDF(winter[\"trip_total\"])\n",
    "x_fall, y_fall = h.getECDF(fall[\"trip_total\"])\n",
    "x_summer, y_summer = h.getECDF(summer[\"trip_total\"])\n",
    "x_spring, y_spring = h.getECDF(spring[\"trip_total\"])\n",
    "\n",
    "# plot CDFs\n",
    "_ = plt.plot(x_winter, y_winter, marker = \".\", linestyle = \"none\")\n",
    "_ = plt.plot(x_fall, y_fall, marker = \".\", linestyle = \"none\")\n",
    "_ = plt.plot(x_summer, y_summer, marker = \".\", linestyle = \"none\")\n",
    "_ = plt.plot(x_spring, y_spring, marker = \".\", linestyle = \"none\")\n",
    "\n",
    "# Make 2% margin\n",
    "plt.margins(0.02)\n",
    "\n",
    "# Make a legend and show the plot\n",
    "_ = plt.legend(('Winter', 'Fall', 'Summer', 'Spring'), loc='lower right')\n",
    "\n",
    "_ = plt.xlabel(\"Total Fare ($)\")\n",
    "_ = plt.ylabel(\"ECDF\")\n",
    "plt.show()"
   ]
  },
  {
   "cell_type": "markdown",
   "metadata": {},
   "source": [
    "Summer may yield better earnings than Winter due to the good weather. People may want to go out more and take longer trips to farther places. "
   ]
  },
  {
   "cell_type": "code",
   "execution_count": 14,
   "metadata": {
    "collapsed": true
   },
   "outputs": [],
   "source": [
    "winterEarnings = np.array(winter[\"trip_total\"])\n",
    "summerEarnings = np.array(summer[\"trip_total\"])\n",
    "springEarnings = np.array(spring[\"trip_total\"])\n",
    "fallEarnings = np.array(fall[\"trip_total\"])\n",
    "\n",
    "number_of_experiments = 10000"
   ]
  },
  {
   "cell_type": "markdown",
   "metadata": {},
   "source": [
    "Are the earnings for the 2 seasons different? If they are identical, they should have the same mean earnings so the difference in the mean earnings should be zero. We'll choose the difference in mean as our test statistic. The P-Value tells you that the percentage of chance that you would get the difference of means observed in the experiment if the earnings yields are exactly the same. \n",
    "\n",
    "Let's test out this hypothesis. \n",
    "\n",
    "* H0 = There is no difference between Summer and Winter earnings.\n",
    "* H1 = There is a difference between Summer and Winter earnings. "
   ]
  },
  {
   "cell_type": "code",
   "execution_count": 15,
   "metadata": {},
   "outputs": [
    {
     "data": {
      "image/png": "[encoded data removed]",
      "text/plain": [
       "<matplotlib.figure.Figure at 0x2f746eda7b8>"
      ]
     },
     "metadata": {},
     "output_type": "display_data"
    },
    {
     "name": "stdout",
     "output_type": "stream",
     "text": [
      "Empirical Difference in Means: 1.35106420834\n",
      "\n",
      "H0 = No difference between the 2 distributions\n",
      "H1 = There is a difference between the 2 distributions\n",
      "P-Value: 0.0 | Reject H0\n"
     ]
    }
   ],
   "source": [
    "# compare summer and winter earnings\n",
    "h.compareCDF(summer[\"trip_total\"], winter[\"trip_total\"])\n",
    "h.identicalMeans(summerEarnings, winterEarnings, number_of_experiments)"
   ]
  },
  {
   "cell_type": "code",
   "execution_count": 16,
   "metadata": {},
   "outputs": [
    {
     "data": {
      "image/png": "[encoded data removed]",
      "text/plain": [
       "<matplotlib.figure.Figure at 0x2f75338de80>"
      ]
     },
     "metadata": {},
     "output_type": "display_data"
    },
    {
     "name": "stdout",
     "output_type": "stream",
     "text": [
      "Empirical Difference in Means: -1.67536731908\n",
      "\n",
      "H0 = No difference between the 2 distributions\n",
      "H1 = There is a difference between the 2 distributions\n",
      "P-Value: 0.0 | Reject H0\n"
     ]
    }
   ],
   "source": [
    "h.compareCDF(winter[\"trip_total\"], fall[\"trip_total\"])\n",
    "h.identicalMeans(winterEarnings, fallEarnings, number_of_experiments)"
   ]
  },
  {
   "cell_type": "code",
   "execution_count": 17,
   "metadata": {},
   "outputs": [
    {
     "data": {
      "image/png": "[encoded data removed]",
      "text/plain": [
       "<matplotlib.figure.Figure at 0x2f765931630>"
      ]
     },
     "metadata": {},
     "output_type": "display_data"
    },
    {
     "name": "stdout",
     "output_type": "stream",
     "text": [
      "Empirical Difference in Means: -0.465191518072\n",
      "\n",
      "H0 = No difference between the 2 distributions\n",
      "H1 = There is a difference between the 2 distributions\n",
      "P-Value: 0.0001 | Reject H0\n"
     ]
    }
   ],
   "source": [
    "h.compareCDF(spring[\"trip_total\"], fall[\"trip_total\"])\n",
    "h.identicalMeans(springEarnings, fallEarnings, number_of_experiments)"
   ]
  },
  {
   "cell_type": "markdown",
   "metadata": {},
   "source": [
    "What about Fall and Summer?"
   ]
  },
  {
   "cell_type": "code",
   "execution_count": 18,
   "metadata": {},
   "outputs": [
    {
     "data": {
      "image/png": "[encoded data removed]",
      "text/plain": [
       "<matplotlib.figure.Figure at 0x2f74ebd2898>"
      ]
     },
     "metadata": {},
     "output_type": "display_data"
    },
    {
     "name": "stdout",
     "output_type": "stream",
     "text": [
      "Empirical Difference in Means: 0.324303110742\n",
      "\n",
      "H0 = No difference between the 2 distributions\n",
      "H1 = There is a difference between the 2 distributions\n",
      "P-Value: 0.0028 | Reject H0\n"
     ]
    }
   ],
   "source": [
    "h.compareCDF(fall[\"trip_total\"], summer[\"trip_total\"])\n",
    "h.identicalMeans(fallEarnings, summerEarnings, number_of_experiments)"
   ]
  },
  {
   "cell_type": "markdown",
   "metadata": {},
   "source": [
    "## Comparing taxi companies"
   ]
  },
  {
   "cell_type": "markdown",
   "metadata": {},
   "source": [
    "Is there a real difference between first place and last place? If so, where do they pick up/drop off their passengers? To find out, I need obtain records with Pickup/Dropoff locations. Unfortunately, some companies do not publish their locations so we can only work with what we have. "
   ]
  },
  {
   "cell_type": "code",
   "execution_count": 19,
   "metadata": {},
   "outputs": [
    {
     "name": "stdout",
     "output_type": "stream",
     "text": [
      "['3152 - 97284 Crystal Abernathy', '2092 - 61288 Sbeih company', '3669 - 85800 Jordan Taxi Inc', 'Chicago Elite Cab Corp. (Chicago Carriag', '3201 - C&D Cab Co Inc', 'KOAM Taxi Association', '6742 - 83735 Tasha ride inc', 'Northwest Management LLC', 'Chicago Medallion Management', '2809 - 95474 C & D Cab Co Inc.', '2241 - 44667 - Felman Corp, Manuel Alonso', '5874 - 73628 Sergey Cab Corp.', '0694 - 59280 Chinesco Trans Inc', '1247 - 72807 Daniel Ayertey', '4615 - 83503 Tyrone Henderson', '4623 - 27290 Jay Kim', '4053 - 40193 Adwar H. Nikola', 'Blue Ribbon Taxi Association Inc.', '5997 - 65283 AW Services Inc.', '5129 - 87128', '3319 - CD Cab Co', '3556 - 36214 RC Andrews Cab', '3591 - 63480 Chuks Cab', 'Choice Taxi Association', '0118 - 42111 Godfrey S.Awir', '585 - 88805 Valley Cab Co', '2823 - 73307 Seung Lee', 'Dispatch Taxi Affiliation', '5074 - 54002 Ahzmi Inc', '3201 - CD Cab Co Inc', '2733 - 74600 Benny Jona', '6747 - Mueen Abdalla', '3620 - 52292 David K. Cab Corp.', '4197 - 41842 Royal Star', '4732 - Maude Lamy', '3623 - 72222 Arrington Enterprises', '6574 - Babylon Express Inc.', '6488 - 83287 Zuha Taxi', '3011 - 66308 JBL Cab Inc.', '5006 - 39261 Salifu Bawa', '3141 - 87803 Zip Cab', '6743 - 78771 Luhak Corp', 'Suburban Dispatch LLC', '3094 - 24059 G.L.B. Cab Co', '6057 - 24657 Richard Addo', '5062 - 34841 Sam Mestas', '5724 - 75306 KYVI Cab Inc', '2241 - 44667 Manuel Alonso', '2192 - 73487 Zeymane Corp', 'Taxi Affiliation Services', '2823 - 73307 Lee Express Inc', 'Patriot Trans Inc', '1085 - 72312 N and W Cab Co', 'Chicago Medallion Leasing INC', 'Top Cab Affiliation']\n"
     ]
    }
   ],
   "source": [
    "# drop trip records that do not have company name, pickup/dropoff locations\n",
    "interestedTrips = all.dropna(subset = [\"company\", \"pickup_community_area\", \\\n",
    "                                       \"dropoff_community_area\"])\n",
    "\n",
    "taxiCompanies = set(np.array(interestedTrips[\"company\"]))\n",
    "taxiCompanies = list(taxiCompanies)\n",
    "print(taxiCompanies)"
   ]
  },
  {
   "cell_type": "code",
   "execution_count": 20,
   "metadata": {},
   "outputs": [
    {
     "data": {
      "text/html": [
       "<div>\n",
       "<style>\n",
       "    .dataframe thead tr:only-child th {\n",
       "        text-align: right;\n",
       "    }\n",
       "\n",
       "    .dataframe thead th {\n",
       "        text-align: left;\n",
       "    }\n",
       "\n",
       "    .dataframe tbody tr th {\n",
       "        vertical-align: top;\n",
       "    }\n",
       "</style>\n",
       "<table border=\"1\" class=\"dataframe\">\n",
       "  <thead>\n",
       "    <tr style=\"text-align: right;\">\n",
       "      <th></th>\n",
       "      <th>company</th>\n",
       "      <th>mean</th>\n",
       "      <th>count</th>\n",
       "    </tr>\n",
       "  </thead>\n",
       "  <tbody>\n",
       "    <tr>\n",
       "      <th>0</th>\n",
       "      <td>4623 - 27290 Jay Kim</td>\n",
       "      <td>19.183594</td>\n",
       "      <td>128</td>\n",
       "    </tr>\n",
       "    <tr>\n",
       "      <th>1</th>\n",
       "      <td>5074 - 54002 Ahzmi Inc</td>\n",
       "      <td>18.650000</td>\n",
       "      <td>144</td>\n",
       "    </tr>\n",
       "    <tr>\n",
       "      <th>2</th>\n",
       "      <td>6747 - Mueen Abdalla</td>\n",
       "      <td>18.467711</td>\n",
       "      <td>201</td>\n",
       "    </tr>\n",
       "    <tr>\n",
       "      <th>3</th>\n",
       "      <td>2733 - 74600 Benny Jona</td>\n",
       "      <td>18.033412</td>\n",
       "      <td>170</td>\n",
       "    </tr>\n",
       "    <tr>\n",
       "      <th>4</th>\n",
       "      <td>5874 - 73628 Sergey Cab Corp.</td>\n",
       "      <td>17.910370</td>\n",
       "      <td>135</td>\n",
       "    </tr>\n",
       "    <tr>\n",
       "      <th>5</th>\n",
       "      <td>4197 - 41842 Royal Star</td>\n",
       "      <td>17.661988</td>\n",
       "      <td>161</td>\n",
       "    </tr>\n",
       "    <tr>\n",
       "      <th>6</th>\n",
       "      <td>0118 - 42111 Godfrey S.Awir</td>\n",
       "      <td>16.960960</td>\n",
       "      <td>198</td>\n",
       "    </tr>\n",
       "    <tr>\n",
       "      <th>7</th>\n",
       "      <td>2192 - 73487 Zeymane Corp</td>\n",
       "      <td>16.755685</td>\n",
       "      <td>146</td>\n",
       "    </tr>\n",
       "    <tr>\n",
       "      <th>8</th>\n",
       "      <td>3623 - 72222 Arrington Enterprises</td>\n",
       "      <td>16.455882</td>\n",
       "      <td>119</td>\n",
       "    </tr>\n",
       "    <tr>\n",
       "      <th>9</th>\n",
       "      <td>Choice Taxi Association</td>\n",
       "      <td>16.366581</td>\n",
       "      <td>51926</td>\n",
       "    </tr>\n",
       "    <tr>\n",
       "      <th>10</th>\n",
       "      <td>1247 - 72807 Daniel Ayertey</td>\n",
       "      <td>16.155596</td>\n",
       "      <td>109</td>\n",
       "    </tr>\n",
       "    <tr>\n",
       "      <th>11</th>\n",
       "      <td>KOAM Taxi Association</td>\n",
       "      <td>15.780054</td>\n",
       "      <td>16011</td>\n",
       "    </tr>\n",
       "    <tr>\n",
       "      <th>12</th>\n",
       "      <td>6574 - Babylon Express Inc.</td>\n",
       "      <td>15.571402</td>\n",
       "      <td>264</td>\n",
       "    </tr>\n",
       "    <tr>\n",
       "      <th>13</th>\n",
       "      <td>6742 - 83735 Tasha ride inc</td>\n",
       "      <td>15.312754</td>\n",
       "      <td>138</td>\n",
       "    </tr>\n",
       "    <tr>\n",
       "      <th>14</th>\n",
       "      <td>Top Cab Affiliation</td>\n",
       "      <td>15.271971</td>\n",
       "      <td>13930</td>\n",
       "    </tr>\n",
       "    <tr>\n",
       "      <th>15</th>\n",
       "      <td>Dispatch Taxi Affiliation</td>\n",
       "      <td>15.161597</td>\n",
       "      <td>82832</td>\n",
       "    </tr>\n",
       "    <tr>\n",
       "      <th>16</th>\n",
       "      <td>Taxi Affiliation Services</td>\n",
       "      <td>15.060300</td>\n",
       "      <td>253973</td>\n",
       "    </tr>\n",
       "    <tr>\n",
       "      <th>17</th>\n",
       "      <td>2809 - 95474 C &amp; D Cab Co Inc.</td>\n",
       "      <td>15.026780</td>\n",
       "      <td>177</td>\n",
       "    </tr>\n",
       "    <tr>\n",
       "      <th>18</th>\n",
       "      <td>5129 - 87128</td>\n",
       "      <td>14.992867</td>\n",
       "      <td>293</td>\n",
       "    </tr>\n",
       "    <tr>\n",
       "      <th>19</th>\n",
       "      <td>Blue Ribbon Taxi Association Inc.</td>\n",
       "      <td>14.420723</td>\n",
       "      <td>62998</td>\n",
       "    </tr>\n",
       "    <tr>\n",
       "      <th>20</th>\n",
       "      <td>Chicago Medallion Leasing INC</td>\n",
       "      <td>14.329919</td>\n",
       "      <td>10802</td>\n",
       "    </tr>\n",
       "    <tr>\n",
       "      <th>21</th>\n",
       "      <td>3319 - CD Cab Co</td>\n",
       "      <td>14.002652</td>\n",
       "      <td>132</td>\n",
       "    </tr>\n",
       "    <tr>\n",
       "      <th>22</th>\n",
       "      <td>2092 - 61288 Sbeih company</td>\n",
       "      <td>13.922170</td>\n",
       "      <td>212</td>\n",
       "    </tr>\n",
       "    <tr>\n",
       "      <th>23</th>\n",
       "      <td>Northwest Management LLC</td>\n",
       "      <td>13.895323</td>\n",
       "      <td>25022</td>\n",
       "    </tr>\n",
       "    <tr>\n",
       "      <th>24</th>\n",
       "      <td>5724 - 75306 KYVI Cab Inc</td>\n",
       "      <td>13.721353</td>\n",
       "      <td>207</td>\n",
       "    </tr>\n",
       "    <tr>\n",
       "      <th>25</th>\n",
       "      <td>585 - 88805 Valley Cab Co</td>\n",
       "      <td>13.563353</td>\n",
       "      <td>173</td>\n",
       "    </tr>\n",
       "    <tr>\n",
       "      <th>26</th>\n",
       "      <td>Chicago Medallion Management</td>\n",
       "      <td>13.477816</td>\n",
       "      <td>3612</td>\n",
       "    </tr>\n",
       "    <tr>\n",
       "      <th>27</th>\n",
       "      <td>6743 - 78771 Luhak Corp</td>\n",
       "      <td>13.281076</td>\n",
       "      <td>288</td>\n",
       "    </tr>\n",
       "    <tr>\n",
       "      <th>28</th>\n",
       "      <td>3011 - 66308 JBL Cab Inc.</td>\n",
       "      <td>13.187558</td>\n",
       "      <td>217</td>\n",
       "    </tr>\n",
       "    <tr>\n",
       "      <th>29</th>\n",
       "      <td>4615 - 83503 Tyrone Henderson</td>\n",
       "      <td>12.834496</td>\n",
       "      <td>129</td>\n",
       "    </tr>\n",
       "    <tr>\n",
       "      <th>30</th>\n",
       "      <td>5006 - 39261 Salifu Bawa</td>\n",
       "      <td>12.601841</td>\n",
       "      <td>201</td>\n",
       "    </tr>\n",
       "    <tr>\n",
       "      <th>31</th>\n",
       "      <td>3201 - CD Cab Co Inc</td>\n",
       "      <td>12.369380</td>\n",
       "      <td>129</td>\n",
       "    </tr>\n",
       "    <tr>\n",
       "      <th>32</th>\n",
       "      <td>0694 - 59280 Chinesco Trans Inc</td>\n",
       "      <td>12.266216</td>\n",
       "      <td>148</td>\n",
       "    </tr>\n",
       "    <tr>\n",
       "      <th>33</th>\n",
       "      <td>3141 - 87803 Zip Cab</td>\n",
       "      <td>11.741026</td>\n",
       "      <td>234</td>\n",
       "    </tr>\n",
       "    <tr>\n",
       "      <th>34</th>\n",
       "      <td>3152 - 97284 Crystal Abernathy</td>\n",
       "      <td>10.828673</td>\n",
       "      <td>211</td>\n",
       "    </tr>\n",
       "    <tr>\n",
       "      <th>35</th>\n",
       "      <td>3094 - 24059 G.L.B. Cab Co</td>\n",
       "      <td>10.818187</td>\n",
       "      <td>171</td>\n",
       "    </tr>\n",
       "    <tr>\n",
       "      <th>36</th>\n",
       "      <td>3591 - 63480 Chuks Cab</td>\n",
       "      <td>10.379107</td>\n",
       "      <td>168</td>\n",
       "    </tr>\n",
       "    <tr>\n",
       "      <th>37</th>\n",
       "      <td>1085 - 72312 N and W Cab Co</td>\n",
       "      <td>10.355121</td>\n",
       "      <td>248</td>\n",
       "    </tr>\n",
       "    <tr>\n",
       "      <th>38</th>\n",
       "      <td>Chicago Elite Cab Corp. (Chicago Carriag</td>\n",
       "      <td>10.065221</td>\n",
       "      <td>657</td>\n",
       "    </tr>\n",
       "  </tbody>\n",
       "</table>\n",
       "</div>"
      ],
      "text/plain": [
       "                                     company       mean   count\n",
       "0                       4623 - 27290 Jay Kim  19.183594     128\n",
       "1                     5074 - 54002 Ahzmi Inc  18.650000     144\n",
       "2                       6747 - Mueen Abdalla  18.467711     201\n",
       "3                    2733 - 74600 Benny Jona  18.033412     170\n",
       "4              5874 - 73628 Sergey Cab Corp.  17.910370     135\n",
       "5                    4197 - 41842 Royal Star  17.661988     161\n",
       "6                0118 - 42111 Godfrey S.Awir  16.960960     198\n",
       "7                  2192 - 73487 Zeymane Corp  16.755685     146\n",
       "8         3623 - 72222 Arrington Enterprises  16.455882     119\n",
       "9                    Choice Taxi Association  16.366581   51926\n",
       "10               1247 - 72807 Daniel Ayertey  16.155596     109\n",
       "11                     KOAM Taxi Association  15.780054   16011\n",
       "12               6574 - Babylon Express Inc.  15.571402     264\n",
       "13               6742 - 83735 Tasha ride inc  15.312754     138\n",
       "14                       Top Cab Affiliation  15.271971   13930\n",
       "15                 Dispatch Taxi Affiliation  15.161597   82832\n",
       "16                 Taxi Affiliation Services  15.060300  253973\n",
       "17            2809 - 95474 C & D Cab Co Inc.  15.026780     177\n",
       "18                              5129 - 87128  14.992867     293\n",
       "19         Blue Ribbon Taxi Association Inc.  14.420723   62998\n",
       "20             Chicago Medallion Leasing INC  14.329919   10802\n",
       "21                          3319 - CD Cab Co  14.002652     132\n",
       "22                2092 - 61288 Sbeih company  13.922170     212\n",
       "23                  Northwest Management LLC  13.895323   25022\n",
       "24                 5724 - 75306 KYVI Cab Inc  13.721353     207\n",
       "25                 585 - 88805 Valley Cab Co  13.563353     173\n",
       "26              Chicago Medallion Management  13.477816    3612\n",
       "27                   6743 - 78771 Luhak Corp  13.281076     288\n",
       "28                 3011 - 66308 JBL Cab Inc.  13.187558     217\n",
       "29             4615 - 83503 Tyrone Henderson  12.834496     129\n",
       "30                  5006 - 39261 Salifu Bawa  12.601841     201\n",
       "31                      3201 - CD Cab Co Inc  12.369380     129\n",
       "32           0694 - 59280 Chinesco Trans Inc  12.266216     148\n",
       "33                      3141 - 87803 Zip Cab  11.741026     234\n",
       "34            3152 - 97284 Crystal Abernathy  10.828673     211\n",
       "35                3094 - 24059 G.L.B. Cab Co  10.818187     171\n",
       "36                    3591 - 63480 Chuks Cab  10.379107     168\n",
       "37               1085 - 72312 N and W Cab Co  10.355121     248\n",
       "38  Chicago Elite Cab Corp. (Chicago Carriag  10.065221     657"
      ]
     },
     "execution_count": 20,
     "metadata": {},
     "output_type": "execute_result"
    }
   ],
   "source": [
    "meanEarnings = interestedTrips.groupby([\"company\"])[\"trip_total\"] \\\n",
    "    .agg([\"mean\", \"count\"]).sort_values(\"mean\", ascending = False).reset_index()\n",
    "\n",
    "# I only care about Taxi companies that made at least 100 trips in 2016\n",
    "meanEarnings = meanEarnings[meanEarnings[\"count\"] >= 100].reset_index(drop = True)\n",
    "\n",
    "meanEarnings"
   ]
  },
  {
   "cell_type": "code",
   "execution_count": 21,
   "metadata": {},
   "outputs": [
    {
     "name": "stdout",
     "output_type": "stream",
     "text": [
      "First: 4623 - 27290 Jay Kim\n",
      "Last: Chicago Elite Cab Corp. (Chicago Carriag\n"
     ]
    }
   ],
   "source": [
    "first = meanEarnings.head(1)[\"company\"].iloc[0]\n",
    "print(\"First:\", first)\n",
    "\n",
    "last = meanEarnings.tail(1)[\"company\"].iloc[0]\n",
    "print(\"Last:\", last)\n",
    "\n",
    "firstDf = interestedTrips[interestedTrips[\"company\"] == first]\n",
    "lastDf = interestedTrips[interestedTrips[\"company\"] == last]"
   ]
  },
  {
   "cell_type": "code",
   "execution_count": 22,
   "metadata": {},
   "outputs": [
    {
     "data": {
      "image/png": "[encoded data removed]",
      "text/plain": [
       "<matplotlib.figure.Figure at 0x2f746de4240>"
      ]
     },
     "metadata": {},
     "output_type": "display_data"
    },
    {
     "name": "stdout",
     "output_type": "stream",
     "text": [
      "Empirical Difference in Means: 9.118373049847788\n",
      "\n",
      "H0 = No difference between the 2 distributions\n",
      "H1 = There is a difference between the 2 distributions\n",
      "P-Value: 0.0 | Reject H0\n"
     ]
    }
   ],
   "source": [
    "h.compareCDF(firstDf[\"trip_total\"], lastDf[\"trip_total\"])\n",
    "\n",
    "h.identicalMeans(firstDf[\"trip_total\"], \\\n",
    "                 lastDf[\"trip_total\"], \\\n",
    "                 number_of_experiments)"
   ]
  },
  {
   "cell_type": "code",
   "execution_count": 23,
   "metadata": {},
   "outputs": [
    {
     "data": {
      "image/png": "[encoded data removed]",
      "text/plain": [
       "<matplotlib.figure.Figure at 0x2f746df5668>"
      ]
     },
     "metadata": {},
     "output_type": "display_data"
    },
    {
     "name": "stdout",
     "output_type": "stream",
     "text": [
      "Empirical Difference in Means: 5.698841799847791\n",
      "\n",
      "H0 = No difference between the 2 distributions\n",
      "H1 = There is a difference between the 2 distributions\n",
      "P-Value: 0.0 | Reject H0\n"
     ]
    }
   ],
   "source": [
    "h.compareCDF(firstDf[\"fare\"], lastDf[\"fare\"])\n",
    "h.identicalMeans(firstDf[\"fare\"], lastDf[\"fare\"], number_of_experiments)"
   ]
  },
  {
   "cell_type": "code",
   "execution_count": 24,
   "metadata": {},
   "outputs": [
    {
     "data": {
      "image/png": "[encoded data removed]",
      "text/plain": [
       "<matplotlib.figure.Figure at 0x2f753381780>"
      ]
     },
     "metadata": {},
     "output_type": "display_data"
    },
    {
     "name": "stdout",
     "output_type": "stream",
     "text": [
      "Empirical Difference in Means: 2.1460937500000004\n",
      "\n",
      "H0 = No difference between the 2 distributions\n",
      "H1 = There is a difference between the 2 distributions\n",
      "P-Value: 0.0 | Reject H0\n"
     ]
    }
   ],
   "source": [
    "h.compareCDF(firstDf[\"tips\"], lastDf[\"tips\"])\n",
    "h.identicalMeans(firstDf[\"tips\"], lastDf[\"tips\"], number_of_experiments)"
   ]
  },
  {
   "cell_type": "markdown",
   "metadata": {},
   "source": [
    "### Joining socioeconomic data"
   ]
  },
  {
   "cell_type": "code",
   "execution_count": 26,
   "metadata": {},
   "outputs": [
    {
     "name": "stdout",
     "output_type": "stream",
     "text": [
      "Before Join: 527014\n",
      "After Join: 527014\n"
     ]
    },
    {
     "data": {
      "text/html": [
       "<div>\n",
       "<style>\n",
       "    .dataframe thead tr:only-child th {\n",
       "        text-align: right;\n",
       "    }\n",
       "\n",
       "    .dataframe thead th {\n",
       "        text-align: left;\n",
       "    }\n",
       "\n",
       "    .dataframe tbody tr th {\n",
       "        vertical-align: top;\n",
       "    }\n",
       "</style>\n",
       "<table border=\"1\" class=\"dataframe\">\n",
       "  <thead>\n",
       "    <tr style=\"text-align: right;\">\n",
       "      <th></th>\n",
       "      <th>taxi_id</th>\n",
       "      <th>tolls</th>\n",
       "      <th>trip_start_timestamp</th>\n",
       "      <th>trip_end_timestamp</th>\n",
       "      <th>company</th>\n",
       "      <th>dropoff_centroid_longitude</th>\n",
       "      <th>dropoff_centroid_latitude</th>\n",
       "      <th>fare</th>\n",
       "      <th>payment_type</th>\n",
       "      <th>pickup_centroid_latitude</th>\n",
       "      <th>...</th>\n",
       "      <th>season</th>\n",
       "      <th>CommunityAreaNumber</th>\n",
       "      <th>CommunityAreaName</th>\n",
       "      <th>PercentHousingCrowded</th>\n",
       "      <th>PercentBelowPoverty</th>\n",
       "      <th>PercentUnemployed</th>\n",
       "      <th>PercentNoHsDiploma</th>\n",
       "      <th>PercentUnder18OrOver64</th>\n",
       "      <th>PercentCapitaIncome</th>\n",
       "      <th>HardshipIndex</th>\n",
       "    </tr>\n",
       "  </thead>\n",
       "  <tbody>\n",
       "    <tr>\n",
       "      <th>0</th>\n",
       "      <td>10b2fc771259a5d8a802c85b6a1d0f5efe023f55bbd504...</td>\n",
       "      <td>0.0</td>\n",
       "      <td>10/30/2016 01:00 AM</td>\n",
       "      <td>10/30/2016 01:15 AM</td>\n",
       "      <td>Blue Ribbon Taxi Association Inc.</td>\n",
       "      <td>-87.670167</td>\n",
       "      <td>42.009623</td>\n",
       "      <td>11.50</td>\n",
       "      <td>Credit Card</td>\n",
       "      <td>41.965812</td>\n",
       "      <td>...</td>\n",
       "      <td>Fall</td>\n",
       "      <td>3.0</td>\n",
       "      <td>Uptown</td>\n",
       "      <td>3.8</td>\n",
       "      <td>24.0</td>\n",
       "      <td>8.9</td>\n",
       "      <td>11.8</td>\n",
       "      <td>22.2</td>\n",
       "      <td>35787</td>\n",
       "      <td>20</td>\n",
       "    </tr>\n",
       "    <tr>\n",
       "      <th>1</th>\n",
       "      <td>845cdbcd961992102ca6b9de75a863d83d457881dad5bf...</td>\n",
       "      <td>0.0</td>\n",
       "      <td>10/21/2016 05:30 PM</td>\n",
       "      <td>10/21/2016 05:45 PM</td>\n",
       "      <td>Taxi Affiliation Services</td>\n",
       "      <td>-87.663416</td>\n",
       "      <td>41.986712</td>\n",
       "      <td>6.75</td>\n",
       "      <td>Cash</td>\n",
       "      <td>41.965812</td>\n",
       "      <td>...</td>\n",
       "      <td>Fall</td>\n",
       "      <td>3.0</td>\n",
       "      <td>Uptown</td>\n",
       "      <td>3.8</td>\n",
       "      <td>24.0</td>\n",
       "      <td>8.9</td>\n",
       "      <td>11.8</td>\n",
       "      <td>22.2</td>\n",
       "      <td>35787</td>\n",
       "      <td>20</td>\n",
       "    </tr>\n",
       "    <tr>\n",
       "      <th>2</th>\n",
       "      <td>362cf500ce42cd24f06a444a24664b51d006a1378ee518...</td>\n",
       "      <td>0.0</td>\n",
       "      <td>10/05/2016 11:45 AM</td>\n",
       "      <td>10/05/2016 12:00 PM</td>\n",
       "      <td>Northwest Management LLC</td>\n",
       "      <td>-87.763399</td>\n",
       "      <td>41.954028</td>\n",
       "      <td>21.75</td>\n",
       "      <td>No Charge</td>\n",
       "      <td>41.965812</td>\n",
       "      <td>...</td>\n",
       "      <td>Fall</td>\n",
       "      <td>3.0</td>\n",
       "      <td>Uptown</td>\n",
       "      <td>3.8</td>\n",
       "      <td>24.0</td>\n",
       "      <td>8.9</td>\n",
       "      <td>11.8</td>\n",
       "      <td>22.2</td>\n",
       "      <td>35787</td>\n",
       "      <td>20</td>\n",
       "    </tr>\n",
       "    <tr>\n",
       "      <th>3</th>\n",
       "      <td>da837ee33107a59b55ca160f2f85aee90cc3201a182632...</td>\n",
       "      <td>0.0</td>\n",
       "      <td>09/22/2016 07:45 PM</td>\n",
       "      <td>09/22/2016 07:45 PM</td>\n",
       "      <td>Blue Ribbon Taxi Association Inc.</td>\n",
       "      <td>-87.655879</td>\n",
       "      <td>41.965812</td>\n",
       "      <td>3.75</td>\n",
       "      <td>Cash</td>\n",
       "      <td>41.965812</td>\n",
       "      <td>...</td>\n",
       "      <td>Fall</td>\n",
       "      <td>3.0</td>\n",
       "      <td>Uptown</td>\n",
       "      <td>3.8</td>\n",
       "      <td>24.0</td>\n",
       "      <td>8.9</td>\n",
       "      <td>11.8</td>\n",
       "      <td>22.2</td>\n",
       "      <td>35787</td>\n",
       "      <td>20</td>\n",
       "    </tr>\n",
       "    <tr>\n",
       "      <th>4</th>\n",
       "      <td>3edf5aaee7cd5378f854cca9e574820e57badb93344e0c...</td>\n",
       "      <td>0.0</td>\n",
       "      <td>09/09/2016 05:45 PM</td>\n",
       "      <td>09/09/2016 06:30 PM</td>\n",
       "      <td>Choice Taxi Association</td>\n",
       "      <td>-87.632746</td>\n",
       "      <td>41.880994</td>\n",
       "      <td>23.75</td>\n",
       "      <td>Cash</td>\n",
       "      <td>41.958155</td>\n",
       "      <td>...</td>\n",
       "      <td>Fall</td>\n",
       "      <td>3.0</td>\n",
       "      <td>Uptown</td>\n",
       "      <td>3.8</td>\n",
       "      <td>24.0</td>\n",
       "      <td>8.9</td>\n",
       "      <td>11.8</td>\n",
       "      <td>22.2</td>\n",
       "      <td>35787</td>\n",
       "      <td>20</td>\n",
       "    </tr>\n",
       "  </tbody>\n",
       "</table>\n",
       "<p>5 rows × 27 columns</p>\n",
       "</div>"
      ],
      "text/plain": [
       "                                             taxi_id  tolls  \\\n",
       "0  10b2fc771259a5d8a802c85b6a1d0f5efe023f55bbd504...    0.0   \n",
       "1  845cdbcd961992102ca6b9de75a863d83d457881dad5bf...    0.0   \n",
       "2  362cf500ce42cd24f06a444a24664b51d006a1378ee518...    0.0   \n",
       "3  da837ee33107a59b55ca160f2f85aee90cc3201a182632...    0.0   \n",
       "4  3edf5aaee7cd5378f854cca9e574820e57badb93344e0c...    0.0   \n",
       "\n",
       "  trip_start_timestamp   trip_end_timestamp  \\\n",
       "0  10/30/2016 01:00 AM  10/30/2016 01:15 AM   \n",
       "1  10/21/2016 05:30 PM  10/21/2016 05:45 PM   \n",
       "2  10/05/2016 11:45 AM  10/05/2016 12:00 PM   \n",
       "3  09/22/2016 07:45 PM  09/22/2016 07:45 PM   \n",
       "4  09/09/2016 05:45 PM  09/09/2016 06:30 PM   \n",
       "\n",
       "                             company  dropoff_centroid_longitude  \\\n",
       "0  Blue Ribbon Taxi Association Inc.                  -87.670167   \n",
       "1          Taxi Affiliation Services                  -87.663416   \n",
       "2           Northwest Management LLC                  -87.763399   \n",
       "3  Blue Ribbon Taxi Association Inc.                  -87.655879   \n",
       "4            Choice Taxi Association                  -87.632746   \n",
       "\n",
       "   dropoff_centroid_latitude   fare payment_type  pickup_centroid_latitude  \\\n",
       "0                  42.009623  11.50  Credit Card                 41.965812   \n",
       "1                  41.986712   6.75         Cash                 41.965812   \n",
       "2                  41.954028  21.75    No Charge                 41.965812   \n",
       "3                  41.965812   3.75         Cash                 41.965812   \n",
       "4                  41.880994  23.75         Cash                 41.958155   \n",
       "\n",
       "       ...       season  CommunityAreaNumber  CommunityAreaName  \\\n",
       "0      ...         Fall                  3.0             Uptown   \n",
       "1      ...         Fall                  3.0             Uptown   \n",
       "2      ...         Fall                  3.0             Uptown   \n",
       "3      ...         Fall                  3.0             Uptown   \n",
       "4      ...         Fall                  3.0             Uptown   \n",
       "\n",
       "   PercentHousingCrowded  PercentBelowPoverty  PercentUnemployed  \\\n",
       "0                    3.8                 24.0                8.9   \n",
       "1                    3.8                 24.0                8.9   \n",
       "2                    3.8                 24.0                8.9   \n",
       "3                    3.8                 24.0                8.9   \n",
       "4                    3.8                 24.0                8.9   \n",
       "\n",
       "   PercentNoHsDiploma PercentUnder18OrOver64  PercentCapitaIncome  \\\n",
       "0                11.8                   22.2                35787   \n",
       "1                11.8                   22.2                35787   \n",
       "2                11.8                   22.2                35787   \n",
       "3                11.8                   22.2                35787   \n",
       "4                11.8                   22.2                35787   \n",
       "\n",
       "  HardshipIndex  \n",
       "0            20  \n",
       "1            20  \n",
       "2            20  \n",
       "3            20  \n",
       "4            20  \n",
       "\n",
       "[5 rows x 27 columns]"
      ]
     },
     "execution_count": 26,
     "metadata": {},
     "output_type": "execute_result"
    }
   ],
   "source": [
    "interestedCompanies = np.array(meanEarnings[\"company\"])\n",
    "\n",
    "interestedDf = interestedTrips[interestedTrips[\"company\"]\\\n",
    "                               .isin(interestedCompanies)]\n",
    "\n",
    "print(\"Before Join:\", len(interestedDf))\n",
    "\n",
    "econ[\"CommunityAreaNumber\"] = econ[\"CommunityAreaNumber\"]\\\n",
    "    .astype(\"float\").fillna(0.0)\n",
    "    \n",
    "interestedDf = pd.merge(interestedDf, econ, left_on = \"pickup_community_area\", \\\n",
    "                     right_on = \"CommunityAreaNumber\", how = \"inner\")\n",
    "\n",
    "print(\"After Join:\", len(interestedDf))\n",
    "\n",
    "interestedDf.to_csv(\"data/2016/trip_socioeconomic_joined.csv\", index = False)\n",
    "interestedDf.head()"
   ]
  }
 ],
 "metadata": {
  "kernelspec": {
   "display_name": "Python 3",
   "language": "python",
   "name": "python3"
  },
  "language_info": {
   "codemirror_mode": {
    "name": "ipython",
    "version": 3
   },
   "file_extension": ".py",
   "mimetype": "text/x-python",
   "name": "python",
   "nbconvert_exporter": "python",
   "pygments_lexer": "ipython3",
   "version": "3.6.1"
  }
 },
 "nbformat": 4,
 "nbformat_minor": 2
}
