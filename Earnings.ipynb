{
 "cells": [
  {
   "cell_type": "code",
   "execution_count": 1,
   "metadata": {
    "collapsed": true
   },
   "outputs": [],
   "source": [
    "import pandas as pd\n",
    "import seaborn as sns\n",
    "import numpy as np\n",
    "import matplotlib.pyplot as plt\n",
    "from os import listdir\n",
    "from os.path import isfile, join\n",
    "from scipy import stats\n",
    "import time\n",
    "\n",
    "# set seaborn settings\n",
    "sns.set()\n",
    "plt.rcParams[\"patch.force_edgecolor\"] = True # set lines\n",
    "sns.set_style(\"whitegrid\")\n",
    "\n",
    "import warnings\n",
    "warnings.filterwarnings('ignore')\n",
    "\n",
    "## import custom helper functions\n",
    "import helpers as h"
   ]
  },
  {
   "cell_type": "code",
   "execution_count": 2,
   "metadata": {
    "collapsed": true
   },
   "outputs": [],
   "source": [
    "econ = pd.read_csv(\"data/Chicago_Socioeconomic.csv\")"
   ]
  },
  {
   "cell_type": "code",
   "execution_count": 3,
   "metadata": {},
   "outputs": [
    {
     "data": {
      "text/html": [
       "<div>\n",
       "<style>\n",
       "    .dataframe thead tr:only-child th {\n",
       "        text-align: right;\n",
       "    }\n",
       "\n",
       "    .dataframe thead th {\n",
       "        text-align: left;\n",
       "    }\n",
       "\n",
       "    .dataframe tbody tr th {\n",
       "        vertical-align: top;\n",
       "    }\n",
       "</style>\n",
       "<table border=\"1\" class=\"dataframe\">\n",
       "  <thead>\n",
       "    <tr style=\"text-align: right;\">\n",
       "      <th></th>\n",
       "      <th>Community Area Number</th>\n",
       "      <th>COMMUNITY AREA NAME</th>\n",
       "      <th>PERCENT OF HOUSING CROWDED</th>\n",
       "      <th>PERCENT HOUSEHOLDS BELOW POVERTY</th>\n",
       "      <th>PERCENT AGED 16+ UNEMPLOYED</th>\n",
       "      <th>PERCENT AGED 25+ WITHOUT HIGH SCHOOL DIPLOMA</th>\n",
       "      <th>PERCENT AGED UNDER 18 OR OVER 64</th>\n",
       "      <th>PER CAPITA INCOME</th>\n",
       "      <th>HARDSHIP INDEX</th>\n",
       "    </tr>\n",
       "  </thead>\n",
       "  <tbody>\n",
       "    <tr>\n",
       "      <th>0</th>\n",
       "      <td>1</td>\n",
       "      <td>Rogers Park</td>\n",
       "      <td>7.7</td>\n",
       "      <td>23.6</td>\n",
       "      <td>8.7</td>\n",
       "      <td>18.2</td>\n",
       "      <td>27.5</td>\n",
       "      <td>23939</td>\n",
       "      <td>39</td>\n",
       "    </tr>\n",
       "    <tr>\n",
       "      <th>1</th>\n",
       "      <td>2</td>\n",
       "      <td>West Ridge</td>\n",
       "      <td>7.8</td>\n",
       "      <td>17.2</td>\n",
       "      <td>8.8</td>\n",
       "      <td>20.8</td>\n",
       "      <td>38.5</td>\n",
       "      <td>23040</td>\n",
       "      <td>46</td>\n",
       "    </tr>\n",
       "    <tr>\n",
       "      <th>2</th>\n",
       "      <td>3</td>\n",
       "      <td>Uptown</td>\n",
       "      <td>3.8</td>\n",
       "      <td>24.0</td>\n",
       "      <td>8.9</td>\n",
       "      <td>11.8</td>\n",
       "      <td>22.2</td>\n",
       "      <td>35787</td>\n",
       "      <td>20</td>\n",
       "    </tr>\n",
       "    <tr>\n",
       "      <th>3</th>\n",
       "      <td>4</td>\n",
       "      <td>Lincoln Square</td>\n",
       "      <td>3.4</td>\n",
       "      <td>10.9</td>\n",
       "      <td>8.2</td>\n",
       "      <td>13.4</td>\n",
       "      <td>25.5</td>\n",
       "      <td>37524</td>\n",
       "      <td>17</td>\n",
       "    </tr>\n",
       "    <tr>\n",
       "      <th>4</th>\n",
       "      <td>5</td>\n",
       "      <td>North Center</td>\n",
       "      <td>0.3</td>\n",
       "      <td>7.5</td>\n",
       "      <td>5.2</td>\n",
       "      <td>4.5</td>\n",
       "      <td>26.2</td>\n",
       "      <td>57123</td>\n",
       "      <td>6</td>\n",
       "    </tr>\n",
       "  </tbody>\n",
       "</table>\n",
       "</div>"
      ],
      "text/plain": [
       "   Community Area Number COMMUNITY AREA NAME  PERCENT OF HOUSING CROWDED  \\\n",
       "0                      1         Rogers Park                         7.7   \n",
       "1                      2          West Ridge                         7.8   \n",
       "2                      3              Uptown                         3.8   \n",
       "3                      4      Lincoln Square                         3.4   \n",
       "4                      5        North Center                         0.3   \n",
       "\n",
       "   PERCENT HOUSEHOLDS BELOW POVERTY  PERCENT AGED 16+ UNEMPLOYED  \\\n",
       "0                              23.6                          8.7   \n",
       "1                              17.2                          8.8   \n",
       "2                              24.0                          8.9   \n",
       "3                              10.9                          8.2   \n",
       "4                               7.5                          5.2   \n",
       "\n",
       "   PERCENT AGED 25+ WITHOUT HIGH SCHOOL DIPLOMA  \\\n",
       "0                                          18.2   \n",
       "1                                          20.8   \n",
       "2                                          11.8   \n",
       "3                                          13.4   \n",
       "4                                           4.5   \n",
       "\n",
       "   PERCENT AGED UNDER 18 OR OVER 64  PER CAPITA INCOME   HARDSHIP INDEX  \n",
       "0                              27.5               23939              39  \n",
       "1                              38.5               23040              46  \n",
       "2                              22.2               35787              20  \n",
       "3                              25.5               37524              17  \n",
       "4                              26.2               57123               6  "
      ]
     },
     "execution_count": 3,
     "metadata": {},
     "output_type": "execute_result"
    }
   ],
   "source": [
    "econ.head()"
   ]
  },
  {
   "cell_type": "code",
   "execution_count": 4,
   "metadata": {},
   "outputs": [
    {
     "data": {
      "text/html": [
       "<div>\n",
       "<style>\n",
       "    .dataframe thead tr:only-child th {\n",
       "        text-align: right;\n",
       "    }\n",
       "\n",
       "    .dataframe thead th {\n",
       "        text-align: left;\n",
       "    }\n",
       "\n",
       "    .dataframe tbody tr th {\n",
       "        vertical-align: top;\n",
       "    }\n",
       "</style>\n",
       "<table border=\"1\" class=\"dataframe\">\n",
       "  <thead>\n",
       "    <tr style=\"text-align: right;\">\n",
       "      <th></th>\n",
       "      <th>CommunityAreaNumber</th>\n",
       "      <th>CommunityAreaName</th>\n",
       "      <th>PercentHousingCrowded</th>\n",
       "      <th>PercentBelowPoverty</th>\n",
       "      <th>PercentUnemployed</th>\n",
       "      <th>PercentNoHsDiploma</th>\n",
       "      <th>PercentUnder18OrOver64</th>\n",
       "      <th>PercentCapitaIncome</th>\n",
       "      <th>HardshipIndex</th>\n",
       "    </tr>\n",
       "  </thead>\n",
       "  <tbody>\n",
       "    <tr>\n",
       "      <th>0</th>\n",
       "      <td>1</td>\n",
       "      <td>Rogers Park</td>\n",
       "      <td>7.7</td>\n",
       "      <td>23.6</td>\n",
       "      <td>8.7</td>\n",
       "      <td>18.2</td>\n",
       "      <td>27.5</td>\n",
       "      <td>23939</td>\n",
       "      <td>39</td>\n",
       "    </tr>\n",
       "    <tr>\n",
       "      <th>1</th>\n",
       "      <td>2</td>\n",
       "      <td>West Ridge</td>\n",
       "      <td>7.8</td>\n",
       "      <td>17.2</td>\n",
       "      <td>8.8</td>\n",
       "      <td>20.8</td>\n",
       "      <td>38.5</td>\n",
       "      <td>23040</td>\n",
       "      <td>46</td>\n",
       "    </tr>\n",
       "    <tr>\n",
       "      <th>2</th>\n",
       "      <td>3</td>\n",
       "      <td>Uptown</td>\n",
       "      <td>3.8</td>\n",
       "      <td>24.0</td>\n",
       "      <td>8.9</td>\n",
       "      <td>11.8</td>\n",
       "      <td>22.2</td>\n",
       "      <td>35787</td>\n",
       "      <td>20</td>\n",
       "    </tr>\n",
       "    <tr>\n",
       "      <th>3</th>\n",
       "      <td>4</td>\n",
       "      <td>Lincoln Square</td>\n",
       "      <td>3.4</td>\n",
       "      <td>10.9</td>\n",
       "      <td>8.2</td>\n",
       "      <td>13.4</td>\n",
       "      <td>25.5</td>\n",
       "      <td>37524</td>\n",
       "      <td>17</td>\n",
       "    </tr>\n",
       "    <tr>\n",
       "      <th>4</th>\n",
       "      <td>5</td>\n",
       "      <td>North Center</td>\n",
       "      <td>0.3</td>\n",
       "      <td>7.5</td>\n",
       "      <td>5.2</td>\n",
       "      <td>4.5</td>\n",
       "      <td>26.2</td>\n",
       "      <td>57123</td>\n",
       "      <td>6</td>\n",
       "    </tr>\n",
       "  </tbody>\n",
       "</table>\n",
       "</div>"
      ],
      "text/plain": [
       "   CommunityAreaNumber CommunityAreaName  PercentHousingCrowded  \\\n",
       "0                    1       Rogers Park                    7.7   \n",
       "1                    2        West Ridge                    7.8   \n",
       "2                    3            Uptown                    3.8   \n",
       "3                    4    Lincoln Square                    3.4   \n",
       "4                    5      North Center                    0.3   \n",
       "\n",
       "   PercentBelowPoverty  PercentUnemployed  PercentNoHsDiploma  \\\n",
       "0                 23.6                8.7                18.2   \n",
       "1                 17.2                8.8                20.8   \n",
       "2                 24.0                8.9                11.8   \n",
       "3                 10.9                8.2                13.4   \n",
       "4                  7.5                5.2                 4.5   \n",
       "\n",
       "   PercentUnder18OrOver64  PercentCapitaIncome  HardshipIndex  \n",
       "0                    27.5                23939             39  \n",
       "1                    38.5                23040             46  \n",
       "2                    22.2                35787             20  \n",
       "3                    25.5                37524             17  \n",
       "4                    26.2                57123              6  "
      ]
     },
     "execution_count": 4,
     "metadata": {},
     "output_type": "execute_result"
    }
   ],
   "source": [
    "newEconColumns = [\"CommunityAreaNumber\", \"CommunityAreaName\", \"PercentHousingCrowded\", \\\n",
    "                  \"PercentBelowPoverty\", \"PercentUnemployed\", \"PercentNoHsDiploma\", \"PercentUnder18OrOver64\", \\\n",
    "                  \"PercentCapitaIncome\", \"HardshipIndex\"]\n",
    "\n",
    "econ.columns = newEconColumns\n",
    "\n",
    "econ.head()"
   ]
  },
  {
   "cell_type": "code",
   "execution_count": 5,
   "metadata": {
    "collapsed": true
   },
   "outputs": [],
   "source": [
    "fallDf = pd.read_csv(\"data/2016/fall.csv\")\n",
    "winterDf = pd.read_csv(\"data/2016/winter.csv\")\n",
    "springDf = pd.read_csv(\"data/2016/spring.csv\")\n",
    "summerDf = pd.read_csv(\"data/2016/summer.csv\")"
   ]
  },
  {
   "cell_type": "code",
   "execution_count": 6,
   "metadata": {},
   "outputs": [],
   "source": [
    "# i don't wanna work on the entire dataset. \n",
    "# taking a fraction only.\n",
    "\n",
    "fallFrac = fallDf.sample(frac = 0.002)\n",
    "winterFrac = winterDf.sample(frac = 0.002)\n",
    "springFrac = springDf.sample(frac = 0.002)\n",
    "summerFrac = summerDf.sample(frac = 0.002)"
   ]
  },
  {
   "cell_type": "code",
   "execution_count": 7,
   "metadata": {
    "collapsed": true
   },
   "outputs": [],
   "source": [
    "fall = h.convertDataType(fallFrac)\n",
    "winter = h.convertDataType(winterFrac)\n",
    "spring = h.convertDataType(springFrac)\n",
    "summer = h.convertDataType(summerFrac)"
   ]
  },
  {
   "cell_type": "code",
   "execution_count": 8,
   "metadata": {},
   "outputs": [
    {
     "name": "stdout",
     "output_type": "stream",
     "text": [
      "39757\n"
     ]
    }
   ],
   "source": [
    "fall[\"season\"] = \"Fall\"\n",
    "winter[\"season\"] = \"Winter\"\n",
    "spring[\"season\"] = \"Spring\"\n",
    "summer[\"season\"] = \"Summer\"\n",
    "\n",
    "\n",
    "all = pd.DataFrame()\n",
    "all = pd.concat([fall, winter, spring, summer])\n",
    "print(len(all))"
   ]
  },
  {
   "cell_type": "code",
   "execution_count": 9,
   "metadata": {},
   "outputs": [
    {
     "data": {
      "text/html": [
       "<div>\n",
       "<style>\n",
       "    .dataframe thead tr:only-child th {\n",
       "        text-align: right;\n",
       "    }\n",
       "\n",
       "    .dataframe thead th {\n",
       "        text-align: left;\n",
       "    }\n",
       "\n",
       "    .dataframe tbody tr th {\n",
       "        vertical-align: top;\n",
       "    }\n",
       "</style>\n",
       "<table border=\"1\" class=\"dataframe\">\n",
       "  <thead>\n",
       "    <tr style=\"text-align: right;\">\n",
       "      <th></th>\n",
       "      <th>taxi_id</th>\n",
       "      <th>tolls</th>\n",
       "      <th>trip_start_timestamp</th>\n",
       "      <th>trip_end_timestamp</th>\n",
       "      <th>company</th>\n",
       "      <th>dropoff_centroid_longitude</th>\n",
       "      <th>dropoff_centroid_latitude</th>\n",
       "      <th>fare</th>\n",
       "      <th>payment_type</th>\n",
       "      <th>pickup_centroid_latitude</th>\n",
       "      <th>pickup_centroid_longitude</th>\n",
       "      <th>dropoff_community_area</th>\n",
       "      <th>pickup_community_area</th>\n",
       "      <th>tips</th>\n",
       "      <th>trip_miles</th>\n",
       "      <th>trip_seconds</th>\n",
       "      <th>trip_total</th>\n",
       "      <th>season</th>\n",
       "    </tr>\n",
       "  </thead>\n",
       "  <tbody>\n",
       "    <tr>\n",
       "      <th>2172376</th>\n",
       "      <td>ad4e285cc063909f5c4550bbc3b71f1c6672b9967c4868...</td>\n",
       "      <td>0.0</td>\n",
       "      <td>10/19/2016 05:45 PM</td>\n",
       "      <td>10/19/2016 06:00 PM</td>\n",
       "      <td>Taxi Affiliation Services</td>\n",
       "      <td>-87.626211</td>\n",
       "      <td>41.899156</td>\n",
       "      <td>8.50</td>\n",
       "      <td>Cash</td>\n",
       "      <td>41.877406</td>\n",
       "      <td>-87.621972</td>\n",
       "      <td>8.0</td>\n",
       "      <td>32.0</td>\n",
       "      <td>0.0</td>\n",
       "      <td>0.0</td>\n",
       "      <td>720.0</td>\n",
       "      <td>9.50</td>\n",
       "      <td>Fall</td>\n",
       "    </tr>\n",
       "    <tr>\n",
       "      <th>2693475</th>\n",
       "      <td>672b32a3095e6fbbade933d3bffc431a9e840b9ed25f12...</td>\n",
       "      <td>0.0</td>\n",
       "      <td>10/29/2016 06:15 PM</td>\n",
       "      <td>10/29/2016 06:30 PM</td>\n",
       "      <td>Taxi Affiliation Services</td>\n",
       "      <td>-87.642649</td>\n",
       "      <td>41.879255</td>\n",
       "      <td>7.75</td>\n",
       "      <td>Cash</td>\n",
       "      <td>41.884987</td>\n",
       "      <td>-87.620993</td>\n",
       "      <td>28.0</td>\n",
       "      <td>32.0</td>\n",
       "      <td>0.0</td>\n",
       "      <td>0.0</td>\n",
       "      <td>540.0</td>\n",
       "      <td>7.75</td>\n",
       "      <td>Fall</td>\n",
       "    </tr>\n",
       "    <tr>\n",
       "      <th>2168307</th>\n",
       "      <td>9c342c3e26241156bda22e93a566202f8fd3d741fe256a...</td>\n",
       "      <td>0.0</td>\n",
       "      <td>10/19/2016 04:15 PM</td>\n",
       "      <td>10/19/2016 04:30 PM</td>\n",
       "      <td>Taxi Affiliation Services</td>\n",
       "      <td>-87.637844</td>\n",
       "      <td>41.893216</td>\n",
       "      <td>6.00</td>\n",
       "      <td>Cash</td>\n",
       "      <td>41.880994</td>\n",
       "      <td>-87.632746</td>\n",
       "      <td>8.0</td>\n",
       "      <td>32.0</td>\n",
       "      <td>0.0</td>\n",
       "      <td>0.9</td>\n",
       "      <td>360.0</td>\n",
       "      <td>6.00</td>\n",
       "      <td>Fall</td>\n",
       "    </tr>\n",
       "    <tr>\n",
       "      <th>1070768</th>\n",
       "      <td>4a6999af87938af4508e5f78d1b369286255414b57bec1...</td>\n",
       "      <td>0.0</td>\n",
       "      <td>09/26/2016 05:15 PM</td>\n",
       "      <td>09/26/2016 05:15 PM</td>\n",
       "      <td>NaN</td>\n",
       "      <td>NaN</td>\n",
       "      <td>NaN</td>\n",
       "      <td>7.00</td>\n",
       "      <td>Credit Card</td>\n",
       "      <td>NaN</td>\n",
       "      <td>NaN</td>\n",
       "      <td>NaN</td>\n",
       "      <td>NaN</td>\n",
       "      <td>2.0</td>\n",
       "      <td>1.2</td>\n",
       "      <td>540.0</td>\n",
       "      <td>9.50</td>\n",
       "      <td>Fall</td>\n",
       "    </tr>\n",
       "    <tr>\n",
       "      <th>1862196</th>\n",
       "      <td>ed0f27fd2e6c5845a54ad7d75ac79947ed1ebb11313cc4...</td>\n",
       "      <td>0.0</td>\n",
       "      <td>10/13/2016 05:45 PM</td>\n",
       "      <td>10/13/2016 06:00 PM</td>\n",
       "      <td>NaN</td>\n",
       "      <td>-87.624135</td>\n",
       "      <td>41.849247</td>\n",
       "      <td>13.25</td>\n",
       "      <td>Cash</td>\n",
       "      <td>41.892508</td>\n",
       "      <td>-87.626215</td>\n",
       "      <td>33.0</td>\n",
       "      <td>8.0</td>\n",
       "      <td>0.0</td>\n",
       "      <td>3.4</td>\n",
       "      <td>1020.0</td>\n",
       "      <td>14.75</td>\n",
       "      <td>Fall</td>\n",
       "    </tr>\n",
       "  </tbody>\n",
       "</table>\n",
       "</div>"
      ],
      "text/plain": [
       "                                                   taxi_id  tolls  \\\n",
       "2172376  ad4e285cc063909f5c4550bbc3b71f1c6672b9967c4868...    0.0   \n",
       "2693475  672b32a3095e6fbbade933d3bffc431a9e840b9ed25f12...    0.0   \n",
       "2168307  9c342c3e26241156bda22e93a566202f8fd3d741fe256a...    0.0   \n",
       "1070768  4a6999af87938af4508e5f78d1b369286255414b57bec1...    0.0   \n",
       "1862196  ed0f27fd2e6c5845a54ad7d75ac79947ed1ebb11313cc4...    0.0   \n",
       "\n",
       "        trip_start_timestamp   trip_end_timestamp                    company  \\\n",
       "2172376  10/19/2016 05:45 PM  10/19/2016 06:00 PM  Taxi Affiliation Services   \n",
       "2693475  10/29/2016 06:15 PM  10/29/2016 06:30 PM  Taxi Affiliation Services   \n",
       "2168307  10/19/2016 04:15 PM  10/19/2016 04:30 PM  Taxi Affiliation Services   \n",
       "1070768  09/26/2016 05:15 PM  09/26/2016 05:15 PM                        NaN   \n",
       "1862196  10/13/2016 05:45 PM  10/13/2016 06:00 PM                        NaN   \n",
       "\n",
       "         dropoff_centroid_longitude  dropoff_centroid_latitude   fare  \\\n",
       "2172376                  -87.626211                  41.899156   8.50   \n",
       "2693475                  -87.642649                  41.879255   7.75   \n",
       "2168307                  -87.637844                  41.893216   6.00   \n",
       "1070768                         NaN                        NaN   7.00   \n",
       "1862196                  -87.624135                  41.849247  13.25   \n",
       "\n",
       "        payment_type  pickup_centroid_latitude  pickup_centroid_longitude  \\\n",
       "2172376         Cash                 41.877406                 -87.621972   \n",
       "2693475         Cash                 41.884987                 -87.620993   \n",
       "2168307         Cash                 41.880994                 -87.632746   \n",
       "1070768  Credit Card                       NaN                        NaN   \n",
       "1862196         Cash                 41.892508                 -87.626215   \n",
       "\n",
       "         dropoff_community_area  pickup_community_area  tips  trip_miles  \\\n",
       "2172376                     8.0                   32.0   0.0         0.0   \n",
       "2693475                    28.0                   32.0   0.0         0.0   \n",
       "2168307                     8.0                   32.0   0.0         0.9   \n",
       "1070768                     NaN                    NaN   2.0         1.2   \n",
       "1862196                    33.0                    8.0   0.0         3.4   \n",
       "\n",
       "         trip_seconds  trip_total season  \n",
       "2172376         720.0        9.50   Fall  \n",
       "2693475         540.0        7.75   Fall  \n",
       "2168307         360.0        6.00   Fall  \n",
       "1070768         540.0        9.50   Fall  \n",
       "1862196        1020.0       14.75   Fall  "
      ]
     },
     "execution_count": 9,
     "metadata": {},
     "output_type": "execute_result"
    }
   ],
   "source": [
    "all.head()"
   ]
  },
  {
   "cell_type": "markdown",
   "metadata": {},
   "source": [
    "Now I have sampled version of each seasons. I'd like to look through the earnings of each company throughout each season to see who earns more. For the sake of simplicity, I'll just look at the \"trip_total\" column for comparison. "
   ]
  },
  {
   "cell_type": "code",
   "execution_count": 10,
   "metadata": {},
   "outputs": [
    {
     "data": {
      "image/png": "[encoded data removed]",
      "text/plain": [
       "<matplotlib.figure.Figure at 0x2d71fb65048>"
      ]
     },
     "metadata": {},
     "output_type": "display_data"
    }
   ],
   "source": [
    "h.buildHistogram(all[\"trip_total\"])"
   ]
  },
  {
   "cell_type": "code",
   "execution_count": 11,
   "metadata": {},
   "outputs": [
    {
     "data": {
      "image/png": "[encoded data removed]",
      "text/plain": [
       "<matplotlib.figure.Figure at 0x2d7442f69b0>"
      ]
     },
     "metadata": {},
     "output_type": "display_data"
    }
   ],
   "source": [
    "h.buildECDF(all[\"trip_total\"])"
   ]
  },
  {
   "cell_type": "code",
   "execution_count": 12,
   "metadata": {},
   "outputs": [
    {
     "data": {
      "text/plain": [
       "count    39757.000000\n",
       "mean        16.559029\n",
       "std         17.443740\n",
       "min          0.000000\n",
       "25%          7.500000\n",
       "50%         10.190000\n",
       "75%         16.500000\n",
       "max        888.390000\n",
       "Name: trip_total, dtype: float64"
      ]
     },
     "execution_count": 12,
     "metadata": {},
     "output_type": "execute_result"
    }
   ],
   "source": [
    "all[\"trip_total\"].describe()"
   ]
  },
  {
   "cell_type": "markdown",
   "metadata": {},
   "source": [
    "## Comparing seasonal earnings"
   ]
  },
  {
   "cell_type": "code",
   "execution_count": 13,
   "metadata": {},
   "outputs": [
    {
     "data": {
      "image/png": "[encoded data removed]",
      "text/plain": [
       "<matplotlib.figure.Figure at 0x2d7206e5b00>"
      ]
     },
     "metadata": {},
     "output_type": "display_data"
    }
   ],
   "source": [
    "# Generate CDFs\n",
    "x_winter, y_winter = h.getECDF(winter[\"trip_total\"])\n",
    "x_fall, y_fall = h.getECDF(fall[\"trip_total\"])\n",
    "x_summer, y_summer = h.getECDF(summer[\"trip_total\"])\n",
    "x_spring, y_spring = h.getECDF(spring[\"trip_total\"])\n",
    "\n",
    "# plot CDFs\n",
    "_ = plt.plot(x_winter, y_winter, marker = \".\", linestyle = \"none\")\n",
    "_ = plt.plot(x_fall, y_fall, marker = \".\", linestyle = \"none\")\n",
    "_ = plt.plot(x_summer, y_summer, marker = \".\", linestyle = \"none\")\n",
    "_ = plt.plot(x_spring, y_spring, marker = \".\", linestyle = \"none\")\n",
    "\n",
    "# Make 2% margin\n",
    "plt.margins(0.02)\n",
    "\n",
    "# Make a legend and show the plot\n",
    "_ = plt.legend(('Winter', 'Fall', 'Summer', 'Spring'), loc='lower right')\n",
    "\n",
    "_ = plt.xlabel(\"Total Fare ($)\")\n",
    "_ = plt.ylabel(\"ECDF\")\n",
    "plt.show()"
   ]
  },
  {
   "cell_type": "markdown",
   "metadata": {},
   "source": [
    "Summer may yield better earnings than Winter due to the good weather. People may want to go out more and take longer trips to farther places. "
   ]
  },
  {
   "cell_type": "code",
   "execution_count": 14,
   "metadata": {
    "collapsed": true
   },
   "outputs": [],
   "source": [
    "winterEarnings = np.array(winter[\"trip_total\"])\n",
    "summerEarnings = np.array(summer[\"trip_total\"])\n",
    "springEarnings = np.array(spring[\"trip_total\"])\n",
    "fallEarnings = np.array(fall[\"trip_total\"])\n",
    "\n",
    "number_of_experiments = 10000"
   ]
  },
  {
   "cell_type": "markdown",
   "metadata": {},
   "source": [
    "Are the earnings for the 2 seasons different? If they are identical, they should have the same mean earnings so the difference in the mean earnings should be zero. We'll choose the difference in mean as our test statistic. The P-Value tells you that the percentage of chance that you would get the difference of means observed in the experiment if the earnings yields are exactly the same. \n",
    "\n",
    "Let's test out this hypothesis. \n",
    "\n",
    "* H0 = There is no difference between Summer and Winter earnings.\n",
    "* H1 = There is a difference between Summer and Winter earnings. "
   ]
  },
  {
   "cell_type": "code",
   "execution_count": 15,
   "metadata": {},
   "outputs": [
    {
     "data": {
      "image/png": "[encoded data removed]",
      "text/plain": [
       "<matplotlib.figure.Figure at 0x2d72066ba20>"
      ]
     },
     "metadata": {},
     "output_type": "display_data"
    },
    {
     "name": "stdout",
     "output_type": "stream",
     "text": [
      "Empirical Difference in Means: 1.1466851655\n",
      "\n",
      "H0 = No difference between the 2 distributions\n",
      "H1 = There is a difference between the 2 distributions\n",
      "P-Value: 0.0 | Reject H0\n"
     ]
    }
   ],
   "source": [
    "# compare summer and winter earnings\n",
    "h.compareCDF(summer[\"trip_total\"], winter[\"trip_total\"])\n",
    "h.identicalMeans(summerEarnings, winterEarnings, number_of_experiments)"
   ]
  },
  {
   "cell_type": "code",
   "execution_count": 16,
   "metadata": {},
   "outputs": [
    {
     "data": {
      "image/png": "[encoded data removed]",
      "text/plain": [
       "<matplotlib.figure.Figure at 0x2d72066b6a0>"
      ]
     },
     "metadata": {},
     "output_type": "display_data"
    },
    {
     "name": "stdout",
     "output_type": "stream",
     "text": [
      "Empirical Difference in Means: -1.39987270383\n",
      "\n",
      "H0 = No difference between the 2 distributions\n",
      "H1 = There is a difference between the 2 distributions\n",
      "P-Value: 0.0 | Reject H0\n"
     ]
    }
   ],
   "source": [
    "h.compareCDF(winter[\"trip_total\"], fall[\"trip_total\"])\n",
    "h.identicalMeans(winterEarnings, fallEarnings, number_of_experiments)"
   ]
  },
  {
   "cell_type": "code",
   "execution_count": 17,
   "metadata": {},
   "outputs": [
    {
     "data": {
      "image/png": "[encoded data removed]",
      "text/plain": [
       "<matplotlib.figure.Figure at 0x2d7208559b0>"
      ]
     },
     "metadata": {},
     "output_type": "display_data"
    },
    {
     "name": "stdout",
     "output_type": "stream",
     "text": [
      "Empirical Difference in Means: -0.804081052256\n",
      "\n",
      "H0 = No difference between the 2 distributions\n",
      "H1 = There is a difference between the 2 distributions\n",
      "P-Value: 0.0011 | Reject H0\n"
     ]
    }
   ],
   "source": [
    "h.compareCDF(spring[\"trip_total\"], fall[\"trip_total\"])\n",
    "h.identicalMeans(springEarnings, fallEarnings, number_of_experiments)"
   ]
  },
  {
   "cell_type": "markdown",
   "metadata": {},
   "source": [
    "What about Fall and Summer?"
   ]
  },
  {
   "cell_type": "code",
   "execution_count": 18,
   "metadata": {},
   "outputs": [
    {
     "data": {
      "image/png": "[encoded data removed]",
      "text/plain": [
       "<matplotlib.figure.Figure at 0x2d720675be0>"
      ]
     },
     "metadata": {},
     "output_type": "display_data"
    },
    {
     "name": "stdout",
     "output_type": "stream",
     "text": [
      "Empirical Difference in Means: 0.253187538328\n",
      "\n",
      "H0 = No difference between the 2 distributions\n",
      "H1 = There is a difference between the 2 distributions\n",
      "P-Value: 0.1804 | Fail to reject H0\n"
     ]
    }
   ],
   "source": [
    "h.compareCDF(fall[\"trip_total\"], summer[\"trip_total\"])\n",
    "h.identicalMeans(fallEarnings, summerEarnings, number_of_experiments)"
   ]
  },
  {
   "cell_type": "markdown",
   "metadata": {},
   "source": [
    "## Comparing taxi companies"
   ]
  },
  {
   "cell_type": "markdown",
   "metadata": {},
   "source": [
    "Is there a real difference between first place and last place? If so, where do they pick up/drop off their passengers? To find out, I need obtain records with Pickup/Dropoff locations. Unfortunately, some companies do not publish their locations so we can only work with what we have. "
   ]
  },
  {
   "cell_type": "code",
   "execution_count": 19,
   "metadata": {},
   "outputs": [
    {
     "name": "stdout",
     "output_type": "stream",
     "text": [
      "['585 - 88805 Valley Cab Co', '3141 - 87803 Zip Cab', '2823 - 73307 Lee Express Inc', '4197 - 41842 Royal Star', 'Chicago Medallion Management', '5129 - 87128', 'Blue Ribbon Taxi Association Inc.', '0694 - 59280 Chinesco Trans Inc', 'Patriot Trans Inc', '2241 - 44667 Manuel Alonso', '5074 - 54002 Ahzmi Inc', '3556 - 36214 RC Andrews Cab', 'Northwest Management LLC', '1085 - 72312 N and W Cab Co', '6747 - Mueen Abdalla', '5006 - 39261 Salifu Bawa', '0118 - 42111 Godfrey S.Awir', '6574 - Babylon Express Inc.', '3669 - 85800 Jordan Taxi Inc', 'Top Cab Affiliation', '3201 - CD Cab Co Inc', '1247 - 72807 Daniel Ayertey', 'Chicago Medallion Leasing INC', '5997 - 65283 AW Services Inc.', '2192 - 73487 Zeymane Corp', '3319 - CD Cab Co', '4623 - 27290 Jay Kim', 'Chicago Elite Cab Corp. (Chicago Carriag', '6057 - 24657 Richard Addo', '2092 - 61288 Sbeih company', '2823 - 73307 Seung Lee', '3620 - 52292 David K. Cab Corp.', '3591 - 63480 Chuks Cab', '3011 - 66308 JBL Cab Inc.', '3094 - 24059 G.L.B. Cab Co', '3201 - C&D Cab Co Inc', '2809 - 95474 C & D Cab Co Inc.', 'Suburban Dispatch LLC', '3152 - 97284 Crystal Abernathy', '5874 - 73628 Sergey Cab Corp.', 'Taxi Affiliation Services', '5062 - 34841 Sam Mestas', '3623 - 72222 Arrington Enterprises', '6742 - 83735 Tasha ride inc', 'Dispatch Taxi Affiliation', '5724 - 75306 KYVI Cab Inc', '4615 - 83503 Tyrone Henderson', 'KOAM Taxi Association', '4053 - 40193 Adwar H. Nikola', '6743 - 78771 Luhak Corp', 'Choice Taxi Association', '2733 - 74600 Benny Jona']\n"
     ]
    }
   ],
   "source": [
    "# drop trip records that do not have company name, pickup/dropoff locations\n",
    "interestedTrips = all.dropna(subset = [\"company\", \"pickup_community_area\", \\\n",
    "                                       \"dropoff_community_area\"])\n",
    "\n",
    "taxiCompanies = set(np.array(interestedTrips[\"company\"]))\n",
    "taxiCompanies = list(taxiCompanies)\n",
    "print(taxiCompanies)"
   ]
  },
  {
   "cell_type": "code",
   "execution_count": 20,
   "metadata": {},
   "outputs": [
    {
     "data": {
      "text/html": [
       "<div>\n",
       "<style>\n",
       "    .dataframe thead tr:only-child th {\n",
       "        text-align: right;\n",
       "    }\n",
       "\n",
       "    .dataframe thead th {\n",
       "        text-align: left;\n",
       "    }\n",
       "\n",
       "    .dataframe tbody tr th {\n",
       "        vertical-align: top;\n",
       "    }\n",
       "</style>\n",
       "<table border=\"1\" class=\"dataframe\">\n",
       "  <thead>\n",
       "    <tr style=\"text-align: right;\">\n",
       "      <th></th>\n",
       "      <th>company</th>\n",
       "      <th>mean</th>\n",
       "      <th>count</th>\n",
       "    </tr>\n",
       "  </thead>\n",
       "  <tbody>\n",
       "    <tr>\n",
       "      <th>0</th>\n",
       "      <td>Choice Taxi Association</td>\n",
       "      <td>16.493973</td>\n",
       "      <td>2084</td>\n",
       "    </tr>\n",
       "    <tr>\n",
       "      <th>1</th>\n",
       "      <td>Top Cab Affiliation</td>\n",
       "      <td>15.939906</td>\n",
       "      <td>533</td>\n",
       "    </tr>\n",
       "    <tr>\n",
       "      <th>2</th>\n",
       "      <td>Dispatch Taxi Affiliation</td>\n",
       "      <td>15.766749</td>\n",
       "      <td>3288</td>\n",
       "    </tr>\n",
       "    <tr>\n",
       "      <th>3</th>\n",
       "      <td>KOAM Taxi Association</td>\n",
       "      <td>15.349864</td>\n",
       "      <td>664</td>\n",
       "    </tr>\n",
       "    <tr>\n",
       "      <th>4</th>\n",
       "      <td>Taxi Affiliation Services</td>\n",
       "      <td>14.860518</td>\n",
       "      <td>10206</td>\n",
       "    </tr>\n",
       "    <tr>\n",
       "      <th>5</th>\n",
       "      <td>Blue Ribbon Taxi Association Inc.</td>\n",
       "      <td>14.536873</td>\n",
       "      <td>2539</td>\n",
       "    </tr>\n",
       "    <tr>\n",
       "      <th>6</th>\n",
       "      <td>Chicago Medallion Management</td>\n",
       "      <td>14.457898</td>\n",
       "      <td>157</td>\n",
       "    </tr>\n",
       "    <tr>\n",
       "      <th>7</th>\n",
       "      <td>Northwest Management LLC</td>\n",
       "      <td>14.042945</td>\n",
       "      <td>995</td>\n",
       "    </tr>\n",
       "    <tr>\n",
       "      <th>8</th>\n",
       "      <td>Chicago Medallion Leasing INC</td>\n",
       "      <td>13.767804</td>\n",
       "      <td>419</td>\n",
       "    </tr>\n",
       "  </tbody>\n",
       "</table>\n",
       "</div>"
      ],
      "text/plain": [
       "                             company       mean  count\n",
       "0            Choice Taxi Association  16.493973   2084\n",
       "1                Top Cab Affiliation  15.939906    533\n",
       "2          Dispatch Taxi Affiliation  15.766749   3288\n",
       "3              KOAM Taxi Association  15.349864    664\n",
       "4          Taxi Affiliation Services  14.860518  10206\n",
       "5  Blue Ribbon Taxi Association Inc.  14.536873   2539\n",
       "6       Chicago Medallion Management  14.457898    157\n",
       "7           Northwest Management LLC  14.042945    995\n",
       "8      Chicago Medallion Leasing INC  13.767804    419"
      ]
     },
     "execution_count": 20,
     "metadata": {},
     "output_type": "execute_result"
    }
   ],
   "source": [
    "meanEarnings = interestedTrips.groupby([\"company\"])[\"trip_total\"] \\\n",
    "    .agg([\"mean\", \"count\"]).sort_values(\"mean\", ascending = False).reset_index()\n",
    "\n",
    "# I only care about Taxi companies that made at least 100 trips in 2016\n",
    "meanEarnings = meanEarnings[meanEarnings[\"count\"] >= 100].reset_index(drop = True)\n",
    "\n",
    "meanEarnings"
   ]
  },
  {
   "cell_type": "code",
   "execution_count": 21,
   "metadata": {},
   "outputs": [
    {
     "name": "stdout",
     "output_type": "stream",
     "text": [
      "First: Choice Taxi Association\n",
      "Last: Chicago Medallion Leasing INC\n"
     ]
    }
   ],
   "source": [
    "first = meanEarnings.head(1)[\"company\"].iloc[0]\n",
    "print(\"First:\", first)\n",
    "\n",
    "last = meanEarnings.tail(1)[\"company\"].iloc[0]\n",
    "print(\"Last:\", last)\n",
    "\n",
    "firstDf = interestedTrips[interestedTrips[\"company\"] == first]\n",
    "lastDf = interestedTrips[interestedTrips[\"company\"] == last]"
   ]
  },
  {
   "cell_type": "code",
   "execution_count": 22,
   "metadata": {},
   "outputs": [
    {
     "data": {
      "image/png": "[encoded data removed]",
      "text/plain": [
       "<matplotlib.figure.Figure at 0x2d7209055c0>"
      ]
     },
     "metadata": {},
     "output_type": "display_data"
    },
    {
     "name": "stdout",
     "output_type": "stream",
     "text": [
      "Empirical Difference in Means: 2.7261688326561284\n",
      "\n",
      "H0 = No difference between the 2 distributions\n",
      "H1 = There is a difference between the 2 distributions\n",
      "P-Value: 0.0003 | Reject H0\n"
     ]
    }
   ],
   "source": [
    "h.compareCDF(firstDf[\"trip_total\"], lastDf[\"trip_total\"])\n",
    "\n",
    "h.identicalMeans(firstDf[\"trip_total\"], \\\n",
    "                 lastDf[\"trip_total\"], \\\n",
    "                 number_of_experiments)"
   ]
  },
  {
   "cell_type": "code",
   "execution_count": 23,
   "metadata": {},
   "outputs": [
    {
     "data": {
      "image/png": "[encoded data removed]",
      "text/plain": [
       "<matplotlib.figure.Figure at 0x2d720914b38>"
      ]
     },
     "metadata": {},
     "output_type": "display_data"
    },
    {
     "name": "stdout",
     "output_type": "stream",
     "text": [
      "Empirical Difference in Means: 1.945588871227077\n",
      "\n",
      "H0 = No difference between the 2 distributions\n",
      "H1 = There is a difference between the 2 distributions\n",
      "P-Value: 0.001 | Reject H0\n"
     ]
    }
   ],
   "source": [
    "h.compareCDF(firstDf[\"fare\"], lastDf[\"fare\"])\n",
    "h.identicalMeans(firstDf[\"fare\"], lastDf[\"fare\"], number_of_experiments)"
   ]
  },
  {
   "cell_type": "code",
   "execution_count": 24,
   "metadata": {},
   "outputs": [
    {
     "data": {
      "image/png": "[encoded data removed]",
      "text/plain": [
       "<matplotlib.figure.Figure at 0x2d7466b83c8>"
      ]
     },
     "metadata": {},
     "output_type": "display_data"
    },
    {
     "name": "stdout",
     "output_type": "stream",
     "text": [
      "Empirical Difference in Means: 0.7146433904873601\n",
      "\n",
      "H0 = No difference between the 2 distributions\n",
      "H1 = There is a difference between the 2 distributions\n",
      "P-Value: 0.0 | Reject H0\n"
     ]
    }
   ],
   "source": [
    "h.compareCDF(firstDf[\"tips\"], lastDf[\"tips\"])\n",
    "h.identicalMeans(firstDf[\"tips\"], lastDf[\"tips\"], number_of_experiments)"
   ]
  },
  {
   "cell_type": "markdown",
   "metadata": {},
   "source": [
    "### Joining socioeconomic data"
   ]
  },
  {
   "cell_type": "code",
   "execution_count": 25,
   "metadata": {},
   "outputs": [
    {
     "data": {
      "text/html": [
       "<div>\n",
       "<style>\n",
       "    .dataframe thead tr:only-child th {\n",
       "        text-align: right;\n",
       "    }\n",
       "\n",
       "    .dataframe thead th {\n",
       "        text-align: left;\n",
       "    }\n",
       "\n",
       "    .dataframe tbody tr th {\n",
       "        vertical-align: top;\n",
       "    }\n",
       "</style>\n",
       "<table border=\"1\" class=\"dataframe\">\n",
       "  <thead>\n",
       "    <tr style=\"text-align: right;\">\n",
       "      <th></th>\n",
       "      <th>taxi_id</th>\n",
       "      <th>tolls</th>\n",
       "      <th>trip_start_timestamp</th>\n",
       "      <th>trip_end_timestamp</th>\n",
       "      <th>company</th>\n",
       "      <th>dropoff_centroid_longitude</th>\n",
       "      <th>dropoff_centroid_latitude</th>\n",
       "      <th>fare</th>\n",
       "      <th>payment_type</th>\n",
       "      <th>pickup_centroid_latitude</th>\n",
       "      <th>pickup_centroid_longitude</th>\n",
       "      <th>dropoff_community_area</th>\n",
       "      <th>pickup_community_area</th>\n",
       "      <th>tips</th>\n",
       "      <th>trip_miles</th>\n",
       "      <th>trip_seconds</th>\n",
       "      <th>trip_total</th>\n",
       "      <th>season</th>\n",
       "    </tr>\n",
       "  </thead>\n",
       "  <tbody>\n",
       "    <tr>\n",
       "      <th>1694077</th>\n",
       "      <td>217db7925d31ecdc9b16571c0c900d0708676fc0a58d97...</td>\n",
       "      <td>0.0</td>\n",
       "      <td>10/09/2016 07:00 PM</td>\n",
       "      <td>10/09/2016 07:00 PM</td>\n",
       "      <td>Choice Taxi Association</td>\n",
       "      <td>-87.618868</td>\n",
       "      <td>41.890922</td>\n",
       "      <td>8.00</td>\n",
       "      <td>Cash</td>\n",
       "      <td>41.880994</td>\n",
       "      <td>-87.632746</td>\n",
       "      <td>8.0</td>\n",
       "      <td>32.0</td>\n",
       "      <td>0.00</td>\n",
       "      <td>1.6</td>\n",
       "      <td>480.0</td>\n",
       "      <td>9.00</td>\n",
       "      <td>Fall</td>\n",
       "    </tr>\n",
       "    <tr>\n",
       "      <th>431270</th>\n",
       "      <td>3faf465f2a9568fcd32838685114495ac74f11a3cf17d4...</td>\n",
       "      <td>0.0</td>\n",
       "      <td>09/10/2016 11:15 PM</td>\n",
       "      <td>09/10/2016 11:15 PM</td>\n",
       "      <td>Choice Taxi Association</td>\n",
       "      <td>-87.642649</td>\n",
       "      <td>41.879255</td>\n",
       "      <td>8.75</td>\n",
       "      <td>Cash</td>\n",
       "      <td>41.904935</td>\n",
       "      <td>-87.649907</td>\n",
       "      <td>28.0</td>\n",
       "      <td>8.0</td>\n",
       "      <td>0.00</td>\n",
       "      <td>2.1</td>\n",
       "      <td>480.0</td>\n",
       "      <td>9.75</td>\n",
       "      <td>Fall</td>\n",
       "    </tr>\n",
       "    <tr>\n",
       "      <th>2360306</th>\n",
       "      <td>0a5dfb0d81ebf2fc3e48921ca874c63dd8b31d3728d09a...</td>\n",
       "      <td>0.0</td>\n",
       "      <td>10/23/2016 02:00 AM</td>\n",
       "      <td>10/23/2016 02:00 AM</td>\n",
       "      <td>Choice Taxi Association</td>\n",
       "      <td>-87.632746</td>\n",
       "      <td>41.880994</td>\n",
       "      <td>5.25</td>\n",
       "      <td>Cash</td>\n",
       "      <td>41.880994</td>\n",
       "      <td>-87.632746</td>\n",
       "      <td>32.0</td>\n",
       "      <td>32.0</td>\n",
       "      <td>0.00</td>\n",
       "      <td>0.6</td>\n",
       "      <td>240.0</td>\n",
       "      <td>6.25</td>\n",
       "      <td>Fall</td>\n",
       "    </tr>\n",
       "    <tr>\n",
       "      <th>2120112</th>\n",
       "      <td>7e7dce4bc47f1de9dd9e4fe427408dbf9fc61d786574a5...</td>\n",
       "      <td>0.0</td>\n",
       "      <td>10/18/2016 04:45 PM</td>\n",
       "      <td>10/18/2016 05:00 PM</td>\n",
       "      <td>Choice Taxi Association</td>\n",
       "      <td>-87.619711</td>\n",
       "      <td>41.895033</td>\n",
       "      <td>5.00</td>\n",
       "      <td>Cash</td>\n",
       "      <td>41.892073</td>\n",
       "      <td>-87.628874</td>\n",
       "      <td>8.0</td>\n",
       "      <td>8.0</td>\n",
       "      <td>0.00</td>\n",
       "      <td>0.6</td>\n",
       "      <td>180.0</td>\n",
       "      <td>6.00</td>\n",
       "      <td>Fall</td>\n",
       "    </tr>\n",
       "    <tr>\n",
       "      <th>492718</th>\n",
       "      <td>8e5856141b569bb9dbbccc80fcf2b8225ae80e93accbe4...</td>\n",
       "      <td>0.0</td>\n",
       "      <td>09/13/2016 01:15 PM</td>\n",
       "      <td>09/13/2016 01:30 PM</td>\n",
       "      <td>Choice Taxi Association</td>\n",
       "      <td>-87.622173</td>\n",
       "      <td>41.870607</td>\n",
       "      <td>11.00</td>\n",
       "      <td>Credit Card</td>\n",
       "      <td>41.900221</td>\n",
       "      <td>-87.629105</td>\n",
       "      <td>32.0</td>\n",
       "      <td>8.0</td>\n",
       "      <td>2.75</td>\n",
       "      <td>2.4</td>\n",
       "      <td>960.0</td>\n",
       "      <td>13.75</td>\n",
       "      <td>Fall</td>\n",
       "    </tr>\n",
       "  </tbody>\n",
       "</table>\n",
       "</div>"
      ],
      "text/plain": [
       "                                                   taxi_id  tolls  \\\n",
       "1694077  217db7925d31ecdc9b16571c0c900d0708676fc0a58d97...    0.0   \n",
       "431270   3faf465f2a9568fcd32838685114495ac74f11a3cf17d4...    0.0   \n",
       "2360306  0a5dfb0d81ebf2fc3e48921ca874c63dd8b31d3728d09a...    0.0   \n",
       "2120112  7e7dce4bc47f1de9dd9e4fe427408dbf9fc61d786574a5...    0.0   \n",
       "492718   8e5856141b569bb9dbbccc80fcf2b8225ae80e93accbe4...    0.0   \n",
       "\n",
       "        trip_start_timestamp   trip_end_timestamp                  company  \\\n",
       "1694077  10/09/2016 07:00 PM  10/09/2016 07:00 PM  Choice Taxi Association   \n",
       "431270   09/10/2016 11:15 PM  09/10/2016 11:15 PM  Choice Taxi Association   \n",
       "2360306  10/23/2016 02:00 AM  10/23/2016 02:00 AM  Choice Taxi Association   \n",
       "2120112  10/18/2016 04:45 PM  10/18/2016 05:00 PM  Choice Taxi Association   \n",
       "492718   09/13/2016 01:15 PM  09/13/2016 01:30 PM  Choice Taxi Association   \n",
       "\n",
       "         dropoff_centroid_longitude  dropoff_centroid_latitude   fare  \\\n",
       "1694077                  -87.618868                  41.890922   8.00   \n",
       "431270                   -87.642649                  41.879255   8.75   \n",
       "2360306                  -87.632746                  41.880994   5.25   \n",
       "2120112                  -87.619711                  41.895033   5.00   \n",
       "492718                   -87.622173                  41.870607  11.00   \n",
       "\n",
       "        payment_type  pickup_centroid_latitude  pickup_centroid_longitude  \\\n",
       "1694077         Cash                 41.880994                 -87.632746   \n",
       "431270          Cash                 41.904935                 -87.649907   \n",
       "2360306         Cash                 41.880994                 -87.632746   \n",
       "2120112         Cash                 41.892073                 -87.628874   \n",
       "492718   Credit Card                 41.900221                 -87.629105   \n",
       "\n",
       "         dropoff_community_area  pickup_community_area  tips  trip_miles  \\\n",
       "1694077                     8.0                   32.0  0.00         1.6   \n",
       "431270                     28.0                    8.0  0.00         2.1   \n",
       "2360306                    32.0                   32.0  0.00         0.6   \n",
       "2120112                     8.0                    8.0  0.00         0.6   \n",
       "492718                     32.0                    8.0  2.75         2.4   \n",
       "\n",
       "         trip_seconds  trip_total season  \n",
       "1694077         480.0        9.00   Fall  \n",
       "431270          480.0        9.75   Fall  \n",
       "2360306         240.0        6.25   Fall  \n",
       "2120112         180.0        6.00   Fall  \n",
       "492718          960.0       13.75   Fall  "
      ]
     },
     "execution_count": 25,
     "metadata": {},
     "output_type": "execute_result"
    }
   ],
   "source": [
    "firstDf.head()"
   ]
  },
  {
   "cell_type": "code",
   "execution_count": 26,
   "metadata": {},
   "outputs": [
    {
     "data": {
      "text/plain": [
       "2084"
      ]
     },
     "execution_count": 26,
     "metadata": {},
     "output_type": "execute_result"
    }
   ],
   "source": [
    "len(firstDf)"
   ]
  },
  {
   "cell_type": "code",
   "execution_count": 27,
   "metadata": {},
   "outputs": [],
   "source": [
    "## the taxi data's community area data is in the decimal format. \n",
    "## formatting the econ data to follow the same format. \n",
    "\n",
    "econ[\"CommunityAreaNumber\"] = econ[\"CommunityAreaNumber\"]\\\n",
    "    .astype(\"float\").fillna(0.0)"
   ]
  },
  {
   "cell_type": "code",
   "execution_count": 28,
   "metadata": {},
   "outputs": [
    {
     "data": {
      "text/html": [
       "<div>\n",
       "<style>\n",
       "    .dataframe thead tr:only-child th {\n",
       "        text-align: right;\n",
       "    }\n",
       "\n",
       "    .dataframe thead th {\n",
       "        text-align: left;\n",
       "    }\n",
       "\n",
       "    .dataframe tbody tr th {\n",
       "        vertical-align: top;\n",
       "    }\n",
       "</style>\n",
       "<table border=\"1\" class=\"dataframe\">\n",
       "  <thead>\n",
       "    <tr style=\"text-align: right;\">\n",
       "      <th></th>\n",
       "      <th>CommunityAreaNumber</th>\n",
       "      <th>CommunityAreaName</th>\n",
       "      <th>PercentHousingCrowded</th>\n",
       "      <th>PercentBelowPoverty</th>\n",
       "      <th>PercentUnemployed</th>\n",
       "      <th>PercentNoHsDiploma</th>\n",
       "      <th>PercentUnder18OrOver64</th>\n",
       "      <th>PercentCapitaIncome</th>\n",
       "      <th>HardshipIndex</th>\n",
       "    </tr>\n",
       "  </thead>\n",
       "  <tbody>\n",
       "    <tr>\n",
       "      <th>0</th>\n",
       "      <td>1.0</td>\n",
       "      <td>Rogers Park</td>\n",
       "      <td>7.7</td>\n",
       "      <td>23.6</td>\n",
       "      <td>8.7</td>\n",
       "      <td>18.2</td>\n",
       "      <td>27.5</td>\n",
       "      <td>23939</td>\n",
       "      <td>39</td>\n",
       "    </tr>\n",
       "    <tr>\n",
       "      <th>1</th>\n",
       "      <td>2.0</td>\n",
       "      <td>West Ridge</td>\n",
       "      <td>7.8</td>\n",
       "      <td>17.2</td>\n",
       "      <td>8.8</td>\n",
       "      <td>20.8</td>\n",
       "      <td>38.5</td>\n",
       "      <td>23040</td>\n",
       "      <td>46</td>\n",
       "    </tr>\n",
       "    <tr>\n",
       "      <th>2</th>\n",
       "      <td>3.0</td>\n",
       "      <td>Uptown</td>\n",
       "      <td>3.8</td>\n",
       "      <td>24.0</td>\n",
       "      <td>8.9</td>\n",
       "      <td>11.8</td>\n",
       "      <td>22.2</td>\n",
       "      <td>35787</td>\n",
       "      <td>20</td>\n",
       "    </tr>\n",
       "    <tr>\n",
       "      <th>3</th>\n",
       "      <td>4.0</td>\n",
       "      <td>Lincoln Square</td>\n",
       "      <td>3.4</td>\n",
       "      <td>10.9</td>\n",
       "      <td>8.2</td>\n",
       "      <td>13.4</td>\n",
       "      <td>25.5</td>\n",
       "      <td>37524</td>\n",
       "      <td>17</td>\n",
       "    </tr>\n",
       "    <tr>\n",
       "      <th>4</th>\n",
       "      <td>5.0</td>\n",
       "      <td>North Center</td>\n",
       "      <td>0.3</td>\n",
       "      <td>7.5</td>\n",
       "      <td>5.2</td>\n",
       "      <td>4.5</td>\n",
       "      <td>26.2</td>\n",
       "      <td>57123</td>\n",
       "      <td>6</td>\n",
       "    </tr>\n",
       "  </tbody>\n",
       "</table>\n",
       "</div>"
      ],
      "text/plain": [
       "   CommunityAreaNumber CommunityAreaName  PercentHousingCrowded  \\\n",
       "0                  1.0       Rogers Park                    7.7   \n",
       "1                  2.0        West Ridge                    7.8   \n",
       "2                  3.0            Uptown                    3.8   \n",
       "3                  4.0    Lincoln Square                    3.4   \n",
       "4                  5.0      North Center                    0.3   \n",
       "\n",
       "   PercentBelowPoverty  PercentUnemployed  PercentNoHsDiploma  \\\n",
       "0                 23.6                8.7                18.2   \n",
       "1                 17.2                8.8                20.8   \n",
       "2                 24.0                8.9                11.8   \n",
       "3                 10.9                8.2                13.4   \n",
       "4                  7.5                5.2                 4.5   \n",
       "\n",
       "   PercentUnder18OrOver64  PercentCapitaIncome  HardshipIndex  \n",
       "0                    27.5                23939             39  \n",
       "1                    38.5                23040             46  \n",
       "2                    22.2                35787             20  \n",
       "3                    25.5                37524             17  \n",
       "4                    26.2                57123              6  "
      ]
     },
     "execution_count": 28,
     "metadata": {},
     "output_type": "execute_result"
    }
   ],
   "source": [
    "econ.head()"
   ]
  },
  {
   "cell_type": "code",
   "execution_count": 29,
   "metadata": {},
   "outputs": [
    {
     "data": {
      "text/plain": [
       "2084"
      ]
     },
     "execution_count": 29,
     "metadata": {},
     "output_type": "execute_result"
    }
   ],
   "source": [
    "firstEcon = pd.merge(firstDf, econ, left_on = \"pickup_community_area\", \\\n",
    "                     right_on = \"CommunityAreaNumber\", how = \"inner\")\n",
    "\n",
    "len(firstEcon)"
   ]
  },
  {
   "cell_type": "code",
   "execution_count": 30,
   "metadata": {},
   "outputs": [
    {
     "data": {
      "text/html": [
       "<div>\n",
       "<style>\n",
       "    .dataframe thead tr:only-child th {\n",
       "        text-align: right;\n",
       "    }\n",
       "\n",
       "    .dataframe thead th {\n",
       "        text-align: left;\n",
       "    }\n",
       "\n",
       "    .dataframe tbody tr th {\n",
       "        vertical-align: top;\n",
       "    }\n",
       "</style>\n",
       "<table border=\"1\" class=\"dataframe\">\n",
       "  <thead>\n",
       "    <tr style=\"text-align: right;\">\n",
       "      <th></th>\n",
       "      <th>taxi_id</th>\n",
       "      <th>tolls</th>\n",
       "      <th>trip_start_timestamp</th>\n",
       "      <th>trip_end_timestamp</th>\n",
       "      <th>company</th>\n",
       "      <th>dropoff_centroid_longitude</th>\n",
       "      <th>dropoff_centroid_latitude</th>\n",
       "      <th>fare</th>\n",
       "      <th>payment_type</th>\n",
       "      <th>pickup_centroid_latitude</th>\n",
       "      <th>...</th>\n",
       "      <th>season</th>\n",
       "      <th>CommunityAreaNumber</th>\n",
       "      <th>CommunityAreaName</th>\n",
       "      <th>PercentHousingCrowded</th>\n",
       "      <th>PercentBelowPoverty</th>\n",
       "      <th>PercentUnemployed</th>\n",
       "      <th>PercentNoHsDiploma</th>\n",
       "      <th>PercentUnder18OrOver64</th>\n",
       "      <th>PercentCapitaIncome</th>\n",
       "      <th>HardshipIndex</th>\n",
       "    </tr>\n",
       "  </thead>\n",
       "  <tbody>\n",
       "    <tr>\n",
       "      <th>0</th>\n",
       "      <td>217db7925d31ecdc9b16571c0c900d0708676fc0a58d97...</td>\n",
       "      <td>0.0</td>\n",
       "      <td>10/09/2016 07:00 PM</td>\n",
       "      <td>10/09/2016 07:00 PM</td>\n",
       "      <td>Choice Taxi Association</td>\n",
       "      <td>-87.618868</td>\n",
       "      <td>41.890922</td>\n",
       "      <td>8.00</td>\n",
       "      <td>Cash</td>\n",
       "      <td>41.880994</td>\n",
       "      <td>...</td>\n",
       "      <td>Fall</td>\n",
       "      <td>32.0</td>\n",
       "      <td>Loop</td>\n",
       "      <td>1.5</td>\n",
       "      <td>14.7</td>\n",
       "      <td>5.7</td>\n",
       "      <td>3.1</td>\n",
       "      <td>13.5</td>\n",
       "      <td>65526</td>\n",
       "      <td>3</td>\n",
       "    </tr>\n",
       "    <tr>\n",
       "      <th>1</th>\n",
       "      <td>0a5dfb0d81ebf2fc3e48921ca874c63dd8b31d3728d09a...</td>\n",
       "      <td>0.0</td>\n",
       "      <td>10/23/2016 02:00 AM</td>\n",
       "      <td>10/23/2016 02:00 AM</td>\n",
       "      <td>Choice Taxi Association</td>\n",
       "      <td>-87.632746</td>\n",
       "      <td>41.880994</td>\n",
       "      <td>5.25</td>\n",
       "      <td>Cash</td>\n",
       "      <td>41.880994</td>\n",
       "      <td>...</td>\n",
       "      <td>Fall</td>\n",
       "      <td>32.0</td>\n",
       "      <td>Loop</td>\n",
       "      <td>1.5</td>\n",
       "      <td>14.7</td>\n",
       "      <td>5.7</td>\n",
       "      <td>3.1</td>\n",
       "      <td>13.5</td>\n",
       "      <td>65526</td>\n",
       "      <td>3</td>\n",
       "    </tr>\n",
       "    <tr>\n",
       "      <th>2</th>\n",
       "      <td>b93c28eb6398634edc1e54ce862f4342040d61a41599a0...</td>\n",
       "      <td>0.0</td>\n",
       "      <td>09/30/2016 09:30 AM</td>\n",
       "      <td>09/30/2016 09:30 AM</td>\n",
       "      <td>Choice Taxi Association</td>\n",
       "      <td>-87.642649</td>\n",
       "      <td>41.879255</td>\n",
       "      <td>6.00</td>\n",
       "      <td>Credit Card</td>\n",
       "      <td>41.880994</td>\n",
       "      <td>...</td>\n",
       "      <td>Fall</td>\n",
       "      <td>32.0</td>\n",
       "      <td>Loop</td>\n",
       "      <td>1.5</td>\n",
       "      <td>14.7</td>\n",
       "      <td>5.7</td>\n",
       "      <td>3.1</td>\n",
       "      <td>13.5</td>\n",
       "      <td>65526</td>\n",
       "      <td>3</td>\n",
       "    </tr>\n",
       "    <tr>\n",
       "      <th>3</th>\n",
       "      <td>ecbd0442d6b871f22f17122917c37190e9aaf098687b39...</td>\n",
       "      <td>0.0</td>\n",
       "      <td>10/13/2016 11:15 PM</td>\n",
       "      <td>10/13/2016 11:30 PM</td>\n",
       "      <td>Choice Taxi Association</td>\n",
       "      <td>-87.619711</td>\n",
       "      <td>41.895033</td>\n",
       "      <td>8.50</td>\n",
       "      <td>Cash</td>\n",
       "      <td>41.880994</td>\n",
       "      <td>...</td>\n",
       "      <td>Fall</td>\n",
       "      <td>32.0</td>\n",
       "      <td>Loop</td>\n",
       "      <td>1.5</td>\n",
       "      <td>14.7</td>\n",
       "      <td>5.7</td>\n",
       "      <td>3.1</td>\n",
       "      <td>13.5</td>\n",
       "      <td>65526</td>\n",
       "      <td>3</td>\n",
       "    </tr>\n",
       "    <tr>\n",
       "      <th>4</th>\n",
       "      <td>a4e7b77d5c841738f0aa3a2d0422a7d2815d9b3ab302fe...</td>\n",
       "      <td>0.0</td>\n",
       "      <td>10/24/2016 09:00 PM</td>\n",
       "      <td>10/24/2016 09:00 PM</td>\n",
       "      <td>Choice Taxi Association</td>\n",
       "      <td>-87.642808</td>\n",
       "      <td>41.885300</td>\n",
       "      <td>6.00</td>\n",
       "      <td>Credit Card</td>\n",
       "      <td>41.880994</td>\n",
       "      <td>...</td>\n",
       "      <td>Fall</td>\n",
       "      <td>32.0</td>\n",
       "      <td>Loop</td>\n",
       "      <td>1.5</td>\n",
       "      <td>14.7</td>\n",
       "      <td>5.7</td>\n",
       "      <td>3.1</td>\n",
       "      <td>13.5</td>\n",
       "      <td>65526</td>\n",
       "      <td>3</td>\n",
       "    </tr>\n",
       "  </tbody>\n",
       "</table>\n",
       "<p>5 rows × 27 columns</p>\n",
       "</div>"
      ],
      "text/plain": [
       "                                             taxi_id  tolls  \\\n",
       "0  217db7925d31ecdc9b16571c0c900d0708676fc0a58d97...    0.0   \n",
       "1  0a5dfb0d81ebf2fc3e48921ca874c63dd8b31d3728d09a...    0.0   \n",
       "2  b93c28eb6398634edc1e54ce862f4342040d61a41599a0...    0.0   \n",
       "3  ecbd0442d6b871f22f17122917c37190e9aaf098687b39...    0.0   \n",
       "4  a4e7b77d5c841738f0aa3a2d0422a7d2815d9b3ab302fe...    0.0   \n",
       "\n",
       "  trip_start_timestamp   trip_end_timestamp                  company  \\\n",
       "0  10/09/2016 07:00 PM  10/09/2016 07:00 PM  Choice Taxi Association   \n",
       "1  10/23/2016 02:00 AM  10/23/2016 02:00 AM  Choice Taxi Association   \n",
       "2  09/30/2016 09:30 AM  09/30/2016 09:30 AM  Choice Taxi Association   \n",
       "3  10/13/2016 11:15 PM  10/13/2016 11:30 PM  Choice Taxi Association   \n",
       "4  10/24/2016 09:00 PM  10/24/2016 09:00 PM  Choice Taxi Association   \n",
       "\n",
       "   dropoff_centroid_longitude  dropoff_centroid_latitude  fare payment_type  \\\n",
       "0                  -87.618868                  41.890922  8.00         Cash   \n",
       "1                  -87.632746                  41.880994  5.25         Cash   \n",
       "2                  -87.642649                  41.879255  6.00  Credit Card   \n",
       "3                  -87.619711                  41.895033  8.50         Cash   \n",
       "4                  -87.642808                  41.885300  6.00  Credit Card   \n",
       "\n",
       "   pickup_centroid_latitude      ...       season  CommunityAreaNumber  \\\n",
       "0                 41.880994      ...         Fall                 32.0   \n",
       "1                 41.880994      ...         Fall                 32.0   \n",
       "2                 41.880994      ...         Fall                 32.0   \n",
       "3                 41.880994      ...         Fall                 32.0   \n",
       "4                 41.880994      ...         Fall                 32.0   \n",
       "\n",
       "   CommunityAreaName  PercentHousingCrowded  PercentBelowPoverty  \\\n",
       "0               Loop                    1.5                 14.7   \n",
       "1               Loop                    1.5                 14.7   \n",
       "2               Loop                    1.5                 14.7   \n",
       "3               Loop                    1.5                 14.7   \n",
       "4               Loop                    1.5                 14.7   \n",
       "\n",
       "   PercentUnemployed  PercentNoHsDiploma PercentUnder18OrOver64  \\\n",
       "0                5.7                 3.1                   13.5   \n",
       "1                5.7                 3.1                   13.5   \n",
       "2                5.7                 3.1                   13.5   \n",
       "3                5.7                 3.1                   13.5   \n",
       "4                5.7                 3.1                   13.5   \n",
       "\n",
       "   PercentCapitaIncome HardshipIndex  \n",
       "0                65526             3  \n",
       "1                65526             3  \n",
       "2                65526             3  \n",
       "3                65526             3  \n",
       "4                65526             3  \n",
       "\n",
       "[5 rows x 27 columns]"
      ]
     },
     "execution_count": 30,
     "metadata": {},
     "output_type": "execute_result"
    }
   ],
   "source": [
    "firstEcon.head()"
   ]
  }
 ],
 "metadata": {
  "kernelspec": {
   "display_name": "Python 3",
   "language": "python",
   "name": "python3"
  },
  "language_info": {
   "codemirror_mode": {
    "name": "ipython",
    "version": 3
   },
   "file_extension": ".py",
   "mimetype": "text/x-python",
   "name": "python",
   "nbconvert_exporter": "python",
   "pygments_lexer": "ipython3",
   "version": "3.6.1"
  }
 },
 "nbformat": 4,
 "nbformat_minor": 2
}
