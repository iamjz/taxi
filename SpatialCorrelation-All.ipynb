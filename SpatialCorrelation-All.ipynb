{
 "cells": [
  {
   "cell_type": "code",
   "execution_count": 1,
   "metadata": {},
   "outputs": [
    {
     "name": "stderr",
     "output_type": "stream",
     "text": [
      "Warning message:\n",
      "\"package 'rgdal' was built under R version 3.4.2\"Warning message:\n",
      "\"package 'sp' was built under R version 3.4.2\"Warning message:\n",
      "\"package 'spdep' was built under R version 3.4.2\"Warning message:\n",
      "\"package 'classInt' was built under R version 3.4.2\"Warning message:\n",
      "\"package 'rgeos' was built under R version 3.4.2\"Warning message:\n",
      "\"package 'dplyr' was built under R version 3.4.2\"Warning message:\n",
      "\"package 'ggmap' was built under R version 3.4.4\""
     ]
    }
   ],
   "source": [
    "inLibraries = list('rgdal','spdep','classInt','rgeos','repr', 'sp', 'dplyr', 'ggmap', 'RColorBrewer')\n",
    "for (rpack in inLibraries) {\n",
    "  if (is.element(rpack,installed.packages()[,1])){           \n",
    "\n",
    "      suppressMessages(library(rpack,character.only = TRUE))    }\n",
    "    else {\n",
    "        print(paste(\"Warning:  \",rpack,\" is not an installed package\"))\n",
    "    }\n",
    "}\n",
    "\n",
    "#resize plot area\n",
    "options(repr.plot.width=6, repr.plot.height=6)"
   ]
  },
  {
   "cell_type": "code",
   "execution_count": 2,
   "metadata": {},
   "outputs": [
    {
     "name": "stdout",
     "output_type": "stream",
     "text": [
      "OGR data source with driver: ESRI Shapefile \n",
      "Source: \"data/geospatial/chicago_boundaries\", layer: \"ChicagoBoundary\"\n",
      "with 77 features\n",
      "It has 9 fields\n"
     ]
    }
   ],
   "source": [
    "# load in the Chicago polygons\n",
    "\n",
    "chiPoly <- readOGR(\"data/geospatial/chicago_boundaries\", \n",
    "                       \"ChicagoBoundary\")"
   ]
  },
  {
   "cell_type": "code",
   "execution_count": 3,
   "metadata": {},
   "outputs": [
    {
     "data": {
      "text/html": [
       "<table>\n",
       "<thead><tr><th></th><th scope=col>0</th><th scope=col>1</th><th scope=col>2</th><th scope=col>3</th><th scope=col>4</th><th scope=col>5</th></tr></thead>\n",
       "<tbody>\n",
       "\t<tr><th scope=row>perimeter</th><td>0              </td><td>0              </td><td>0              </td><td>0              </td><td>0              </td><td>0              </td></tr>\n",
       "\t<tr><th scope=row>community</th><td>DOUGLAS        </td><td>OAKLAND        </td><td>FULLER PARK    </td><td>GRAND BOULEVARD</td><td>KENWOOD        </td><td>LINCOLN SQUARE </td></tr>\n",
       "\t<tr><th scope=row>shape_len</th><td>31027.05       </td><td>19565.51       </td><td>25339.09       </td><td>28196.84       </td><td>23325.17       </td><td>36624.60       </td></tr>\n",
       "\t<tr><th scope=row>shape_area</th><td>46004621       </td><td>16913961       </td><td>19916705       </td><td>48492503       </td><td>29071742       </td><td>71352328       </td></tr>\n",
       "\t<tr><th scope=row>area</th><td>0              </td><td>0              </td><td>0              </td><td>0              </td><td>0              </td><td>0              </td></tr>\n",
       "\t<tr><th scope=row>comarea</th><td>0              </td><td>0              </td><td>0              </td><td>0              </td><td>0              </td><td>0              </td></tr>\n",
       "\t<tr><th scope=row>area_numbe</th><td>35             </td><td>36             </td><td>37             </td><td>38             </td><td>39             </td><td>4              </td></tr>\n",
       "\t<tr><th scope=row>area_num_1</th><td>35             </td><td>36             </td><td>37             </td><td>38             </td><td>39             </td><td>4              </td></tr>\n",
       "\t<tr><th scope=row>comarea_id</th><td>0              </td><td>0              </td><td>0              </td><td>0              </td><td>0              </td><td>0              </td></tr>\n",
       "</tbody>\n",
       "</table>\n"
      ],
      "text/latex": [
       "\\begin{tabular}{r|llllll}\n",
       "  & 0 & 1 & 2 & 3 & 4 & 5\\\\\n",
       "\\hline\n",
       "\tperimeter & 0               & 0               & 0               & 0               & 0               & 0              \\\\\n",
       "\tcommunity & DOUGLAS         & OAKLAND         & FULLER PARK     & GRAND BOULEVARD & KENWOOD         & LINCOLN SQUARE \\\\\n",
       "\tshape\\_len & 31027.05        & 19565.51        & 25339.09        & 28196.84        & 23325.17        & 36624.60       \\\\\n",
       "\tshape\\_area & 46004621        & 16913961        & 19916705        & 48492503        & 29071742        & 71352328       \\\\\n",
       "\tarea & 0               & 0               & 0               & 0               & 0               & 0              \\\\\n",
       "\tcomarea & 0               & 0               & 0               & 0               & 0               & 0              \\\\\n",
       "\tarea\\_numbe & 35              & 36              & 37              & 38              & 39              & 4              \\\\\n",
       "\tarea\\_num\\_1 & 35              & 36              & 37              & 38              & 39              & 4              \\\\\n",
       "\tcomarea\\_id & 0               & 0               & 0               & 0               & 0               & 0              \\\\\n",
       "\\end{tabular}\n"
      ],
      "text/markdown": [
       "\n",
       "| <!--/--> | 0 | 1 | 2 | 3 | 4 | 5 | \n",
       "|---|---|---|---|---|---|---|---|---|\n",
       "| perimeter | 0               | 0               | 0               | 0               | 0               | 0               | \n",
       "| community | DOUGLAS         | OAKLAND         | FULLER PARK     | GRAND BOULEVARD | KENWOOD         | LINCOLN SQUARE  | \n",
       "| shape_len | 31027.05        | 19565.51        | 25339.09        | 28196.84        | 23325.17        | 36624.60        | \n",
       "| shape_area | 46004621        | 16913961        | 19916705        | 48492503        | 29071742        | 71352328        | \n",
       "| area | 0               | 0               | 0               | 0               | 0               | 0               | \n",
       "| comarea | 0               | 0               | 0               | 0               | 0               | 0               | \n",
       "| area_numbe | 35              | 36              | 37              | 38              | 39              | 4               | \n",
       "| area_num_1 | 35              | 36              | 37              | 38              | 39              | 4               | \n",
       "| comarea_id | 0               | 0               | 0               | 0               | 0               | 0               | \n",
       "\n",
       "\n"
      ],
      "text/plain": [
       "           0        1        2           3               4       \n",
       "perimeter  0        0        0           0               0       \n",
       "community  DOUGLAS  OAKLAND  FULLER PARK GRAND BOULEVARD KENWOOD \n",
       "shape_len  31027.05 19565.51 25339.09    28196.84        23325.17\n",
       "shape_area 46004621 16913961 19916705    48492503        29071742\n",
       "area       0        0        0           0               0       \n",
       "comarea    0        0        0           0               0       \n",
       "area_numbe 35       36       37          38              39      \n",
       "area_num_1 35       36       37          38              39      \n",
       "comarea_id 0        0        0           0               0       \n",
       "           5             \n",
       "perimeter  0             \n",
       "community  LINCOLN SQUARE\n",
       "shape_len  36624.60      \n",
       "shape_area 71352328      \n",
       "area       0             \n",
       "comarea    0             \n",
       "area_numbe 4             \n",
       "area_num_1 4             \n",
       "comarea_id 0             "
      ]
     },
     "metadata": {},
     "output_type": "display_data"
    }
   ],
   "source": [
    "peekPoly <- head(chiPoly@data)\n",
    "t(peekPoly)"
   ]
  },
  {
   "cell_type": "code",
   "execution_count": 4,
   "metadata": {},
   "outputs": [
    {
     "data": {
      "image/png": "[encoded data removed]",
      "text/plain": [
       "Plot with title \"Chicago Communities\""
      ]
     },
     "metadata": {},
     "output_type": "display_data"
    }
   ],
   "source": [
    "plot(chiPoly, \n",
    "         col = \"lightblue\", \n",
    "         lwd = 0.2, \n",
    "         main = \"Chicago Communities\")"
   ]
  },
  {
   "cell_type": "markdown",
   "metadata": {},
   "source": [
    "## Load in trip and socioeconomic data"
   ]
  },
  {
   "cell_type": "code",
   "execution_count": null,
   "metadata": {},
   "outputs": [],
   "source": [
    "# load in taxi trips with socioeconomic data\n",
    "\n",
    "taxi <- read.csv(\"data/2016/trip_socioeconomic_joined.csv\")\n",
    "\n",
    "# Remove TaxiId\n",
    "taxi <- taxi %>%\n",
    "    select(-taxi_id)"
   ]
  },
  {
   "cell_type": "code",
   "execution_count": null,
   "metadata": {},
   "outputs": [],
   "source": [
    "t(head(taxi, 2))"
   ]
  },
  {
   "cell_type": "code",
   "execution_count": null,
   "metadata": {},
   "outputs": [],
   "source": [
    "nrow(taxi)"
   ]
  },
  {
   "cell_type": "markdown",
   "metadata": {},
   "source": [
    "### Remove outliers"
   ]
  },
  {
   "cell_type": "code",
   "execution_count": null,
   "metadata": {},
   "outputs": [],
   "source": [
    "summary(taxi$trip_total)"
   ]
  },
  {
   "cell_type": "code",
   "execution_count": null,
   "metadata": {},
   "outputs": [],
   "source": [
    "tripEarningsIQR <- IQR(taxi$trip_total)\n",
    "\n",
    "lowerQ <- quantile(taxi$trip_total)[[2]]\n",
    "upperQ <- quantile(taxi$trip_total)[[4]]\n",
    "\n",
    "upperThreshold <- (tripEarningsIQR * 1.5) + upperQ\n",
    "lowerThreshold <- 1 # price cannot be lower than $1\n",
    "\n",
    "print(upperThreshold)\n",
    "print(lowerThreshold)"
   ]
  },
  {
   "cell_type": "code",
   "execution_count": null,
   "metadata": {},
   "outputs": [],
   "source": [
    "taxi <- taxi %>% \n",
    "    filter(trip_total <= upperThreshold & trip_total >= lowerThreshold)\n",
    "\n",
    "summary(taxi$trip_total)\n",
    "print(nrow(taxi))"
   ]
  },
  {
   "cell_type": "markdown",
   "metadata": {},
   "source": [
    "### Convert to spatial data"
   ]
  },
  {
   "cell_type": "code",
   "execution_count": null,
   "metadata": {},
   "outputs": [],
   "source": [
    "# convert the long/lats to spatial point data\n",
    "\n",
    "pickupLats <- taxi$pickup_centroid_latitude\n",
    "pickupLongs <- taxi$pickup_centroid_longitude\n",
    "\n",
    "# get other attributes\n",
    "tripEarnings <- taxi$trip_total\n",
    "communityAreaNumber <- taxi$CommunityAreaNumber\n",
    "communityAreaName <- taxi$CommunityAreaName\n",
    "percentCapitaIncome <- taxi$PercentCapitaIncome\n",
    "\n",
    "# create dataframe\n",
    "data <- data.frame(tripEarnings, percentCapitaIncome, pickupLats, pickupLongs)\n",
    "head(data)"
   ]
  },
  {
   "cell_type": "code",
   "execution_count": null,
   "metadata": {},
   "outputs": [],
   "source": [
    "# combine the x and y coordinates\n",
    "\n",
    "ptcoords <- cbind(as.numeric(pickupLongs), as.numeric(pickupLats))\n",
    "head(ptcoords)"
   ]
  },
  {
   "cell_type": "code",
   "execution_count": null,
   "metadata": {},
   "outputs": [],
   "source": [
    "df <- SpatialPointsDataFrame(ptcoords, data = data)\n",
    "head(df)"
   ]
  },
  {
   "cell_type": "code",
   "execution_count": null,
   "metadata": {},
   "outputs": [],
   "source": [
    "# plot the points\n",
    "\n",
    "plot(df, col = \"darkred\", pch = 20, cex = 0.2, lwd = 0.2, \n",
    "        main = \"Taxi Pickups\", cex.main = 0.8)"
   ]
  },
  {
   "cell_type": "markdown",
   "metadata": {},
   "source": [
    "### Standardize the Coordinate Reference Systems (CRS)"
   ]
  },
  {
   "cell_type": "code",
   "execution_count": null,
   "metadata": {
    "collapsed": true
   },
   "outputs": [],
   "source": [
    "newCRS <- CRS(\"+proj=longlat +datum=WGS84 +no_defs +ellps=WGS84 +towgs84=0,0,0 +init=epsg:32610\")\n",
    "\n",
    "chiPoly <- spTransform(chiPoly, newCRS)\n",
    "proj4string(df) <- newCRS\n",
    "df <- spTransform(df, newCRS)"
   ]
  },
  {
   "cell_type": "code",
   "execution_count": null,
   "metadata": {},
   "outputs": [],
   "source": [
    "summary(df)"
   ]
  },
  {
   "cell_type": "code",
   "execution_count": null,
   "metadata": {},
   "outputs": [],
   "source": [
    "summary(chiPoly)"
   ]
  },
  {
   "cell_type": "code",
   "execution_count": null,
   "metadata": {},
   "outputs": [],
   "source": [
    "plot(chiPoly, col = \"lightgray\", main = \"Taxi Pickups\", cex.main = 1, lwd = 0.2)\n",
    "plot(df, col = \"red\", add = TRUE, pch = 20, cex = 0.3, lwd = 0.3)"
   ]
  },
  {
   "cell_type": "code",
   "execution_count": null,
   "metadata": {},
   "outputs": [],
   "source": [
    "map <- get_map(location=rowMeans(bbox(df)), zoom = 11)\n",
    "\n",
    "ggmap(map) + \n",
    "  geom_point(data = as.data.frame(df), \n",
    "             aes(pickupLongs, pickupLats, fill = tripEarnings), \n",
    "             color = \"grey70\", size = 1, shape = 21) +\n",
    "  scale_fill_gradientn(colours=rev(heat.colors(5)))"
   ]
  },
  {
   "cell_type": "markdown",
   "metadata": {},
   "source": [
    "###  Join the trips data with the Chicago polygon\n",
    "This way, we only need to do analysis on a single set"
   ]
  },
  {
   "cell_type": "code",
   "execution_count": null,
   "metadata": {
    "collapsed": true
   },
   "outputs": [],
   "source": [
    "taxiSummary <- taxi %>%\n",
    "    group_by(CommunityAreaNumber) %>%\n",
    "    summarize(\n",
    "              numberTrips = n(),\n",
    "              avgTotal = mean(trip_total),\n",
    "              avgTip = median(tips),\n",
    "              avgFare = median(fare),\n",
    "              avgMile = median(trip_miles),\n",
    "              avgSeconds = median(trip_seconds),\n",
    "              HardshipIndex = mean(HardshipIndex),\n",
    "              PercentCapitaIncome = mean(PercentCapitaIncome),\n",
    "              PercentUnder18OrOver64 = mean(PercentUnder18OrOver64),\n",
    "              PercentBelowPoverty = mean(PercentBelowPoverty),\n",
    "              PercentNoHsDiploma = mean(PercentNoHsDiploma),\n",
    "              PercentUnemployed = mean(PercentUnemployed), \n",
    "              PercentHousingCrowded = mean(PercentHousingCrowded))\n",
    "\n",
    "head(taxiSummary, 5)"
   ]
  },
  {
   "cell_type": "code",
   "execution_count": null,
   "metadata": {
    "collapsed": true
   },
   "outputs": [],
   "source": [
    "mergedPoly <- merge(x = chiPoly@data, y = taxiSummary, by.x = \"area_numbe\", by.y = \"CommunityAreaNumber\", all = TRUE)"
   ]
  },
  {
   "cell_type": "markdown",
   "metadata": {},
   "source": [
    "## Let's look through the taxi data for Chicago\n"
   ]
  },
  {
   "cell_type": "code",
   "execution_count": null,
   "metadata": {
    "collapsed": true
   },
   "outputs": [],
   "source": [
    "numcat <- 9\n",
    "pal <- brewer.pal(numcat,\"Blues\")\n",
    "q <- classIntervals(mergedPoly$avgTotal, numcat, style = \"kmeans\")\n",
    "cols <- findColours(q, pal)\n",
    "\n",
    "plot(chiPoly, col = cols, lwd = 0.2, main = \"Chicago Taxi Trips - Average Earnings Per Trip\", cex.main = 0.8)\n",
    "plot(df, col = \"pink\", border = \"grey\", add = TRUE, pch = 20, cex = 0.3, lwd = 0.3)\n",
    "brks <- round(q$brks,3)\n",
    "leg <- paste(brks[-numcat], brks[-1], sep=\" - \")\n",
    "legend(\"bottomleft\", fill = pal, legend = leg, bty = \"n\", title = \"Values\", cex = 0.7)"
   ]
  },
  {
   "cell_type": "code",
   "execution_count": null,
   "metadata": {
    "collapsed": true
   },
   "outputs": [],
   "source": [
    "numcat <- 9\n",
    "pal <- brewer.pal(numcat,\"YlGn\")\n",
    "q <- classIntervals(mergedPoly$numberTrips, numcat, style = \"kmeans\")\n",
    "cols <- findColours(q, pal)\n",
    "\n",
    "plot(chiPoly, col = cols, lwd = 0.2, main = \"Chicago Taxi Trips - Number of Trips in 2016\", cex.main = 0.8)\n",
    "plot(df, col = \"pink\", border = \"grey\", add = TRUE, pch = 20, cex = 0.3, lwd = 0.3)\n",
    "brks <- round(q$brks,3)\n",
    "leg <- paste(brks[-numcat], brks[-1], sep=\" - \")\n",
    "legend(\"bottomleft\", fill = pal, legend = leg, bty = \"n\", title = \"Values\", cex = 0.7)"
   ]
  },
  {
   "cell_type": "code",
   "execution_count": null,
   "metadata": {
    "collapsed": true
   },
   "outputs": [],
   "source": [
    "numcat <- 9\n",
    "pal <- brewer.pal(numcat,\"Greys\")\n",
    "q <- classIntervals(mergedPoly$avgMile, numcat, style = \"kmeans\")\n",
    "cols <- findColours(q, pal)\n",
    "\n",
    "plot(chiPoly, col = cols, lwd = 0.2, main = \"Chicago Taxi Trips - Average Miles Per Trip\", cex.main = 0.8)\n",
    "plot(df, col = \"red\", border = \"grey\", add = TRUE, pch = 20, cex = 0.3, lwd = 0.3)\n",
    "brks <- round(q$brks,3)\n",
    "leg <- paste(brks[-numcat], brks[-1], sep=\" - \")\n",
    "legend(\"bottomleft\", fill = pal, legend = leg, bty = \"n\", title = \"Values\", cex = 0.7)"
   ]
  },
  {
   "cell_type": "markdown",
   "metadata": {},
   "source": [
    "## Let's look through the socioeconomic data for Chicago"
   ]
  },
  {
   "cell_type": "code",
   "execution_count": null,
   "metadata": {},
   "outputs": [],
   "source": [
    "numcat <- 9\n",
    "pal <- brewer.pal(numcat,\"Greens\")\n",
    "q <- classIntervals(mergedPoly$PercentCapitaIncome, numcat, style = \"kmeans\")\n",
    "cols <- findColours(q, pal)\n",
    "\n",
    "plot(chiPoly, col = cols, lwd = 0.2, main = \"Chicago - Income\", cex.main = 0.8)\n",
    "plot(df, col = \"red\", border = \"grey\", add = TRUE, pch = 20, cex = 0.3, lwd = 0.3)\n",
    "brks <- round(q$brks,3)\n",
    "leg <- paste(brks[-numcat], brks[-1], sep=\" - \")\n",
    "legend(\"bottomleft\", fill = pal, legend = leg, bty = \"n\", title = \"Values\", cex = 0.7)"
   ]
  },
  {
   "cell_type": "code",
   "execution_count": null,
   "metadata": {},
   "outputs": [],
   "source": [
    "numcat <- 9\n",
    "pal <- brewer.pal(numcat,\"Reds\")\n",
    "q <- classIntervals(mergedPoly$HardshipIndex, numcat, style = \"kmeans\")\n",
    "cols <- findColours(q, pal)\n",
    "\n",
    "plot(chiPoly, col = cols, lwd = 0.2, main = \"Chicago - Hardship Index\", cex.main = 0.8)\n",
    "plot(df, col = \"pink\", border = \"grey\", add = TRUE, pch = 20, cex = 0.3, lwd = 0.3)\n",
    "brks <- round(q$brks,3)\n",
    "leg <- paste(brks[-numcat], brks[-1], sep=\" - \")\n",
    "legend(\"bottomleft\", fill = pal, legend = leg, bty = \"n\", title = \"Values\", cex = 0.7)"
   ]
  },
  {
   "cell_type": "code",
   "execution_count": null,
   "metadata": {},
   "outputs": [],
   "source": [
    "numcat <- 9\n",
    "pal <- brewer.pal(numcat,\"Purples\")\n",
    "q <- classIntervals(mergedPoly$PercentBelowPoverty, numcat, style = \"kmeans\")\n",
    "cols <- findColours(q, pal)\n",
    "\n",
    "plot(chiPoly, col = cols, lwd = 0.2, main = \"Chicago - Percent Below Poverty\", cex.main = 0.8)\n",
    "plot(df, col = \"pink\", border = \"grey\", add = TRUE, pch = 20, cex = 0.3, lwd = 0.3)\n",
    "brks <- round(q$brks,3)\n",
    "leg <- paste(brks[-numcat], brks[-1], sep=\" - \")\n",
    "legend(\"bottomleft\", fill = pal, legend = leg, bty = \"n\", title = \"Values\", cex = 0.7)"
   ]
  },
  {
   "cell_type": "code",
   "execution_count": null,
   "metadata": {},
   "outputs": [],
   "source": [
    "numcat <- 9\n",
    "pal <- brewer.pal(numcat,\"Oranges\")\n",
    "q <- classIntervals(mergedPoly$PercentNoHsDiploma, numcat, style = \"kmeans\")\n",
    "cols <- findColours(q, pal)\n",
    "\n",
    "plot(chiPoly, col = cols, lwd = 0.2, main = \"Chicago - Percent with No HS Diploma\", cex.main = 0.8)\n",
    "plot(df, col = \"pink\", border = \"grey\", add = TRUE, pch = 20, cex = 0.3, lwd = 0.3)\n",
    "brks <- round(q$brks,3)\n",
    "leg <- paste(brks[-numcat], brks[-1], sep=\" - \")\n",
    "legend(\"bottomleft\", fill = pal, legend = leg, bty = \"n\", title = \"Values\", cex = 0.7)"
   ]
  },
  {
   "cell_type": "code",
   "execution_count": null,
   "metadata": {
    "collapsed": true
   },
   "outputs": [],
   "source": [
    "# do spatial autocorrelation"
   ]
  }
 ],
 "metadata": {
  "kernelspec": {
   "display_name": "R",
   "language": "R",
   "name": "ir"
  },
  "language_info": {
   "codemirror_mode": "r",
   "file_extension": ".r",
   "mimetype": "text/x-r-source",
   "name": "R",
   "pygments_lexer": "r",
   "version": "3.4.1"
  }
 },
 "nbformat": 4,
 "nbformat_minor": 2
}
