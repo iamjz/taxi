{
 "cells": [
  {
   "cell_type": "code",
   "execution_count": 123,
   "metadata": {
    "collapsed": true
   },
   "outputs": [],
   "source": [
    "import requests\n",
    "import pandas as pd\n",
    "from bs4 import BeautifulSoup\n",
    "import numpy as np\n",
    "import time\n",
    "import datetime\n",
    "import os\n",
    "from pandas.io.json import json_normalize\n",
    "\n",
    "import warnings\n",
    "warnings.filterwarnings('ignore')"
   ]
  },
  {
   "cell_type": "code",
   "execution_count": 124,
   "metadata": {
    "collapsed": true
   },
   "outputs": [],
   "source": [
    "startDate = \"2017-01-01T00:00:00.000\"\n",
    "endDate = \"2017-01-02T00:00:00.000\"\n",
    "resultsPerRequest = 50000\n",
    "saveToDirectory = \"data\""
   ]
  },
  {
   "cell_type": "code",
   "execution_count": 125,
   "metadata": {
    "collapsed": true
   },
   "outputs": [],
   "source": [
    "def buildURL(startDate, endDate, resultsPerRequest):\n",
    "    url = \"https://data.cityofchicago.org/resource/wrvz-psew.json?$where=trip_start_timestamp >='{}' and trip_start_timestamp < '{}'&$limit={}\".format(startDate, endDate, resultsPerRequest)\n",
    "    return(url)   "
   ]
  },
  {
   "cell_type": "code",
   "execution_count": 126,
   "metadata": {
    "collapsed": true
   },
   "outputs": [],
   "source": [
    "def callAPI(url):\n",
    "    headers = {\"X-App-Token\": \"bjp8KrRvAPtuf809u1UXnI0Z8\"}\n",
    "    res = requests.get(url, headers = headers, verify = False)\n",
    "    print(\"API Response code: \", res.status_code)\n",
    "    if (res.status_code == 200):\n",
    "        results = res.json()\n",
    "        return(results)\n",
    "    else:\n",
    "        return(None)"
   ]
  },
  {
   "cell_type": "code",
   "execution_count": 127,
   "metadata": {},
   "outputs": [],
   "source": [
    "def gatherData(startDate, endDate, resultsPerRequest, saveToDirectory):\n",
    "    offset = 0\n",
    "    previousRecordsFound = 999\n",
    "    \n",
    "    while(previousRecordsFound > 0):\n",
    "        url = buildURL(startDate, endDate, resultsPerRequest)\n",
    "        url = url + \"&$offset={}\".format(offset)\n",
    "        \n",
    "        print(\"Calling offset {}: {}\".format(offset, url))\n",
    "        results = callAPI(url)\n",
    "        \n",
    "        if (results == None):\n",
    "            previousRecordsFound = 0\n",
    "        else:            \n",
    "            previousRecordsFound = len(results)\n",
    "            print(\"Results Found:\", previousRecordsFound)\n",
    "\n",
    "            if (previousRecordsFound > 0):\n",
    "                df = json_normalize(results)\n",
    "                fileName = \"ChiTaxi_\" + str(offset).zfill(30) + \".csv\"\n",
    "                print(\"Saving {} records to fileName: {}\".format(previousRecordsFound, fileName))\n",
    "                df.to_csv(os.path.join(saveToDirectory, fileName), index = False)\n",
    "                offset = offset + 1\n",
    "                time.sleep(10)\n",
    "                print(\"--------------------------------------------------------------------------------------------------------\")        "
   ]
  },
  {
   "cell_type": "code",
   "execution_count": 128,
   "metadata": {
    "scrolled": false
   },
   "outputs": [
    {
     "name": "stdout",
     "output_type": "stream",
     "text": [
      "Calling offset 0: https://data.cityofchicago.org/resource/wrvz-psew.json?$where=trip_start_timestamp >='2017-01-01T00:00:00.000' and trip_start_timestamp < '2017-01-02T00:00:00.000'&$limit=10000&$offset=0\n",
      "API Response code:  200\n",
      "Results Found: 10000\n",
      "Saving 10000 records to fileName: ChiTaxi_000000000000000000000000000000.csv\n",
      "--------------------------------------------------------------------------------------------------------\n",
      "Calling offset 1: https://data.cityofchicago.org/resource/wrvz-psew.json?$where=trip_start_timestamp >='2017-01-01T00:00:00.000' and trip_start_timestamp < '2017-01-02T00:00:00.000'&$limit=10000&$offset=1\n",
      "API Response code:  200\n",
      "Results Found: 10000\n",
      "Saving 10000 records to fileName: ChiTaxi_000000000000000000000000000001.csv\n",
      "--------------------------------------------------------------------------------------------------------\n",
      "Calling offset 2: https://data.cityofchicago.org/resource/wrvz-psew.json?$where=trip_start_timestamp >='2017-01-01T00:00:00.000' and trip_start_timestamp < '2017-01-02T00:00:00.000'&$limit=10000&$offset=2\n",
      "API Response code:  200\n",
      "Results Found: 10000\n",
      "Saving 10000 records to fileName: ChiTaxi_000000000000000000000000000002.csv\n",
      "--------------------------------------------------------------------------------------------------------\n",
      "Calling offset 3: https://data.cityofchicago.org/resource/wrvz-psew.json?$where=trip_start_timestamp >='2017-01-01T00:00:00.000' and trip_start_timestamp < '2017-01-02T00:00:00.000'&$limit=10000&$offset=3\n",
      "API Response code:  200\n",
      "Results Found: 10000\n",
      "Saving 10000 records to fileName: ChiTaxi_000000000000000000000000000003.csv\n",
      "--------------------------------------------------------------------------------------------------------\n",
      "Calling offset 4: https://data.cityofchicago.org/resource/wrvz-psew.json?$where=trip_start_timestamp >='2017-01-01T00:00:00.000' and trip_start_timestamp < '2017-01-02T00:00:00.000'&$limit=10000&$offset=4\n",
      "API Response code:  200\n",
      "Results Found: 10000\n",
      "Saving 10000 records to fileName: ChiTaxi_000000000000000000000000000004.csv\n",
      "--------------------------------------------------------------------------------------------------------\n",
      "Calling offset 5: https://data.cityofchicago.org/resource/wrvz-psew.json?$where=trip_start_timestamp >='2017-01-01T00:00:00.000' and trip_start_timestamp < '2017-01-02T00:00:00.000'&$limit=10000&$offset=5\n",
      "API Response code:  200\n",
      "Results Found: 10000\n",
      "Saving 10000 records to fileName: ChiTaxi_000000000000000000000000000005.csv\n",
      "--------------------------------------------------------------------------------------------------------\n",
      "Calling offset 6: https://data.cityofchicago.org/resource/wrvz-psew.json?$where=trip_start_timestamp >='2017-01-01T00:00:00.000' and trip_start_timestamp < '2017-01-02T00:00:00.000'&$limit=10000&$offset=6\n",
      "API Response code:  200\n",
      "Results Found: 10000\n",
      "Saving 10000 records to fileName: ChiTaxi_000000000000000000000000000006.csv\n",
      "--------------------------------------------------------------------------------------------------------\n",
      "Calling offset 7: https://data.cityofchicago.org/resource/wrvz-psew.json?$where=trip_start_timestamp >='2017-01-01T00:00:00.000' and trip_start_timestamp < '2017-01-02T00:00:00.000'&$limit=10000&$offset=7\n",
      "API Response code:  200\n",
      "Results Found: 10000\n",
      "Saving 10000 records to fileName: ChiTaxi_000000000000000000000000000007.csv\n",
      "--------------------------------------------------------------------------------------------------------\n",
      "Calling offset 8: https://data.cityofchicago.org/resource/wrvz-psew.json?$where=trip_start_timestamp >='2017-01-01T00:00:00.000' and trip_start_timestamp < '2017-01-02T00:00:00.000'&$limit=10000&$offset=8\n",
      "API Response code:  200\n",
      "Results Found: 10000\n",
      "Saving 10000 records to fileName: ChiTaxi_000000000000000000000000000008.csv\n",
      "--------------------------------------------------------------------------------------------------------\n",
      "Calling offset 9: https://data.cityofchicago.org/resource/wrvz-psew.json?$where=trip_start_timestamp >='2017-01-01T00:00:00.000' and trip_start_timestamp < '2017-01-02T00:00:00.000'&$limit=10000&$offset=9\n",
      "API Response code:  200\n",
      "Results Found: 10000\n",
      "Saving 10000 records to fileName: ChiTaxi_000000000000000000000000000009.csv\n",
      "--------------------------------------------------------------------------------------------------------\n",
      "Calling offset 10: https://data.cityofchicago.org/resource/wrvz-psew.json?$where=trip_start_timestamp >='2017-01-01T00:00:00.000' and trip_start_timestamp < '2017-01-02T00:00:00.000'&$limit=10000&$offset=10\n",
      "API Response code:  200\n",
      "Results Found: 10000\n",
      "Saving 10000 records to fileName: ChiTaxi_000000000000000000000000000010.csv\n",
      "--------------------------------------------------------------------------------------------------------\n",
      "Calling offset 11: https://data.cityofchicago.org/resource/wrvz-psew.json?$where=trip_start_timestamp >='2017-01-01T00:00:00.000' and trip_start_timestamp < '2017-01-02T00:00:00.000'&$limit=10000&$offset=11\n",
      "API Response code:  200\n",
      "Results Found: 10000\n",
      "Saving 10000 records to fileName: ChiTaxi_000000000000000000000000000011.csv\n",
      "--------------------------------------------------------------------------------------------------------\n",
      "Calling offset 12: https://data.cityofchicago.org/resource/wrvz-psew.json?$where=trip_start_timestamp >='2017-01-01T00:00:00.000' and trip_start_timestamp < '2017-01-02T00:00:00.000'&$limit=10000&$offset=12\n",
      "API Response code:  200\n",
      "Results Found: 10000\n",
      "Saving 10000 records to fileName: ChiTaxi_000000000000000000000000000012.csv\n",
      "--------------------------------------------------------------------------------------------------------\n",
      "Calling offset 13: https://data.cityofchicago.org/resource/wrvz-psew.json?$where=trip_start_timestamp >='2017-01-01T00:00:00.000' and trip_start_timestamp < '2017-01-02T00:00:00.000'&$limit=10000&$offset=13\n",
      "API Response code:  200\n",
      "Results Found: 10000\n",
      "Saving 10000 records to fileName: ChiTaxi_000000000000000000000000000013.csv\n",
      "--------------------------------------------------------------------------------------------------------\n",
      "Calling offset 14: https://data.cityofchicago.org/resource/wrvz-psew.json?$where=trip_start_timestamp >='2017-01-01T00:00:00.000' and trip_start_timestamp < '2017-01-02T00:00:00.000'&$limit=10000&$offset=14\n",
      "API Response code:  200\n",
      "Results Found: 10000\n",
      "Saving 10000 records to fileName: ChiTaxi_000000000000000000000000000014.csv\n",
      "--------------------------------------------------------------------------------------------------------\n",
      "Calling offset 15: https://data.cityofchicago.org/resource/wrvz-psew.json?$where=trip_start_timestamp >='2017-01-01T00:00:00.000' and trip_start_timestamp < '2017-01-02T00:00:00.000'&$limit=10000&$offset=15\n",
      "API Response code:  200\n",
      "Results Found: 10000\n",
      "Saving 10000 records to fileName: ChiTaxi_000000000000000000000000000015.csv\n",
      "--------------------------------------------------------------------------------------------------------\n",
      "Calling offset 16: https://data.cityofchicago.org/resource/wrvz-psew.json?$where=trip_start_timestamp >='2017-01-01T00:00:00.000' and trip_start_timestamp < '2017-01-02T00:00:00.000'&$limit=10000&$offset=16\n",
      "API Response code:  200\n",
      "Results Found: 10000\n",
      "Saving 10000 records to fileName: ChiTaxi_000000000000000000000000000016.csv\n",
      "--------------------------------------------------------------------------------------------------------\n",
      "Calling offset 17: https://data.cityofchicago.org/resource/wrvz-psew.json?$where=trip_start_timestamp >='2017-01-01T00:00:00.000' and trip_start_timestamp < '2017-01-02T00:00:00.000'&$limit=10000&$offset=17\n",
      "API Response code:  200\n",
      "Results Found: 10000\n",
      "Saving 10000 records to fileName: ChiTaxi_000000000000000000000000000017.csv\n",
      "--------------------------------------------------------------------------------------------------------\n",
      "Calling offset 18: https://data.cityofchicago.org/resource/wrvz-psew.json?$where=trip_start_timestamp >='2017-01-01T00:00:00.000' and trip_start_timestamp < '2017-01-02T00:00:00.000'&$limit=10000&$offset=18\n",
      "API Response code:  200\n",
      "Results Found: 10000\n",
      "Saving 10000 records to fileName: ChiTaxi_000000000000000000000000000018.csv\n",
      "--------------------------------------------------------------------------------------------------------\n",
      "Calling offset 19: https://data.cityofchicago.org/resource/wrvz-psew.json?$where=trip_start_timestamp >='2017-01-01T00:00:00.000' and trip_start_timestamp < '2017-01-02T00:00:00.000'&$limit=10000&$offset=19\n"
     ]
    },
    {
     "name": "stdout",
     "output_type": "stream",
     "text": [
      "API Response code:  200\n",
      "Results Found: 10000\n",
      "Saving 10000 records to fileName: ChiTaxi_000000000000000000000000000019.csv\n",
      "--------------------------------------------------------------------------------------------------------\n",
      "Calling offset 20: https://data.cityofchicago.org/resource/wrvz-psew.json?$where=trip_start_timestamp >='2017-01-01T00:00:00.000' and trip_start_timestamp < '2017-01-02T00:00:00.000'&$limit=10000&$offset=20\n",
      "API Response code:  200\n",
      "Results Found: 10000\n",
      "Saving 10000 records to fileName: ChiTaxi_000000000000000000000000000020.csv\n",
      "--------------------------------------------------------------------------------------------------------\n",
      "Calling offset 21: https://data.cityofchicago.org/resource/wrvz-psew.json?$where=trip_start_timestamp >='2017-01-01T00:00:00.000' and trip_start_timestamp < '2017-01-02T00:00:00.000'&$limit=10000&$offset=21\n",
      "API Response code:  200\n",
      "Results Found: 10000\n",
      "Saving 10000 records to fileName: ChiTaxi_000000000000000000000000000021.csv\n",
      "--------------------------------------------------------------------------------------------------------\n",
      "Calling offset 22: https://data.cityofchicago.org/resource/wrvz-psew.json?$where=trip_start_timestamp >='2017-01-01T00:00:00.000' and trip_start_timestamp < '2017-01-02T00:00:00.000'&$limit=10000&$offset=22\n",
      "API Response code:  200\n",
      "Results Found: 10000\n",
      "Saving 10000 records to fileName: ChiTaxi_000000000000000000000000000022.csv\n",
      "--------------------------------------------------------------------------------------------------------\n",
      "Calling offset 23: https://data.cityofchicago.org/resource/wrvz-psew.json?$where=trip_start_timestamp >='2017-01-01T00:00:00.000' and trip_start_timestamp < '2017-01-02T00:00:00.000'&$limit=10000&$offset=23\n",
      "API Response code:  200\n",
      "Results Found: 10000\n",
      "Saving 10000 records to fileName: ChiTaxi_000000000000000000000000000023.csv\n",
      "--------------------------------------------------------------------------------------------------------\n",
      "Calling offset 24: https://data.cityofchicago.org/resource/wrvz-psew.json?$where=trip_start_timestamp >='2017-01-01T00:00:00.000' and trip_start_timestamp < '2017-01-02T00:00:00.000'&$limit=10000&$offset=24\n",
      "API Response code:  200\n",
      "Results Found: 10000\n",
      "Saving 10000 records to fileName: ChiTaxi_000000000000000000000000000024.csv\n"
     ]
    },
    {
     "ename": "KeyboardInterrupt",
     "evalue": "",
     "output_type": "error",
     "traceback": [
      "\u001b[1;31m---------------------------------------------------------------------------\u001b[0m",
      "\u001b[1;31mKeyboardInterrupt\u001b[0m                         Traceback (most recent call last)",
      "\u001b[1;32m<ipython-input-128-be1bb363f291>\u001b[0m in \u001b[0;36m<module>\u001b[1;34m()\u001b[0m\n\u001b[1;32m----> 1\u001b[1;33m \u001b[0mgatherData\u001b[0m\u001b[1;33m(\u001b[0m\u001b[0mstartDate\u001b[0m\u001b[1;33m,\u001b[0m \u001b[0mendDate\u001b[0m\u001b[1;33m,\u001b[0m \u001b[0mresultsPerRequest\u001b[0m\u001b[1;33m,\u001b[0m \u001b[0msaveToDirectory\u001b[0m\u001b[1;33m)\u001b[0m\u001b[1;33m\u001b[0m\u001b[0m\n\u001b[0m",
      "\u001b[1;32m<ipython-input-127-e216eba244cb>\u001b[0m in \u001b[0;36mgatherData\u001b[1;34m(startDate, endDate, resultsPerRequest, saveToDirectory)\u001b[0m\n\u001b[0;32m     22\u001b[0m                 \u001b[0mdf\u001b[0m\u001b[1;33m.\u001b[0m\u001b[0mto_csv\u001b[0m\u001b[1;33m(\u001b[0m\u001b[0mos\u001b[0m\u001b[1;33m.\u001b[0m\u001b[0mpath\u001b[0m\u001b[1;33m.\u001b[0m\u001b[0mjoin\u001b[0m\u001b[1;33m(\u001b[0m\u001b[0msaveToDirectory\u001b[0m\u001b[1;33m,\u001b[0m \u001b[0mfileName\u001b[0m\u001b[1;33m)\u001b[0m\u001b[1;33m,\u001b[0m \u001b[0mindex\u001b[0m \u001b[1;33m=\u001b[0m \u001b[1;32mFalse\u001b[0m\u001b[1;33m)\u001b[0m\u001b[1;33m\u001b[0m\u001b[0m\n\u001b[0;32m     23\u001b[0m                 \u001b[0moffset\u001b[0m \u001b[1;33m=\u001b[0m \u001b[0moffset\u001b[0m \u001b[1;33m+\u001b[0m \u001b[1;36m1\u001b[0m\u001b[1;33m\u001b[0m\u001b[0m\n\u001b[1;32m---> 24\u001b[1;33m                 \u001b[0mtime\u001b[0m\u001b[1;33m.\u001b[0m\u001b[0msleep\u001b[0m\u001b[1;33m(\u001b[0m\u001b[1;36m10\u001b[0m\u001b[1;33m)\u001b[0m\u001b[1;33m\u001b[0m\u001b[0m\n\u001b[0m\u001b[0;32m     25\u001b[0m                 \u001b[0mprint\u001b[0m\u001b[1;33m(\u001b[0m\u001b[1;34m\"--------------------------------------------------------------------------------------------------------\"\u001b[0m\u001b[1;33m)\u001b[0m\u001b[1;33m\u001b[0m\u001b[0m\n",
      "\u001b[1;31mKeyboardInterrupt\u001b[0m: "
     ]
    }
   ],
   "source": [
    "gatherData(startDate, endDate, resultsPerRequest, saveToDirectory)"
   ]
  },
  {
   "cell_type": "code",
   "execution_count": null,
   "metadata": {
    "collapsed": true
   },
   "outputs": [],
   "source": []
  }
 ],
 "metadata": {
  "kernelspec": {
   "display_name": "Python 3",
   "language": "python",
   "name": "python3"
  },
  "language_info": {
   "codemirror_mode": {
    "name": "ipython",
    "version": 3
   },
   "file_extension": ".py",
   "mimetype": "text/x-python",
   "name": "python",
   "nbconvert_exporter": "python",
   "pygments_lexer": "ipython3",
   "version": "3.6.1"
  }
 },
 "nbformat": 4,
 "nbformat_minor": 2
}
