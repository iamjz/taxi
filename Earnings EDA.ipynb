{
 "cells": [
  {
   "cell_type": "code",
   "execution_count": 1,
   "metadata": {},
   "outputs": [],
   "source": [
    "import pandas as pd\n",
    "import seaborn as sns\n",
    "import numpy as np\n",
    "import matplotlib.pyplot as plt\n",
    "from os import listdir\n",
    "from os.path import isfile, join\n",
    "from scipy import stats\n",
    "import time\n",
    "\n",
    "# set seaborn settings\n",
    "sns.set()\n",
    "plt.rcParams[\"patch.force_edgecolor\"] = True # set lines\n",
    "\n",
    "import warnings\n",
    "warnings.filterwarnings('ignore')\n",
    "\n",
    "## import custom helper functions\n",
    "import helpers as h"
   ]
  },
  {
   "cell_type": "code",
   "execution_count": 2,
   "metadata": {},
   "outputs": [],
   "source": [
    "fallDf = pd.read_csv(\"data/2016/fall.csv\")\n",
    "winterDf = pd.read_csv(\"data/2016/winter.csv\")\n",
    "springDf = pd.read_csv(\"data/2016/spring.csv\")\n",
    "summerDf = pd.read_csv(\"data/2016/summer.csv\")"
   ]
  },
  {
   "cell_type": "code",
   "execution_count": 3,
   "metadata": {
    "collapsed": true
   },
   "outputs": [],
   "source": [
    "# i don't wanna work on the entire dataset. \n",
    "# taking a fraction only.\n",
    "\n",
    "fallFrac = fallDf.head(500000).sample(frac = 0.001)\n",
    "winterFrac = winterDf.head(500000).sample(frac = 0.001)\n",
    "springFrac = springDf.head(500000).sample(frac = 0.001)\n",
    "summerFrac = summerDf.head(500000).sample(frac = 0.001)"
   ]
  },
  {
   "cell_type": "code",
   "execution_count": 4,
   "metadata": {},
   "outputs": [],
   "source": [
    "fall = h.convertDataType(fallFrac)\n",
    "winter = h.convertDataType(winterFrac)\n",
    "spring = h.convertDataType(springFrac)\n",
    "summer = h.convertDataType(summerFrac)"
   ]
  },
  {
   "cell_type": "markdown",
   "metadata": {},
   "source": [
    "Now I have sampled version of each seasons. I'd like to look through the earnings of each company throughout each season to see who earns more. "
   ]
  },
  {
   "cell_type": "code",
   "execution_count": null,
   "metadata": {
    "collapsed": true
   },
   "outputs": [],
   "source": []
  }
 ],
 "metadata": {
  "kernelspec": {
   "display_name": "Python 3",
   "language": "python",
   "name": "python3"
  },
  "language_info": {
   "codemirror_mode": {
    "name": "ipython",
    "version": 3
   },
   "file_extension": ".py",
   "mimetype": "text/x-python",
   "name": "python",
   "nbconvert_exporter": "python",
   "pygments_lexer": "ipython3",
   "version": "3.6.1"
  }
 },
 "nbformat": 4,
 "nbformat_minor": 2
}
